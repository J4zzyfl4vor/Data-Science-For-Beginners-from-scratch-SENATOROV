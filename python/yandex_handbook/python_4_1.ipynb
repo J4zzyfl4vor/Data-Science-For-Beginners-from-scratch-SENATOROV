{
 "cells": [
  {
   "cell_type": "code",
   "execution_count": 1,
   "id": "6b429fb0",
   "metadata": {},
   "outputs": [
    {
     "data": {
      "text/plain": [
       "'Yandex handbook \"Python Basics\" answers.'"
      ]
     },
     "execution_count": 1,
     "metadata": {},
     "output_type": "execute_result"
    }
   ],
   "source": [
    "\"\"\"Yandex handbook \"Python Basics\" answers.\"\"\""
   ]
  },
  {
   "cell_type": "code",
   "execution_count": 39,
   "id": "794284be",
   "metadata": {},
   "outputs": [
    {
     "name": "stdout",
     "output_type": "stream",
     "text": [
      "Hello, Ruslan!\n"
     ]
    }
   ],
   "source": [
    "from typing import Dict, List, Tuple, TypeVar, Union\n",
    "\n",
    "# 1\n",
    "\n",
    "\n",
    "def print_hello_1(name_1: str) -> None:\n",
    "    \"\"\"Выводит приветственное сообщение.\"\"\"\n",
    "    print(f\"Hello, {name_1}!\")\n",
    "\n",
    "\n",
    "print_hello_1(\"Ruslan\")"
   ]
  },
  {
   "cell_type": "code",
   "execution_count": 51,
   "id": "39fc2c8c",
   "metadata": {},
   "outputs": [
    {
     "name": "stdout",
     "output_type": "stream",
     "text": [
      "3\n"
     ]
    }
   ],
   "source": [
    "# 2\n",
    "def gcd_2(nat_number1_2: int, nat_number2_2: int) -> int:\n",
    "    \"\"\"Вычисляет наибольший общий делитель двух чисел.\"\"\"\n",
    "    while nat_number2_2:\n",
    "        nat_number1_2, nat_number2_2 = (nat_number2_2, nat_number1_2 % nat_number2_2)\n",
    "    return nat_number1_2\n",
    "\n",
    "\n",
    "result_1_2: int = gcd_2(12, 45)\n",
    "print(result_1_2)"
   ]
  },
  {
   "cell_type": "code",
   "execution_count": 6,
   "id": "eb9d1e97",
   "metadata": {},
   "outputs": [
    {
     "name": "stdout",
     "output_type": "stream",
     "text": [
      "5\n"
     ]
    }
   ],
   "source": [
    "# 3\n",
    "\n",
    "\n",
    "def number_length_3(number_3: int) -> int:\n",
    "    \"\"\"Возвращает количество цифр в целом числе.\"\"\"\n",
    "    if number_3 != 0:\n",
    "        length_3: int = 0\n",
    "    else:\n",
    "        length_3 = 1\n",
    "    while number_3 != 0:\n",
    "        number_3 = int(number_3 / 10)\n",
    "        length_3 += 1\n",
    "    return length_3\n",
    "\n",
    "\n",
    "result_2_3: int = number_length_3(12345)\n",
    "print(result_2_3)"
   ]
  },
  {
   "cell_type": "code",
   "execution_count": 7,
   "id": "2e83c4d7",
   "metadata": {},
   "outputs": [
    {
     "name": "stdout",
     "output_type": "stream",
     "text": [
      "January\n"
     ]
    }
   ],
   "source": [
    "# 4\n",
    "\n",
    "\n",
    "def month_4(num_4: int, lang_4: str) -> str:\n",
    "    \"\"\"Возвращает название месяца по номеру и языку.\"\"\"\n",
    "    months_4: dict[str, list[str]] = {\n",
    "        \"en\": [\n",
    "            \"January\",\n",
    "            \"February\",\n",
    "            \"March\",\n",
    "            \"April\",\n",
    "            \"May\",\n",
    "            \"June\",\n",
    "            \"July\",\n",
    "            \"August\",\n",
    "            \"September\",\n",
    "            \"October\",\n",
    "            \"November\",\n",
    "            \"December\",\n",
    "        ],\n",
    "        \"ru\": [\n",
    "            \"Январь\",\n",
    "            \"Февраль\",\n",
    "            \"Март\",\n",
    "            \"Апрель\",\n",
    "            \"Май\",\n",
    "            \"Июнь\",\n",
    "            \"Июль\",\n",
    "            \"Август\",\n",
    "            \"Сентябрь\",\n",
    "            \"Октябрь\",\n",
    "            \"Ноябрь\",\n",
    "            \"Декабрь\",\n",
    "        ],\n",
    "    }\n",
    "    return months_4[lang_4][num_4 - 1]\n",
    "\n",
    "\n",
    "result_3_4: str = month_4(1, \"en\")\n",
    "print(result_3_4)"
   ]
  },
  {
   "cell_type": "code",
   "execution_count": 8,
   "id": "27c4380b",
   "metadata": {},
   "outputs": [
    {
     "name": "stdout",
     "output_type": "stream",
     "text": [
      "(1, 2, 3, 4, 5)\n"
     ]
    }
   ],
   "source": [
    "# 5\n",
    "\n",
    "\n",
    "def split_numbers_5(string_1_5: str) -> tuple[int, ...]:\n",
    "    \"\"\"Преобразует строку с числами в кортеж целых чисел.\"\"\"\n",
    "    result_5: List[int] = []\n",
    "    for number_5 in string_1_5.split():\n",
    "        result_5.append(int(number_5))\n",
    "    return tuple(result_5)\n",
    "\n",
    "\n",
    "result_4_5: tuple[int, ...] = split_numbers_5(\"1 2 3 4 5\")\n",
    "print(result_4_5)"
   ]
  },
  {
   "cell_type": "code",
   "execution_count": 9,
   "id": "f19665ec",
   "metadata": {},
   "outputs": [
    {
     "name": "stdout",
     "output_type": "stream",
     "text": [
      "Hello!\n",
      "How do you do?\n"
     ]
    }
   ],
   "source": [
    "# 6\n",
    "records_6: List[str] = []\n",
    "\n",
    "\n",
    "def modern_print_6(string_2_6: str) -> None:\n",
    "    \"\"\"Выводит строку только если она не повторяется.\"\"\"\n",
    "    if string_2_6 not in records_6:\n",
    "        records_6.append(string_2_6)\n",
    "        print(string_2_6)\n",
    "\n",
    "\n",
    "modern_print_6(\"Hello!\")\n",
    "modern_print_6(\"Hello!\")\n",
    "modern_print_6(\"How do you do?\")\n",
    "modern_print_6(\"Hello!\")"
   ]
  },
  {
   "cell_type": "code",
   "execution_count": 10,
   "id": "445e8124",
   "metadata": {},
   "outputs": [
    {
     "name": "stdout",
     "output_type": "stream",
     "text": [
      "False\n"
     ]
    }
   ],
   "source": [
    "# 7\n",
    "\n",
    "\n",
    "def can_eat_7(knight_7: tuple[int, int], cell_7: tuple[int, int]) -> bool:\n",
    "    \"\"\"Проверяет, может ли конь съесть фигуру на заданной клетке.\"\"\"\n",
    "    x_cell_7: int = knight_7[0] - cell_7[0]\n",
    "    if x_cell_7 < 0:\n",
    "        x_cell_7 = -x_cell_7\n",
    "    y_cell_7: int = knight_7[1] - cell_7[1]\n",
    "    if y_cell_7 < 0:\n",
    "        y_cell_7 = -y_cell_7\n",
    "    distances_7: List[int] = [x_cell_7, y_cell_7]\n",
    "    distances_7.sort()\n",
    "    return distances_7 == [1, 2]\n",
    "\n",
    "\n",
    "result_5_7: bool = can_eat_7((5, 5), (6, 6))\n",
    "print(result_5_7)"
   ]
  },
  {
   "cell_type": "code",
   "execution_count": 55,
   "id": "ff00ddc1",
   "metadata": {},
   "outputs": [
    {
     "name": "stdout",
     "output_type": "stream",
     "text": [
      "False\n"
     ]
    }
   ],
   "source": [
    "# 8\n",
    "def is_palindrome_8(test_8: Union[int, str, List[int], Tuple[int, ...], float]) -> bool:\n",
    "    \"\"\"Проверяет, является ли объект палиндромом.\"\"\"\n",
    "    if isinstance(test_8, (int, float)):\n",
    "        if test_8 < 0:\n",
    "            test_8 = -test_8\n",
    "        test_8 = str(test_8)\n",
    "    return test_8 == test_8[::-1]\n",
    "\n",
    "\n",
    "result_8_8: bool = is_palindrome_8(123)\n",
    "print(result_8_8)"
   ]
  },
  {
   "cell_type": "code",
   "execution_count": 12,
   "id": "f93ad35e",
   "metadata": {},
   "outputs": [
    {
     "name": "stdout",
     "output_type": "stream",
     "text": [
      "True\n"
     ]
    }
   ],
   "source": [
    "# 9\n",
    "\n",
    "\n",
    "def is_prime_9(number_9: int) -> bool:\n",
    "    \"\"\"Проверяет, является ли число простым.\"\"\"\n",
    "    if number_9 < 2:\n",
    "        return False\n",
    "    divider_9: int\n",
    "    for divider_9 in range(2, int(number_9**0.5) + 1):\n",
    "        if number_9 % divider_9 == 0:\n",
    "            return False\n",
    "    return True\n",
    "\n",
    "\n",
    "result_7_9: bool = is_prime_9(1001459)\n",
    "print(result_7_9)"
   ]
  },
  {
   "cell_type": "code",
   "execution_count": 13,
   "id": "821dc21c",
   "metadata": {},
   "outputs": [
    {
     "name": "stdout",
     "output_type": "stream",
     "text": [
      "(1, 2, 3, 4, 5)\n"
     ]
    }
   ],
   "source": [
    "# 10\n",
    "\n",
    "\n",
    "def merge_10(\n",
    "    tuple_1_10: tuple[int, ...], tuple_2_10: tuple[int, ...]\n",
    ") -> tuple[int, ...]:\n",
    "    \"\"\"Объединяет два отсортированных кортежа в один отсортированный.\"\"\"\n",
    "    turn_1_10: List[int] = list(tuple_1_10)\n",
    "    turn_2_10: List[int] = list(tuple_2_10)\n",
    "    result_10: List[int] = []\n",
    "    while turn_1_10 and turn_2_10:\n",
    "        if turn_1_10[0] > turn_2_10[0]:\n",
    "            result_10.append(turn_2_10.pop(0))\n",
    "        else:\n",
    "            result_10.append(turn_1_10.pop(0))\n",
    "    result_10.extend(turn_1_10)\n",
    "    result_10.extend(turn_2_10)\n",
    "    return tuple(result_10)\n",
    "\n",
    "\n",
    "result_8_10: tuple[int, ...] = merge_10((1, 2), (3, 4, 5))\n",
    "print(result_8_10)"
   ]
  },
  {
   "cell_type": "code",
   "execution_count": 40,
   "id": "25af9c36",
   "metadata": {},
   "outputs": [
    {
     "name": "stdout",
     "output_type": "stream",
     "text": [
      "(1, 2, 3, 4, 5)\n"
     ]
    }
   ],
   "source": [
    "# 11\n",
    "\n",
    "\n",
    "def split_numbers_11(input_line_11: str) -> Tuple[int, ...]:\n",
    "    \"\"\"Преобразует строку чисел в кортеж целых чисел.\"\"\"\n",
    "    numbers_list_11: List[int] = []\n",
    "    for num_str_11 in input_line_11.split():\n",
    "        numbers_list_11.append(int(num_str_11))\n",
    "    return tuple(numbers_list_11)\n",
    "\n",
    "\n",
    "test_line_11: str = \"1 2 3 4 5\"\n",
    "result_11: Tuple[int, ...] = split_numbers_11(test_line_11)\n",
    "print(result_11)"
   ]
  },
  {
   "cell_type": "code",
   "execution_count": 41,
   "id": "7a7d4011",
   "metadata": {},
   "outputs": [
    {
     "name": "stdout",
     "output_type": "stream",
     "text": [
      "(2, 4, 6)\n"
     ]
    }
   ],
   "source": [
    "# 12\n",
    "\n",
    "\n",
    "def find_mountains_12(height_list_12: List[int]) -> Tuple[int, ...]:\n",
    "    \"\"\"Находит позиции горных вершин в одномерном массиве.\"\"\"\n",
    "    mountains_12: List[int] = []\n",
    "    n_12: int = len(height_list_12)\n",
    "    for i_12 in range(1, n_12 - 1):\n",
    "        if height_list_12[i_12] > height_list_12[i_12 - 1]:\n",
    "            if height_list_12[i_12] > height_list_12[i_12 + 1]:\n",
    "                mountains_12.append(i_12 + 1)\n",
    "    return tuple(mountains_12)\n",
    "\n",
    "\n",
    "test_heights_12: List[int] = [1, 3, 2, 4, 1, 5, 3, 2]\n",
    "result_12: Tuple[int, ...] = find_mountains_12(test_heights_12)\n",
    "print(result_12)"
   ]
  },
  {
   "cell_type": "code",
   "execution_count": 50,
   "id": "198b0931",
   "metadata": {},
   "outputs": [
    {
     "name": "stdout",
     "output_type": "stream",
     "text": [
      "((2, 2),)\n"
     ]
    }
   ],
   "source": [
    "# 13\n",
    "def find_mountains_13(matrix_data_13: List[List[int]]) -> Tuple[Tuple[int, int], ...]:\n",
    "    \"\"\"Находит позиции горных вершин в двумерном массиве.\"\"\"\n",
    "    rows_13: int = len(matrix_data_13)\n",
    "    if rows_13 == 0:\n",
    "        return tuple()\n",
    "    cols_13: int = len(matrix_data_13[0])\n",
    "    mountains_13: List[Tuple[int, int]] = []\n",
    "    directions_13: List[Tuple[int, int]] = [\n",
    "        (-1, -1),\n",
    "        (-1, 0),\n",
    "        (-1, 1),\n",
    "        (0, -1),\n",
    "        (0, 1),\n",
    "        (1, -1),\n",
    "        (1, 0),\n",
    "        (1, 1),\n",
    "    ]\n",
    "    for i_13 in range(1, rows_13 - 1):\n",
    "        for j_13 in range(1, cols_13 - 1):\n",
    "            current_13: int = matrix_data_13[i_13][j_13]\n",
    "            is_mountain_13: bool = True\n",
    "            for di_13, dj_13 in directions_13:\n",
    "                if current_13 <= matrix_data_13[i_13 + di_13][j_13 + dj_13]:\n",
    "                    is_mountain_13 = False\n",
    "                    break\n",
    "            if is_mountain_13:\n",
    "                mountains_13.append((i_13 + 1, j_13 + 1))\n",
    "    return tuple(mountains_13)\n",
    "\n",
    "\n",
    "test_data_13: List[List[int]] = [[1, 2, 1, 3], [4, 5, 2, 6], [1, 2, 3, 1]]\n",
    "result_13: Tuple[Tuple[int, int], ...] = find_mountains_13(test_data_13)\n",
    "print(result_13)"
   ]
  },
  {
   "cell_type": "code",
   "execution_count": 43,
   "id": "827e669f",
   "metadata": {},
   "outputs": [
    {
     "name": "stdout",
     "output_type": "stream",
     "text": [
      "Hello\n",
      "World\n"
     ]
    }
   ],
   "source": [
    "# 14\n",
    "lst_14: List[str] = []\n",
    "\n",
    "\n",
    "def modern_print_14(output_string_14: str) -> None:\n",
    "    \"\"\"Выводит строку только если она не повторялась ранее.\"\"\"\n",
    "    if output_string_14 not in lst_14:\n",
    "        print(output_string_14)\n",
    "        lst_14.append(output_string_14)\n",
    "\n",
    "\n",
    "modern_print_14(\"Hello\")\n",
    "modern_print_14(\"World\")\n",
    "modern_print_14(\"Hello\")"
   ]
  },
  {
   "cell_type": "code",
   "execution_count": 53,
   "id": "d0bf731d",
   "metadata": {},
   "outputs": [
    {
     "name": "stdout",
     "output_type": "stream",
     "text": [
      "True\n"
     ]
    }
   ],
   "source": [
    "# 15\n",
    "def can_eat_15(knight_pos_15: Tuple[int, int], target_pos_15: Tuple[int, int]) -> bool:\n",
    "    \"\"\"Проверяет, может ли конь съесть фигуру за один ход.\"\"\"\n",
    "    dx_15: int = abs(knight_pos_15[0] - target_pos_15[0])\n",
    "    dy_15: int = abs(knight_pos_15[1] - target_pos_15[1])\n",
    "    return dx_15 + dy_15 == 3 and dx_15 != 0 and dy_15 != 0\n",
    "\n",
    "\n",
    "result_15: bool = can_eat_15((2, 1), (4, 2))\n",
    "print(result_15)"
   ]
  },
  {
   "cell_type": "code",
   "execution_count": 44,
   "id": "44b92468",
   "metadata": {},
   "outputs": [
    {
     "name": "stdout",
     "output_type": "stream",
     "text": [
      "{'a': 1, 'b': 2.5, 'c': 'hello'}\n"
     ]
    }
   ],
   "source": [
    "# 16\n",
    "\n",
    "\n",
    "def get_dict_16(input_text_16: str) -> Dict[str, Union[int, float, str]]:\n",
    "    \"\"\"Преобразует строку в словарь с автоматическим определением типов.\"\"\"\n",
    "\n",
    "    def convert_value_16(val_16: str) -> Union[int, float, str]:\n",
    "        try:\n",
    "            return int(val_16)\n",
    "        except ValueError:\n",
    "            try:\n",
    "                return float(val_16)\n",
    "            except ValueError:\n",
    "                return val_16\n",
    "\n",
    "    pairs_16: List[str] = input_text_16.split(\";\")\n",
    "    result_dict_16: Dict[str, Union[int, float, str]] = {}\n",
    "    for pair_16 in pairs_16:\n",
    "        key_16, value_16 = pair_16.split(\"=\")\n",
    "        result_dict_16[key_16] = convert_value_16(value_16)\n",
    "    return result_dict_16\n",
    "\n",
    "\n",
    "test_text_16: str = \"a=1;b=2.5;c=hello\"\n",
    "result_16: Dict[str, Union[int, float, str]] = get_dict_16(test_text_16)\n",
    "print(result_16)"
   ]
  },
  {
   "cell_type": "code",
   "execution_count": 45,
   "id": "72f0d54a",
   "metadata": {},
   "outputs": [
    {
     "name": "stdout",
     "output_type": "stream",
     "text": [
      "True\n",
      "True\n",
      "True\n"
     ]
    }
   ],
   "source": [
    "# 17\n",
    "\n",
    "\n",
    "def is_palindrome_17(\n",
    "    check_value_17: Union[int, str, List[int], Tuple[int, ...], float],\n",
    ") -> bool:\n",
    "    \"\"\"Проверяет, является ли объект палиндромом.\"\"\"\n",
    "    if isinstance(check_value_17, (int, float)):\n",
    "        str_value_17: str = str(abs(check_value_17))\n",
    "        return str_value_17 == str_value_17[::-1]\n",
    "    if isinstance(check_value_17, str):\n",
    "        return check_value_17 == check_value_17[::-1]\n",
    "    list_value_17: List[int] = list(check_value_17)\n",
    "    return list_value_17 == list_value_17[::-1]\n",
    "\n",
    "\n",
    "result_17_1: bool = is_palindrome_17(12321)\n",
    "result_17_2: bool = is_palindrome_17(\"abba\")\n",
    "result_17_3: bool = is_palindrome_17([1, 2, 1])\n",
    "print(result_17_1)\n",
    "print(result_17_2)\n",
    "print(result_17_3)"
   ]
  },
  {
   "cell_type": "code",
   "execution_count": 46,
   "id": "65bc9b38",
   "metadata": {},
   "outputs": [
    {
     "name": "stdout",
     "output_type": "stream",
     "text": [
      "True\n"
     ]
    }
   ],
   "source": [
    "# 18\n",
    "\n",
    "\n",
    "def is_prime_18(check_number_18: int) -> bool:\n",
    "    \"\"\"Проверяет, является ли число простым.\"\"\"\n",
    "    if check_number_18 < 2:\n",
    "        return False\n",
    "    divisor_18: int\n",
    "    for divisor_18 in range(2, int(check_number_18**0.5) + 1):\n",
    "        if check_number_18 % divisor_18 == 0:\n",
    "            return False\n",
    "    return True\n",
    "\n",
    "\n",
    "result_18: bool = is_prime_18(17)\n",
    "print(result_18)"
   ]
  },
  {
   "cell_type": "code",
   "execution_count": 56,
   "id": "a950c8fd",
   "metadata": {},
   "outputs": [
    {
     "name": "stdout",
     "output_type": "stream",
     "text": [
      "(1, 2, 3, 4, 5, 6)\n"
     ]
    }
   ],
   "source": [
    "# 19\n",
    "def merge_19(\n",
    "    t1_19: Tuple[int, ...], \n",
    "    t2_19: Tuple[int, ...]\n",
    ") -> Tuple[int, ...]:\n",
    "    \"\"\"Объединяет два кортежа и сортирует результат пузырьковой сортировкой.\"\"\"\n",
    "    combined_19: List[int] = list(t1_19) + list(t2_19)\n",
    "    n_19: int = len(combined_19)\n",
    "    i_19: int\n",
    "    j_19: int\n",
    "    for i_19 in range(n_19):\n",
    "        for j_19 in range(0, n_19 - i_19 - 1):\n",
    "            if combined_19[j_19] > combined_19[j_19 + 1]:\n",
    "                temp_19: int = combined_19[j_19]\n",
    "                combined_19[j_19] = combined_19[j_19 + 1]\n",
    "                combined_19[j_19 + 1] = temp_19\n",
    "    return tuple(combined_19)\n",
    "\n",
    "\n",
    "result_19: Tuple[int, ...] = merge_19((1, 3, 5), (2, 4, 6))\n",
    "print(result_19)"
   ]
  },
  {
   "cell_type": "code",
   "execution_count": 48,
   "id": "5e069da4",
   "metadata": {},
   "outputs": [
    {
     "name": "stdout",
     "output_type": "stream",
     "text": [
      "[4, 5, 6]\n",
      "[1, 2, 3]\n"
     ]
    }
   ],
   "source": [
    "# 20\n",
    "T = TypeVar(\"T\")\n",
    "\n",
    "\n",
    "def swap_20(list1_20: List[T], list2_20: List[T]) -> None:\n",
    "    \"\"\"Обменивает содержимое двух списков.\"\"\"\n",
    "    temp_20: List[T] = list1_20[:]\n",
    "    list1_20[:] = list2_20[:]\n",
    "    list2_20[:] = temp_20[:]\n",
    "\n",
    "\n",
    "list_a_20: List[int] = [1, 2, 3]\n",
    "list_b_20: List[int] = [4, 5, 6]\n",
    "swap_20(list_a_20, list_b_20)\n",
    "print(list_a_20)\n",
    "print(list_b_20)"
   ]
  }
 ],
 "metadata": {
  "kernelspec": {
   "display_name": "base",
   "language": "python",
   "name": "python3"
  },
  "language_info": {
   "codemirror_mode": {
    "name": "ipython",
    "version": 3
   },
   "file_extension": ".py",
   "mimetype": "text/x-python",
   "name": "python",
   "nbconvert_exporter": "python",
   "pygments_lexer": "ipython3",
   "version": "3.13.5"
  }
 },
 "nbformat": 4,
 "nbformat_minor": 5
}
