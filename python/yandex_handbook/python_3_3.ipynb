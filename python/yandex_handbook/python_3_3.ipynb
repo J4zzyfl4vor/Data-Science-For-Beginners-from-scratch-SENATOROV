{
 "cells": [
  {
   "cell_type": "code",
   "execution_count": 1,
   "id": "832910a8",
   "metadata": {},
   "outputs": [
    {
     "data": {
      "text/plain": [
       "'Yandex handbook \"Python Basics\" answers.'"
      ]
     },
     "execution_count": 1,
     "metadata": {},
     "output_type": "execute_result"
    }
   ],
   "source": [
    "\"\"\"Yandex handbook \"Python Basics\" answers.\"\"\""
   ]
  },
  {
   "cell_type": "code",
   "execution_count": 22,
   "id": "02215f1d",
   "metadata": {},
   "outputs": [
    {
     "name": "stdout",
     "output_type": "stream",
     "text": [
      "[4, 9, 16, 25]\n"
     ]
    }
   ],
   "source": [
    "# 1\n",
    "start_a: int = 2\n",
    "end_a: int = 5\n",
    "\n",
    "result_a: list[int] = []\n",
    "for num_a in range(start_a, end_a + 1):\n",
    "    result_a.append(num_a**2)\n",
    "\n",
    "print(result_a)"
   ]
  },
  {
   "cell_type": "code",
   "execution_count": 23,
   "id": "0929193f",
   "metadata": {},
   "outputs": [
    {
     "name": "stdout",
     "output_type": "stream",
     "text": [
      "[25, 16, 9, 4]\n"
     ]
    }
   ],
   "source": [
    "# 2\n",
    "start_b: int = 5\n",
    "end_b: int = 2\n",
    "\n",
    "step_b: int = 1 if start_b < end_b else -1\n",
    "result_b: list[int] = []\n",
    "\n",
    "for num_b in range(start_b, end_b + step_b, step_b):\n",
    "    result_b.append(num_b**2)\n",
    "\n",
    "print(result_b)"
   ]
  },
  {
   "cell_type": "code",
   "execution_count": 24,
   "id": "f3fa6fdf",
   "metadata": {},
   "outputs": [
    {
     "name": "stdout",
     "output_type": "stream",
     "text": [
      "[3, 6, 9]\n"
     ]
    }
   ],
   "source": [
    "# 3\n",
    "start_c: int = 1\n",
    "end_c: int = 10\n",
    "divisor_c: int = 3\n",
    "\n",
    "result_c: list[int] = []\n",
    "for num_c in range(start_c, end_c + 1):\n",
    "    if num_c % divisor_c == 0:\n",
    "        result_c.append(num_c)\n",
    "\n",
    "print(result_c)"
   ]
  },
  {
   "cell_type": "code",
   "execution_count": 25,
   "id": "1d15844e",
   "metadata": {},
   "outputs": [
    {
     "name": "stdout",
     "output_type": "stream",
     "text": [
      "{1, 3, 5, 7, 9}\n"
     ]
    }
   ],
   "source": [
    "# 4\n",
    "numbers_d: list[int] = [1, 2, 3, 4, 5, 6, 7, 8, 9]\n",
    "\n",
    "odd_set_d: set[int] = set()\n",
    "for num_d in numbers_d:\n",
    "    if num_d % 2 == 1:\n",
    "        odd_set_d.add(num_d)\n",
    "\n",
    "print(odd_set_d)"
   ]
  },
  {
   "cell_type": "code",
   "execution_count": 26,
   "id": "fa9a4af7",
   "metadata": {},
   "outputs": [
    {
     "name": "stdout",
     "output_type": "stream",
     "text": [
      "{16, 1, 4, 9}\n"
     ]
    }
   ],
   "source": [
    "# 5\n",
    "numbers_e: list[int] = [1, 2, 4, 5, 9, 10, 16]\n",
    "\n",
    "max_val_e: int = max(numbers_e) if numbers_e else 0\n",
    "squares_e: set[int] = set()\n",
    "\n",
    "for i_e in range(1, int(max_val_e**0.5) + 1):\n",
    "    squares_e.add(i_e * i_e)\n",
    "\n",
    "full_squares_e: set[int] = set()\n",
    "for num_e in numbers_e:\n",
    "    if num_e in squares_e:\n",
    "        full_squares_e.add(num_e)\n",
    "\n",
    "print(full_squares_e)"
   ]
  },
  {
   "cell_type": "code",
   "execution_count": 27,
   "id": "0656bf7c",
   "metadata": {},
   "outputs": [
    {
     "name": "stdout",
     "output_type": "stream",
     "text": [
      "[6, 3, 6]\n"
     ]
    }
   ],
   "source": [
    "# 6\n",
    "sentence_f: str = \"Привет мир Python\"\n",
    "\n",
    "lengths_f: list[int] = []\n",
    "for word_f in sentence_f.split():\n",
    "    lengths_f.append(len(word_f))\n",
    "\n",
    "print(lengths_f)"
   ]
  },
  {
   "cell_type": "code",
   "execution_count": 28,
   "id": "b3a44c70",
   "metadata": {},
   "outputs": [
    {
     "name": "stdout",
     "output_type": "stream",
     "text": [
      "123456\n"
     ]
    }
   ],
   "source": [
    "# 7\n",
    "text_g: str = \"Привет123мир456\"\n",
    "\n",
    "digits_g: str = \"\"\n",
    "for ch_g in text_g:\n",
    "    if ch_g.isdigit():\n",
    "        digits_g += ch_g\n",
    "\n",
    "print(digits_g)"
   ]
  },
  {
   "cell_type": "code",
   "execution_count": 29,
   "id": "4d07fb51",
   "metadata": {},
   "outputs": [
    {
     "name": "stdout",
     "output_type": "stream",
     "text": [
      "ЦПБ\n"
     ]
    }
   ],
   "source": [
    "# 8\n",
    "phrase_h: str = \"Центральный процессорный блок\"\n",
    "\n",
    "abbr_h: str = \"\"\n",
    "for word_h in phrase_h.split():\n",
    "    if word_h:\n",
    "        abbr_h += word_h[0]\n",
    "\n",
    "print(abbr_h.upper())"
   ]
  },
  {
   "cell_type": "code",
   "execution_count": 30,
   "id": "15fed612",
   "metadata": {},
   "outputs": [
    {
     "name": "stdout",
     "output_type": "stream",
     "text": [
      "1 - 2 - 3 - 4 - 5 - 6 - 9\n"
     ]
    }
   ],
   "source": [
    "# 9\n",
    "numbers_i: list[int] = [3, 1, 4, 1, 5, 9, 2, 6]\n",
    "\n",
    "unique_sorted_i: list[int] = sorted(set(numbers_i))\n",
    "result_i: str = \" - \".join(str(x) for x in unique_sorted_i)\n",
    "\n",
    "print(result_i)"
   ]
  },
  {
   "cell_type": "code",
   "execution_count": 31,
   "id": "9500f47f",
   "metadata": {},
   "outputs": [
    {
     "name": "stdout",
     "output_type": "stream",
     "text": [
      "['машина', 'пианино', 'аэробус', 'океан']\n"
     ]
    }
   ],
   "source": [
    "# 10\n",
    "words_j: str = \"машина пианино аэробус океан\"\n",
    "vowels_j: str = \"аяуюоёэеиыaeiouy\"\n",
    "\n",
    "selected_j: list[str] = []\n",
    "for word_j in words_j.split():\n",
    "    vowel_count_j: int = 0\n",
    "    for ch_j in word_j:\n",
    "        if ch_j.lower() in vowels_j:\n",
    "            vowel_count_j += 1\n",
    "    if vowel_count_j >= 3:\n",
    "        selected_j.append(word_j)\n",
    "\n",
    "print(selected_j)"
   ]
  },
  {
   "cell_type": "code",
   "execution_count": 32,
   "id": "53033d49",
   "metadata": {},
   "outputs": [
    {
     "name": "stdout",
     "output_type": "stream",
     "text": [
      "{1, 3, 5}\n"
     ]
    }
   ],
   "source": [
    "# 11\n",
    "numbers_k: list[int] = [1, 2, 3, 2, 4, 5, 4]\n",
    "\n",
    "unique_vals_k: set[int] = set()\n",
    "for num_k in numbers_k:\n",
    "    if numbers_k.count(num_k) == 1:\n",
    "        unique_vals_k.add(num_k)\n",
    "\n",
    "print(unique_vals_k)"
   ]
  },
  {
   "cell_type": "code",
   "execution_count": 1,
   "id": "164f662b",
   "metadata": {},
   "outputs": [
    {
     "name": "stdout",
     "output_type": "stream",
     "text": [
      "12\n"
     ]
    }
   ],
   "source": [
    "# 12\n",
    "numbers_l: list[int] = [1, 2, 3, 4]\n",
    "\n",
    "max_prod_l: int = numbers_l[0] * numbers_l[1]\n",
    "\n",
    "for i_l, x_l in enumerate(numbers_l):\n",
    "    for y_l in numbers_l[i_l + 1 :]:\n",
    "        prod_l = x_l * y_l\n",
    "        if prod_l > max_prod_l:\n",
    "            max_prod_l = prod_l\n",
    "\n",
    "print(max_prod_l)"
   ]
  },
  {
   "cell_type": "code",
   "execution_count": 34,
   "id": "d9915693",
   "metadata": {},
   "outputs": [
    {
     "name": "stdout",
     "output_type": "stream",
     "text": [
      "b\n"
     ]
    }
   ],
   "source": [
    "# 13\n",
    "data_m: dict[str, list[int]] = {\n",
    "    \"a\": [1, 2],\n",
    "    \"b\": [1, 1],\n",
    "    \"c\": [2, 2],\n",
    "}\n",
    "\n",
    "candidates_m: list[str] = list(data_m.keys())\n",
    "best_key_m: str = candidates_m[0]\n",
    "\n",
    "for key_m in candidates_m[1:]:\n",
    "    sum_current_m: int = sum(data_m[key_m])\n",
    "    sum_best_m: int = sum(data_m[best_key_m])\n",
    "    if (sum_current_m, key_m) < (sum_best_m, best_key_m):\n",
    "        best_key_m = key_m\n",
    "\n",
    "print(best_key_m)"
   ]
  },
  {
   "cell_type": "code",
   "execution_count": 35,
   "id": "b105d6e1",
   "metadata": {},
   "outputs": [
    {
     "name": "stdout",
     "output_type": "stream",
     "text": [
      "{'y'}\n"
     ]
    }
   ],
   "source": [
    "# 14\n",
    "data_n: dict[str, list[int]] = {\n",
    "    \"x\": [1, 2, 3],\n",
    "    \"y\": [1, 1, 2],\n",
    "    \"z\": [4, 5, 6],\n",
    "}\n",
    "\n",
    "bad_keys_n: set[str] = set()\n",
    "for key_n, values_n in data_n.items():\n",
    "    if len(values_n) != len(set(values_n)):\n",
    "        bad_keys_n.add(key_n)\n",
    "\n",
    "print(bad_keys_n)"
   ]
  },
  {
   "cell_type": "code",
   "execution_count": 36,
   "id": "0490c74c",
   "metadata": {},
   "outputs": [
    {
     "name": "stdout",
     "output_type": "stream",
     "text": [
      "{'h': 1, 'e': 1, 'l': 3, 'o': 2, 'w': 1, 'r': 1, 'd': 1}\n"
     ]
    }
   ],
   "source": [
    "# 15\n",
    "text_o: str = \"Hello, World!\"\n",
    "\n",
    "letter_counts_o: dict[str, int] = {}\n",
    "clean_text_o: str = text_o.lower()\n",
    "\n",
    "for ch_o in clean_text_o:\n",
    "    if ch_o.isalpha():\n",
    "        letter_counts_o[ch_o] = letter_counts_o.get(ch_o, 0) + 1\n",
    "\n",
    "print(letter_counts_o)"
   ]
  },
  {
   "cell_type": "code",
   "execution_count": 37,
   "id": "4d379ef2",
   "metadata": {},
   "outputs": [
    {
     "name": "stdout",
     "output_type": "stream",
     "text": [
      "aaabbc\n"
     ]
    }
   ],
   "source": [
    "# 16\n",
    "rle_p: list[tuple[str, int]] = [(\"a\", 3), (\"b\", 2), (\"c\", 1)]\n",
    "\n",
    "decoded_p: str = \"\"\n",
    "for char_p, count_p in rle_p:\n",
    "    decoded_p += char_p * count_p\n",
    "\n",
    "print(decoded_p)"
   ]
  },
  {
   "cell_type": "code",
   "execution_count": 38,
   "id": "c655c6c8",
   "metadata": {},
   "outputs": [
    {
     "name": "stdout",
     "output_type": "stream",
     "text": [
      "[[1, 2, 3], [2, 4, 6], [3, 6, 9]]\n"
     ]
    }
   ],
   "source": [
    "# 17\n",
    "size_q: int = 3\n",
    "\n",
    "table_q: list[list[int]] = []\n",
    "for i_q in range(1, size_q + 1):\n",
    "    row_q: list[int] = []\n",
    "    for j_q in range(1, size_q + 1):\n",
    "        row_q.append(i_q * j_q)\n",
    "    table_q.append(row_q)\n",
    "\n",
    "print(table_q)"
   ]
  },
  {
   "cell_type": "code",
   "execution_count": 39,
   "id": "2ae7a8ea",
   "metadata": {},
   "outputs": [
    {
     "name": "stdout",
     "output_type": "stream",
     "text": [
      "{6: [1, 2, 3, 6], 8: [1, 2, 4, 8], 9: [1, 3, 9]}\n"
     ]
    }
   ],
   "source": [
    "# 18\n",
    "numbers_r: list[int] = [6, 8, 9]\n",
    "\n",
    "divisors_r: dict[int, list[int]] = {}\n",
    "for num_r in numbers_r:\n",
    "    divisors_r[num_r] = []\n",
    "    for d_r in range(1, num_r + 1):\n",
    "        if num_r % d_r == 0:\n",
    "            divisors_r[num_r].append(d_r)\n",
    "\n",
    "print(divisors_r)"
   ]
  },
  {
   "cell_type": "code",
   "execution_count": 40,
   "id": "97b1e4c7",
   "metadata": {},
   "outputs": [
    {
     "name": "stdout",
     "output_type": "stream",
     "text": [
      "{2, 3, 5, 7, 11}\n"
     ]
    }
   ],
   "source": [
    "# 19\n",
    "numbers_s: list[int] = [2, 3, 4, 5, 6, 7, 8, 9, 10, 11]\n",
    "\n",
    "primes_s: set[int] = set()\n",
    "for num_s in numbers_s:\n",
    "    if num_s > 1:\n",
    "        is_prime_s: bool = True\n",
    "        for div_s in range(2, int(num_s**0.5) + 1):\n",
    "            if num_s % div_s == 0:\n",
    "                is_prime_s = False\n",
    "                break\n",
    "        if is_prime_s:\n",
    "            primes_s.add(num_s)\n",
    "\n",
    "print(primes_s)"
   ]
  },
  {
   "cell_type": "code",
   "execution_count": null,
   "id": "2c699079",
   "metadata": {},
   "outputs": [
    {
     "name": "stdout",
     "output_type": "stream",
     "text": [
      "{('мирный', 'миролюбивый'), ('мир', 'миролюбивый'), ('мир', 'мирный')}\n"
     ]
    }
   ],
   "source": [
    "# 20\n",
    "text_t: str = \"мир мирный миролюбивый\"\n",
    "\n",
    "words_t: list[str] = list(text_t.split())\n",
    "pairs_t: set[tuple[str, str]] = set()\n",
    "\n",
    "for i_t, w1_t in enumerate(words_t):\n",
    "    for w2_t in words_t[i_t + 1:]:\n",
    "        if len(set(w1_t) & set(w2_t)) >= 3:\n",
    "            if w1_t <= w2_t:\n",
    "                pair_t = (w1_t, w2_t)\n",
    "            else:\n",
    "                pair_t = (w2_t, w1_t)\n",
    "            pairs_t.add(pair_t)\n",
    "\n",
    "print(pairs_t)"
   ]
  }
 ],
 "metadata": {
  "kernelspec": {
   "display_name": "base",
   "language": "python",
   "name": "python3"
  },
  "language_info": {
   "codemirror_mode": {
    "name": "ipython",
    "version": 3
   },
   "file_extension": ".py",
   "mimetype": "text/x-python",
   "name": "python",
   "nbconvert_exporter": "python",
   "pygments_lexer": "ipython3",
   "version": "3.13.5"
  }
 },
 "nbformat": 4,
 "nbformat_minor": 5
}
