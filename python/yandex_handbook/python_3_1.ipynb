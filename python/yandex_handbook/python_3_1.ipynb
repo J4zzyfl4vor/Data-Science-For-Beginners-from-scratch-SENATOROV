{
 "cells": [
  {
   "cell_type": "code",
   "execution_count": 1,
   "id": "605c40ff",
   "metadata": {},
   "outputs": [
    {
     "data": {
      "text/plain": [
       "'Yandex handbook \"Python Basics\" answers.'"
      ]
     },
     "execution_count": 1,
     "metadata": {},
     "output_type": "execute_result"
    }
   ],
   "source": [
    "\"\"\"Yandex handbook \"Python Basics\" answers.\"\"\""
   ]
  },
  {
   "cell_type": "code",
   "execution_count": 22,
   "id": "64d50022",
   "metadata": {},
   "outputs": [
    {
     "name": "stdout",
     "output_type": "stream",
     "text": [
      "YES\n"
     ]
    }
   ],
   "source": [
    "# 1\n",
    "test_count_1: int = 2\n",
    "words_1: list[str] = [\"абрикос\", \"бобр\"]\n",
    "\n",
    "valid_all_1: bool = True\n",
    "\n",
    "for word_1 in words_1:\n",
    "    if word_1[0] not in \"абв\":\n",
    "        valid_all_1 = False\n",
    "\n",
    "print(\"YES\" if valid_all_1 else \"NO\")"
   ]
  },
  {
   "cell_type": "code",
   "execution_count": 23,
   "id": "e1cec4b0",
   "metadata": {},
   "outputs": [
    {
     "name": "stdout",
     "output_type": "stream",
     "text": [
      "Экономика вошла в пери...\n",
      "Развитие новых техноло...\n"
     ]
    }
   ],
   "source": [
    "# 2\n",
    "max_len_3: int = 25\n",
    "lines_3: list[str] = [\n",
    "    \"Экономика вошла в период рецессии\",\n",
    "    \"Развитие новых технологий в области ИИ\",\n",
    "]\n",
    "\n",
    "for line_3 in lines_3:\n",
    "    if len(line_3) <= max_len_3:\n",
    "        print(line_3)\n",
    "    else:\n",
    "        print(f\"{line_3[:max_len_3 - 3]}...\")"
   ]
  },
  {
   "cell_type": "code",
   "execution_count": 4,
   "id": "180973db",
   "metadata": {},
   "outputs": [
    {
     "name": "stdout",
     "output_type": "stream",
     "text": [
      "Экономика вошла в пери...\n",
      "Развитие новых техноло...\n"
     ]
    }
   ],
   "source": [
    "# 3\n",
    "allowed_length_3: int = 25\n",
    "texts_to_truncate_3: list[str] = [\n",
    "    \"Экономика вошла в период рецессии\",\n",
    "    \"Развитие новых технологий в области ИИ\",\n",
    "]\n",
    "\n",
    "for phrase_3 in texts_to_truncate_3:\n",
    "    if len(phrase_3) <= allowed_length_3:\n",
    "        print(phrase_3)\n",
    "    else:\n",
    "        print(f\"{phrase_3[:allowed_length_3 - 3]}...\")"
   ]
  },
  {
   "cell_type": "code",
   "execution_count": 3,
   "id": "5d8a90d4",
   "metadata": {},
   "outputs": [
    {
     "name": "stdout",
     "output_type": "stream",
     "text": [
      "Hello, world\n",
      "Goodbye\n"
     ]
    }
   ],
   "source": [
    "# 4\n",
    "entries_4: list[str] = [\n",
    "    \"##Hello, world\",\n",
    "    \"Goodbye\",\n",
    "    \"End@@@\",\n",
    "]\n",
    "\n",
    "for item_4 in entries_4:\n",
    "    if item_4.endswith(\"@@@\"):\n",
    "        continue\n",
    "    if item_4.startswith(\"##\"):\n",
    "        item_4 = item_4[2:]\n",
    "    print(item_4)"
   ]
  },
  {
   "cell_type": "code",
   "execution_count": 26,
   "id": "8d218a65",
   "metadata": {},
   "outputs": [
    {
     "name": "stdout",
     "output_type": "stream",
     "text": [
      "YES\n"
     ]
    }
   ],
   "source": [
    "# 5\n",
    "word_5: str = \"топот\"\n",
    "\n",
    "print(\"YES\" if word_5 == word_5[::-1] else \"NO\")"
   ]
  },
  {
   "cell_type": "code",
   "execution_count": 27,
   "id": "54e030e2",
   "metadata": {},
   "outputs": [
    {
     "name": "stdout",
     "output_type": "stream",
     "text": [
      "3\n"
     ]
    }
   ],
   "source": [
    "# 6\n",
    "texts_6: list[str] = [\"зайка в лесу\", \"зайка и волк\", \"зайка бежит\"]\n",
    "total_bunnies_6: int = sum(text.count(\"зайка\") for text in texts_6)\n",
    "print(total_bunnies_6)"
   ]
  },
  {
   "cell_type": "code",
   "execution_count": 1,
   "id": "51cdcb37",
   "metadata": {},
   "outputs": [
    {
     "name": "stdout",
     "output_type": "stream",
     "text": [
      "4\n"
     ]
    }
   ],
   "source": [
    "# 7\n",
    "raw_input_7: str = \"1 3\"\n",
    "parts_7: list[str] = list(raw_input_7.split())\n",
    "result_7: int = int(parts_7[0]) + int(parts_7[1])\n",
    "print(result_7)"
   ]
  },
  {
   "cell_type": "code",
   "execution_count": 29,
   "id": "116e2d45",
   "metadata": {},
   "outputs": [
    {
     "name": "stdout",
     "output_type": "stream",
     "text": [
      "1\n",
      "Заек нет =(\n",
      "1\n",
      "Заек нет =(\n"
     ]
    }
   ],
   "source": [
    "# 8\n",
    "places_8: list[str] = [\n",
    "    \"зайка у куста\",\n",
    "    \"лиса в норе\",\n",
    "    \"зайка на поле\",\n",
    "    \"медведь\",\n",
    "]\n",
    "\n",
    "for place_8 in places_8:\n",
    "    if \"зайка\" in place_8:\n",
    "        print(place_8.index(\"зайка\") + 1)\n",
    "    else:\n",
    "        print(\"Заек нет =(\")"
   ]
  },
  {
   "cell_type": "code",
   "execution_count": 30,
   "id": "13f1426a",
   "metadata": {},
   "outputs": [
    {
     "name": "stdout",
     "output_type": "stream",
     "text": [
      "for i in range(10): \n",
      "print(i)\n"
     ]
    }
   ],
   "source": [
    "# 9\n",
    "code_lines_9: list[str] = [\n",
    "    \"for i in range(10): # цикл\",\n",
    "    \"print(i)\",\n",
    "    \"\",\n",
    "]\n",
    "\n",
    "for line_9 in code_lines_9:\n",
    "    if not line_9:\n",
    "        continue\n",
    "    pos_9: int = line_9.find(\"#\")\n",
    "    if pos_9 == -1:\n",
    "        print(line_9)\n",
    "    elif pos_9 > 0:\n",
    "        print(line_9[:pos_9])\n",
    "    else:\n",
    "        pass"
   ]
  },
  {
   "cell_type": "code",
   "execution_count": 31,
   "id": "0731e182",
   "metadata": {},
   "outputs": [
    {
     "name": "stdout",
     "output_type": "stream",
     "text": [
      "и\n"
     ]
    }
   ],
   "source": [
    "# 10\n",
    "votes_10: list[str] = [\n",
    "    \"привет мир\",\n",
    "    \"мир и дружба\",\n",
    "    \"мир\",\n",
    "    \"ФИНИШ\",\n",
    "]\n",
    "\n",
    "chars_10: list[str] = []\n",
    "counts_10: list[int] = []\n",
    "\n",
    "for line_10 in votes_10:\n",
    "    if line_10 == \"ФИНИШ\":\n",
    "        break\n",
    "    clean_10: str = line_10.lower().replace(\" \", \"\")\n",
    "    for ch_10 in clean_10:\n",
    "        if ch_10 in chars_10:\n",
    "            idx_10: int = chars_10.index(ch_10)\n",
    "            counts_10[idx_10] += 1\n",
    "        else:\n",
    "            chars_10.append(ch_10)\n",
    "            counts_10.append(1)\n",
    "\n",
    "max_cnt_10: int = max(counts_10) if counts_10 else 0\n",
    "candidates_10: list[str] = [\n",
    "    ch for ch, cnt in zip(chars_10, counts_10) if cnt == max_cnt_10\n",
    "]\n",
    "candidates_10.sort()\n",
    "print(candidates_10[0] if candidates_10 else \"\")"
   ]
  },
  {
   "cell_type": "code",
   "execution_count": 32,
   "id": "366c80ac",
   "metadata": {},
   "outputs": [
    {
     "name": "stdout",
     "output_type": "stream",
     "text": [
      "Гугл внедрил новую фичу в поисковую систему\n",
      "Капитализация Гугла выросла на 10 млрд. долларов США\n"
     ]
    }
   ],
   "source": [
    "# 11\n",
    "titles_11: list[str] = [\n",
    "    \"Гугл внедрил новую фичу в поисковую систему\",\n",
    "    \"Капитализация Гугла выросла на 10 млрд. долларов США\",\n",
    "    \"Яндекс представил новый алгоритм\",\n",
    "]\n",
    "search_term_11: str = \"гугл\"\n",
    "\n",
    "for title_11 in titles_11:\n",
    "    if search_term_11.lower() in title_11.lower():\n",
    "        print(title_11)"
   ]
  },
  {
   "cell_type": "code",
   "execution_count": 33,
   "id": "1b15c800",
   "metadata": {},
   "outputs": [
    {
     "name": "stdout",
     "output_type": "stream",
     "text": [
      "Манная\n",
      "Гречневая\n",
      "Пшённая\n",
      "Овсяная\n"
     ]
    }
   ],
   "source": [
    "# 12\n",
    "menu_12: list[str] = [\"Манная\", \"Гречневая\", \"Пшённая\", \"Овсяная\", \"Рисовая\"]\n",
    "days_12: int = 4\n",
    "\n",
    "for day_12 in range(days_12):\n",
    "    print(menu_12[day_12 % len(menu_12)])"
   ]
  },
  {
   "cell_type": "code",
   "execution_count": 34,
   "id": "b32b6784",
   "metadata": {},
   "outputs": [
    {
     "name": "stdout",
     "output_type": "stream",
     "text": [
      "8\n",
      "27\n",
      "64\n"
     ]
    }
   ],
   "source": [
    "# 13\n",
    "values_13: list[int] = [2, 3, 4]\n",
    "exp_13: int = 3\n",
    "\n",
    "for val_13 in values_13:\n",
    "    print(val_13**exp_13)"
   ]
  },
  {
   "cell_type": "code",
   "execution_count": 35,
   "id": "50820ea0",
   "metadata": {},
   "outputs": [
    {
     "name": "stdout",
     "output_type": "stream",
     "text": [
      "8 27 64 \n"
     ]
    }
   ],
   "source": [
    "# 14\n",
    "data_14: str = \"2 3 4\"\n",
    "power_14: int = 3\n",
    "\n",
    "nums_14: list[int] = [int(x) for x in data_14.split()]\n",
    "\n",
    "for num_14 in nums_14:\n",
    "    print(num_14**power_14, end=\" \")\n",
    "print()"
   ]
  },
  {
   "cell_type": "code",
   "execution_count": 36,
   "id": "7ba8c4e5",
   "metadata": {},
   "outputs": [
    {
     "name": "stdout",
     "output_type": "stream",
     "text": [
      "6\n"
     ]
    }
   ],
   "source": [
    "# 15\n",
    "numbers_15: list[int] = [12, 18, 24]\n",
    "\n",
    "gcd_val_15: int = numbers_15[0]\n",
    "for num_15 in numbers_15[1:]:\n",
    "    a_15, b_15 = gcd_val_15, num_15\n",
    "    while b_15:\n",
    "        a_15, b_15 = b_15, a_15 % b_15\n",
    "    gcd_val_15 = a_15\n",
    "\n",
    "print(gcd_val_15)"
   ]
  },
  {
   "cell_type": "code",
   "execution_count": 37,
   "id": "309c8812",
   "metadata": {},
   "outputs": [
    {
     "name": "stdout",
     "output_type": "stream",
     "text": [
      "Последние новости теку...\n"
     ]
    }
   ],
   "source": [
    "# 16\n",
    "budget_16: int = 25\n",
    "lines_16: list[str] = [\"Последние новости текущего дня\"]\n",
    "\n",
    "for line_16 in lines_16:\n",
    "    if budget_16 <= 0:\n",
    "        break\n",
    "    if len(line_16) <= budget_16:\n",
    "        print(line_16)\n",
    "        budget_16 -= len(line_16)\n",
    "    else:\n",
    "        if budget_16 > 3:\n",
    "            print(line_16[: budget_16 - 3] + \"...\")\n",
    "            budget_16 = 0\n",
    "        elif budget_16 == 3:\n",
    "            print(\"...\")\n",
    "            budget_16 = 0"
   ]
  },
  {
   "cell_type": "code",
   "execution_count": 38,
   "id": "f35048d8",
   "metadata": {},
   "outputs": [
    {
     "name": "stdout",
     "output_type": "stream",
     "text": [
      "YES\n"
     ]
    }
   ],
   "source": [
    "# 17\n",
    "phrase_17: str = \"А роза упала на лапу Азора\"\n",
    "\n",
    "clean_17: str = phrase_17.replace(\" \", \"\").lower()\n",
    "print(\"YES\" if clean_17 == clean_17[::-1] else \"NO\")"
   ]
  },
  {
   "cell_type": "code",
   "execution_count": 39,
   "id": "d49fb96a",
   "metadata": {},
   "outputs": [
    {
     "name": "stdout",
     "output_type": "stream",
     "text": [
      "0 1\n",
      "1 1\n",
      "0 4\n",
      "1 1\n",
      "0 4\n",
      "1 9\n",
      "0 1\n",
      "1 5\n",
      "0 14\n",
      "1 8\n"
     ]
    }
   ],
   "source": [
    "# 18\n",
    "seq_18: str = \"010000100001111111110111110000000000000011111111\"\n",
    "\n",
    "current_18: str = seq_18[0]\n",
    "count_18: int = 1\n",
    "\n",
    "for ch_18 in seq_18[1:]:\n",
    "    if ch_18 == current_18:\n",
    "        count_18 += 1\n",
    "    else:\n",
    "        print(current_18, count_18)\n",
    "        current_18 = ch_18\n",
    "        count_18 = 1\n",
    "\n",
    "print(current_18, count_18)"
   ]
  },
  {
   "cell_type": "code",
   "execution_count": 2,
   "id": "138f4fa0",
   "metadata": {},
   "outputs": [
    {
     "name": "stdout",
     "output_type": "stream",
     "text": [
      "1\n"
     ]
    }
   ],
   "source": [
    "# 19\n",
    "rpn_expr_19: str = \"7 2 3 * -\"\n",
    "tokens_19: list[str] = list(rpn_expr_19.split())\n",
    "\n",
    "stack_19: list[int] = []\n",
    "\n",
    "for token_19 in tokens_19:\n",
    "    if token_19 in \"+-*/\":\n",
    "        b_19 = stack_19.pop()\n",
    "        a_19 = stack_19.pop()\n",
    "        if token_19 == \"+\":\n",
    "            stack_19.append(a_19 + b_19)\n",
    "        elif token_19 == \"-\":\n",
    "            stack_19.append(a_19 - b_19)\n",
    "        elif token_19 == \"*\":\n",
    "            stack_19.append(a_19 * b_19)\n",
    "        elif token_19 == \"/\":\n",
    "            stack_19.append(int(a_19 / b_19))\n",
    "    else:\n",
    "        stack_19.append(int(token_19))\n",
    "\n",
    "print(stack_19[0])"
   ]
  },
  {
   "cell_type": "code",
   "execution_count": 3,
   "id": "aaefaacd",
   "metadata": {},
   "outputs": [
    {
     "name": "stdout",
     "output_type": "stream",
     "text": [
      "7\n"
     ]
    }
   ],
   "source": [
    "# 20\n",
    "expr_20: str = \"7 1 10 100 # * ! ~ 100 / @ -\"\n",
    "tokens_20: list[str] = list(expr_20.split())\n",
    "\n",
    "stack_20: list[int] = []\n",
    "\n",
    "for token_20 in tokens_20:\n",
    "    if token_20 == \"~\":\n",
    "        op_20 = stack_20.pop()\n",
    "        stack_20.append(-op_20)\n",
    "    elif token_20 == \"#\":\n",
    "        op_20 = stack_20.pop()\n",
    "        stack_20.append(op_20)\n",
    "        stack_20.append(op_20)\n",
    "    elif token_20 == \"!\":\n",
    "        op_20 = stack_20.pop()\n",
    "        fact_20 = 1\n",
    "        for i_20 in range(1, op_20 + 1):\n",
    "            fact_20 *= i_20\n",
    "        stack_20.append(fact_20)\n",
    "    elif token_20 == \"@\":\n",
    "        c_20 = stack_20.pop()\n",
    "        b_20 = stack_20.pop()\n",
    "        a_20 = stack_20.pop()\n",
    "        stack_20.extend([b_20, c_20, a_20])\n",
    "    elif token_20 in \"+-*/\":\n",
    "        b_20 = stack_20.pop()\n",
    "        a_20 = stack_20.pop()\n",
    "        if token_20 == \"+\":\n",
    "            stack_20.append(a_20 + b_20)\n",
    "        elif token_20 == \"-\":\n",
    "            stack_20.append(a_20 - b_20)\n",
    "        elif token_20 == \"*\":\n",
    "            stack_20.append(a_20 * b_20)\n",
    "        elif token_20 == \"/\":\n",
    "            stack_20.append(a_20 // b_20)\n",
    "    else:\n",
    "        stack_20.append(int(token_20))\n",
    "\n",
    "print(stack_20[0])"
   ]
  }
 ],
 "metadata": {
  "kernelspec": {
   "display_name": "base",
   "language": "python",
   "name": "python3"
  },
  "language_info": {
   "codemirror_mode": {
    "name": "ipython",
    "version": 3
   },
   "file_extension": ".py",
   "mimetype": "text/x-python",
   "name": "python",
   "nbconvert_exporter": "python",
   "pygments_lexer": "ipython3",
   "version": "3.13.5"
  }
 },
 "nbformat": 4,
 "nbformat_minor": 5
}
