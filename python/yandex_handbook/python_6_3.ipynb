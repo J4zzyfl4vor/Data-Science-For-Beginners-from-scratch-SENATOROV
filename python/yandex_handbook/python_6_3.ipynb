{
 "cells": [
  {
   "cell_type": "code",
   "execution_count": 1,
   "id": "22d65c9c",
   "metadata": {},
   "outputs": [
    {
     "data": {
      "text/plain": [
       "'Модуль requests.'"
      ]
     },
     "execution_count": 1,
     "metadata": {},
     "output_type": "execute_result"
    }
   ],
   "source": [
    "\"\"\"Модуль requests.\"\"\""
   ]
  },
  {
   "cell_type": "code",
   "execution_count": null,
   "id": "f9f1f6ab",
   "metadata": {},
   "outputs": [],
   "source": [
    "from __future__ import annotations\n",
    "\n",
    "import json\n",
    "from json.decoder import JSONDecodeError\n",
    "\n",
    "from requests import delete, get, post, put\n",
    "from requests.models import Response"
   ]
  },
  {
   "cell_type": "code",
   "execution_count": 25,
   "id": "ab5e595d",
   "metadata": {},
   "outputs": [],
   "source": [
    "# 1\n",
    "def api_greeting_1() -> str:\n",
    "    \"\"\"Возвращает приветственное сообщение от сервера.\"\"\"\n",
    "    response: Response = get(\"http://127.0.0.1:5000/\")\n",
    "    answer: str = response.content.decode(\"utf-8\")\n",
    "    return answer"
   ]
  },
  {
   "cell_type": "code",
   "execution_count": 26,
   "id": "ce22526d",
   "metadata": {},
   "outputs": [],
   "source": [
    "# 2\n",
    "def sum_numbers_until_zero_2(address: str) -> int:\n",
    "    \"\"\"Суммирует числа от сервера до получения нуля.\"\"\"\n",
    "    total: int = 0\n",
    "    while True:\n",
    "        response: Response = get(f\"http://{address}/\")\n",
    "        number: int = int(response.content.decode(\"utf-8\"))\n",
    "        if number == 0:\n",
    "            break\n",
    "        total += number\n",
    "    return total"
   ]
  },
  {
   "cell_type": "code",
   "execution_count": 27,
   "id": "17ea1cd8",
   "metadata": {},
   "outputs": [],
   "source": [
    "# 3\n",
    "def sum_integers_from_json_3(address: str) -> int:\n",
    "    \"\"\"Суммирует целые числа из JSON ответа сервера.\"\"\"\n",
    "    response: Response = get(f\"http://{address}/\")\n",
    "    data: list[int | str] = response.json()\n",
    "    numbers: list[int] = [x for x in data if isinstance(x, int)]\n",
    "    return sum(numbers)"
   ]
  },
  {
   "cell_type": "code",
   "execution_count": 28,
   "id": "b8120636",
   "metadata": {},
   "outputs": [],
   "source": [
    "# 4\n",
    "def get_value_by_key_4(address: str, key: str) -> str:\n",
    "    \"\"\"Возвращает значение по ключу из JSON ответа сервера.\"\"\"\n",
    "    response: Response = get(f\"http://{address}/\")\n",
    "    data: dict[str, int | str] = response.json()\n",
    "    return str(data.get(key, \"No data\"))"
   ]
  },
  {
   "cell_type": "code",
   "execution_count": 29,
   "id": "d204091a",
   "metadata": {},
   "outputs": [],
   "source": [
    "# 5\n",
    "def sum_numbers_from_paths_5(address: str, paths: list[str]) -> int:\n",
    "    \"\"\"Суммирует числа из всех указанных путей на сервере.\"\"\"\n",
    "    all_numbers: list[int] = []\n",
    "    for path in paths:\n",
    "        url: str = f\"http://{address}{path}\"\n",
    "        data: list[int] = get(url).json()\n",
    "        all_numbers.extend(data)\n",
    "    return sum(all_numbers)"
   ]
  },
  {
   "cell_type": "code",
   "execution_count": 30,
   "id": "b8413d1c",
   "metadata": {},
   "outputs": [],
   "source": [
    "# 6\n",
    "def get_sorted_full_names_6(address: str) -> list[str]:\n",
    "    \"\"\"Возвращает отсортированный список полных имен пользователей.\"\"\"\n",
    "    url: str = f\"http://{address}/users/\"\n",
    "    response: Response = get(url)\n",
    "    users: list[dict[str, str]] = response.json()\n",
    "    full_names: list[str] = [\n",
    "        f\"{user['last_name']} {user['first_name']}\" for user in users\n",
    "    ]\n",
    "    full_names.sort()\n",
    "    return full_names"
   ]
  },
  {
   "cell_type": "code",
   "execution_count": 31,
   "id": "a002a6d5",
   "metadata": {},
   "outputs": [],
   "source": [
    "# 7\n",
    "def format_user_message_7(address: str, user_id: str, message_lines: list[str]) -> str:\n",
    "    \"\"\"Форматирует сообщение для пользователя с подстановкой данных.\"\"\"\n",
    "    url: str = f\"http://{address}/users/{user_id}\"\n",
    "    response: Response = get(url)\n",
    "\n",
    "    if response.status_code == 404:\n",
    "        return \"Пользователь не найден\"\n",
    "\n",
    "    try:\n",
    "        user: dict[str, str] = response.json()\n",
    "        message_template: str = \"\\n\".join(message_lines)\n",
    "        formatted_message: str = message_template.format(**user)\n",
    "        return formatted_message\n",
    "    except JSONDecodeError:\n",
    "        return \"Ошибка при декодировании JSON\""
   ]
  },
  {
   "cell_type": "code",
   "execution_count": 32,
   "id": "03c7ab7b",
   "metadata": {},
   "outputs": [],
   "source": [
    "# 8\n",
    "def add_user_get_list_8(\n",
    "    address: str, username: str, last_name: str, first_name: str, email: str\n",
    ") -> str:\n",
    "    \"\"\"Добавляет пользователя и возвращает обновленный список.\"\"\"\n",
    "    user_data: dict[str, str] = {\n",
    "        \"username\": username,\n",
    "        \"last_name\": last_name,\n",
    "        \"first_name\": first_name,\n",
    "        \"email\": email,\n",
    "    }\n",
    "\n",
    "    url: str = f\"http://{address}/users/\"\n",
    "    response_post: Response = post(url, json=user_data)\n",
    "\n",
    "    if response_post.status_code == 201:\n",
    "        response_get: Response = get(url)\n",
    "        if response_get.status_code == 200:\n",
    "            users: list[dict[str, str]] = response_get.json()\n",
    "            return json.dumps(users, ensure_ascii=False, indent=4)\n",
    "        return f\"Ошибка при получении списка пользователей: {response_get.status_code}\"\n",
    "    return f\"Ошибка при добавлении пользователя: {response_post.status_code}\""
   ]
  },
  {
   "cell_type": "code",
   "execution_count": 33,
   "id": "f29488cf",
   "metadata": {},
   "outputs": [],
   "source": [
    "# 9\n",
    "def update_user_get_list_9(\n",
    "    address: str, user_id: str, user_updates: dict[str, str]\n",
    ") -> str:\n",
    "    \"\"\"Обновляет пользователя и возвращает обновленный список.\"\"\"\n",
    "    url: str = f\"http://{address}/users/{user_id}\"\n",
    "    response_put: Response = put(url, json=user_updates)\n",
    "\n",
    "    if response_put.status_code == 200:\n",
    "        response_get: Response = get(f\"http://{address}/users/\")\n",
    "        if response_get.status_code == 200:\n",
    "            users: list[dict[str, str]] = response_get.json()\n",
    "            return json.dumps(users, ensure_ascii=False, indent=4)\n",
    "        return f\"Ошибка при получении списка пользователей: {response_get.status_code}\"\n",
    "    return f\"Ошибка при обновлении пользователя: {response_put.status_code}\""
   ]
  },
  {
   "cell_type": "code",
   "execution_count": 34,
   "id": "57283c45",
   "metadata": {},
   "outputs": [],
   "source": [
    "# 10\n",
    "def delete_user_get_list_10(address: str, user_id: str) -> str:\n",
    "    \"\"\"Удаляет пользователя и возвращает обновленный список.\"\"\"\n",
    "    url: str = f\"http://{address}/users/{user_id}\"\n",
    "    response_del: Response = delete(url)\n",
    "\n",
    "    if response_del.status_code == 204:\n",
    "        response_get: Response = get(f\"http://{address}/users/\")\n",
    "        if response_get.status_code == 200:\n",
    "            users: list[dict[str, str]] = response_get.json()\n",
    "            return json.dumps(users, ensure_ascii=False, indent=4)\n",
    "        return f\"Ошибка при получении списка пользователей: {response_get.status_code}\"\n",
    "    return f\"Ошибка при удалении пользователя: {response_del.status_code}\""
   ]
  }
 ],
 "metadata": {
  "kernelspec": {
   "display_name": "base",
   "language": "python",
   "name": "python3"
  },
  "language_info": {
   "codemirror_mode": {
    "name": "ipython",
    "version": 3
   },
   "file_extension": ".py",
   "mimetype": "text/x-python",
   "name": "python",
   "nbconvert_exporter": "python",
   "pygments_lexer": "ipython3",
   "version": "3.13.5"
  }
 },
 "nbformat": 4,
 "nbformat_minor": 5
}
