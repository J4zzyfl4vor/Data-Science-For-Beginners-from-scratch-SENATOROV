{
 "cells": [
  {
   "cell_type": "code",
   "execution_count": 18,
   "id": "5ccdb5c4",
   "metadata": {},
   "outputs": [],
   "source": [
    "\"\"\"Yandex handbook \"Python Basics\" answers.\"\"\"\n",
    "import math"
   ]
  },
  {
   "cell_type": "code",
   "execution_count": 2,
   "id": "ccce11ae",
   "metadata": {},
   "outputs": [
    {
     "name": "stdout",
     "output_type": "stream",
     "text": [
      "Здравствуйте, Анна!\n",
      "Всё наладится!\n"
     ]
    }
   ],
   "source": [
    "# 1\n",
    "user_greeting: str = \"Анна\"\n",
    "print(f\"Здравствуйте, {user_greeting}!\")\n",
    "mood_reply: str = \"плохо\"\n",
    "\n",
    "if mood_reply == \"хорошо\":\n",
    "    print(\"Я за вас рада!\")\n",
    "else:\n",
    "    print(\"Всё наладится!\")"
   ]
  },
  {
   "cell_type": "code",
   "execution_count": 3,
   "id": "9b128fb0",
   "metadata": {},
   "outputs": [
    {
     "name": "stdout",
     "output_type": "stream",
     "text": [
      "Петя\n"
     ]
    }
   ],
   "source": [
    "# 2\n",
    "distance_total: int = 43872\n",
    "\n",
    "speed_petya: int = 120\n",
    "speed_vasya: int = 100\n",
    "\n",
    "if speed_petya > speed_vasya:\n",
    "    print(\"Петя\")\n",
    "else:\n",
    "    print(\"Вася\")"
   ]
  },
  {
   "cell_type": "code",
   "execution_count": 4,
   "id": "8c143a30",
   "metadata": {},
   "outputs": [
    {
     "name": "stdout",
     "output_type": "stream",
     "text": [
      "Толя\n"
     ]
    }
   ],
   "source": [
    "# 3\n",
    "speed_1: float = 8.5\n",
    "speed_2: float = 9.0\n",
    "speed_3: float = 10.2\n",
    "\n",
    "if speed_1 > speed_2 and speed_1 > speed_3:\n",
    "    print(\"Петя\")\n",
    "elif speed_2 > speed_1 and speed_2 > speed_3:\n",
    "    print(\"Вася\")\n",
    "else:\n",
    "    print(\"Толя\")"
   ]
  },
  {
   "cell_type": "code",
   "execution_count": 5,
   "id": "3a6c28f3",
   "metadata": {},
   "outputs": [
    {
     "name": "stdout",
     "output_type": "stream",
     "text": [
      "1. Вася\n",
      "2. Толя\n",
      "3. Петя\n"
     ]
    }
   ],
   "source": [
    "# 4\n",
    "track_length: int = 43872\n",
    "\n",
    "racer_a: str = \"Петя\"\n",
    "speed_a: float = 8.5\n",
    "\n",
    "racer_b: str = \"Вася\"\n",
    "speed_b: float = 9.2\n",
    "\n",
    "racer_c: str = \"Толя\"\n",
    "speed_c: float = 8.9\n",
    "\n",
    "if speed_a < speed_b:\n",
    "    speed_a, speed_b = speed_b, speed_a\n",
    "    racer_a, racer_b = racer_b, racer_a\n",
    "\n",
    "if speed_b < speed_c:\n",
    "    speed_b, speed_c = speed_c, speed_b\n",
    "    racer_b, racer_c = racer_c, racer_b\n",
    "\n",
    "if speed_a < speed_b:\n",
    "    speed_a, speed_b = speed_b, speed_a\n",
    "    racer_a, racer_b = racer_b, racer_a\n",
    "\n",
    "print(f\"1. {racer_a}\")\n",
    "print(f\"2. {racer_b}\")\n",
    "print(f\"3. {racer_c}\")"
   ]
  },
  {
   "cell_type": "code",
   "execution_count": 6,
   "id": "29665f43",
   "metadata": {},
   "outputs": [
    {
     "name": "stdout",
     "output_type": "stream",
     "text": [
      "Вася\n"
     ]
    }
   ],
   "source": [
    "# 5\n",
    "apples_p: int = 7\n",
    "apples_v: int = 6\n",
    "apples_t: int = 0\n",
    "\n",
    "gain_n: int = 4\n",
    "gain_m: int = 1\n",
    "\n",
    "apples_v += 3\n",
    "apples_p -= 3\n",
    "\n",
    "apples_p += 2\n",
    "apples_t -= 2\n",
    "\n",
    "apples_v += 5\n",
    "apples_t -= 5\n",
    "\n",
    "apples_v -= 2\n",
    "\n",
    "apples_p += gain_n\n",
    "apples_v += gain_m\n",
    "\n",
    "if apples_p > apples_v:\n",
    "    print(\"Петя\")\n",
    "else:\n",
    "    print(\"Вася\")"
   ]
  },
  {
   "cell_type": "code",
   "execution_count": 7,
   "id": "8dc78aa1",
   "metadata": {},
   "outputs": [
    {
     "name": "stdout",
     "output_type": "stream",
     "text": [
      "NO\n"
     ]
    }
   ],
   "source": [
    "# 6\n",
    "year_val: int = 1900\n",
    "\n",
    "is_div4: bool = year_val % 4 == 0\n",
    "is_not_div100: bool = year_val % 100 != 0\n",
    "is_div400: bool = year_val % 400 == 0\n",
    "\n",
    "if is_div4 and (is_not_div100 or is_div400):\n",
    "    print(\"YES\")\n",
    "else:\n",
    "    print(\"NO\")"
   ]
  },
  {
   "cell_type": "code",
   "execution_count": 8,
   "id": "058646c9",
   "metadata": {},
   "outputs": [
    {
     "name": "stdout",
     "output_type": "stream",
     "text": [
      "YES\n"
     ]
    }
   ],
   "source": [
    "# 7\n",
    "text_sample: str = \"топот\"\n",
    "\n",
    "if text_sample == text_sample[::-1]:\n",
    "    print(\"YES\")\n",
    "else:\n",
    "    print(\"NO\")"
   ]
  },
  {
   "cell_type": "code",
   "execution_count": 9,
   "id": "51b7ecb9",
   "metadata": {},
   "outputs": [
    {
     "name": "stdout",
     "output_type": "stream",
     "text": [
      "YES\n"
     ]
    }
   ],
   "source": [
    "# 8\n",
    "phrase: str = \"зайка в лесу\"\n",
    "\n",
    "if \"зайка\" in phrase:\n",
    "    print(\"YES\")\n",
    "else:\n",
    "    print(\"NO\")"
   ]
  },
  {
   "cell_type": "code",
   "execution_count": 10,
   "id": "b8ed24ba",
   "metadata": {},
   "outputs": [
    {
     "name": "stdout",
     "output_type": "stream",
     "text": [
      "Анна\n"
     ]
    }
   ],
   "source": [
    "# 9\n",
    "contestant_a: str = \"Виталий\"\n",
    "contestant_b: str = \"Анна\"\n",
    "contestant_c: str = \"Борис\"\n",
    "\n",
    "earliest_name: str = min(contestant_a, contestant_b, contestant_c)\n",
    "print(earliest_name)"
   ]
  },
  {
   "cell_type": "code",
   "execution_count": 11,
   "id": "e91aee32",
   "metadata": {},
   "outputs": [
    {
     "name": "stdout",
     "output_type": "stream",
     "text": [
      "117\n"
     ]
    }
   ],
   "source": [
    "# 10\n",
    "code_val: int = 561\n",
    "\n",
    "code_text: str = str(code_val)\n",
    "\n",
    "sum_a: int = int(code_text[1]) + int(code_text[2])\n",
    "sum_b: int = int(code_text[0]) + int(code_text[1])\n",
    "\n",
    "high_sum: int = max(sum_a, sum_b)\n",
    "low_sum: int = min(sum_a, sum_b)\n",
    "\n",
    "result_code: int = int(f\"{high_sum}{low_sum}\")\n",
    "print(result_code)"
   ]
  },
  {
   "cell_type": "code",
   "execution_count": 12,
   "id": "6f3a3da5",
   "metadata": {},
   "outputs": [
    {
     "name": "stdout",
     "output_type": "stream",
     "text": [
      "YES\n"
     ]
    }
   ],
   "source": [
    "# 11\n",
    "value_1: int = 123\n",
    "\n",
    "hundreds_a: int = value_1 // 100\n",
    "tens_a: int = (value_1 // 10) % 10\n",
    "units_a: int = value_1 % 10\n",
    "\n",
    "min_dig_a: int = min(hundreds_a, tens_a, units_a)\n",
    "max_dig_a: int = max(hundreds_a, tens_a, units_a)\n",
    "\n",
    "mid_dig_a: int = hundreds_a + tens_a + units_a - min_dig_a - max_dig_a\n",
    "\n",
    "if min_dig_a + max_dig_a == 2 * mid_dig_a:\n",
    "    print(\"YES\")\n",
    "else:\n",
    "    print(\"NO\")"
   ]
  },
  {
   "cell_type": "code",
   "execution_count": 13,
   "id": "941b9c7f",
   "metadata": {},
   "outputs": [
    {
     "name": "stdout",
     "output_type": "stream",
     "text": [
      "YES\n"
     ]
    }
   ],
   "source": [
    "# 12\n",
    "side_a: int = 3\n",
    "side_b: int = 4\n",
    "side_c: int = 5\n",
    "\n",
    "perimeter: int = side_a + side_b + side_c\n",
    "\n",
    "if max(side_a, side_b, side_c) * 2 < perimeter:\n",
    "    print(\"YES\")\n",
    "else:\n",
    "    print(\"NO\")"
   ]
  },
  {
   "cell_type": "code",
   "execution_count": 14,
   "id": "e8d83a31",
   "metadata": {},
   "outputs": [
    {
     "name": "stdout",
     "output_type": "stream",
     "text": [
      "1\n"
     ]
    }
   ],
   "source": [
    "# 13\n",
    "score_elf: int = 12\n",
    "score_gnome: int = 15\n",
    "score_human: int = 18\n",
    "\n",
    "tens_e: int = score_elf // 10\n",
    "units_e: int = score_elf % 10\n",
    "tens_g: int = score_gnome // 10\n",
    "units_g: int = score_gnome % 10\n",
    "tens_h: int = score_human // 10\n",
    "units_h: int = score_human % 10\n",
    "\n",
    "if tens_e == tens_g == tens_h:\n",
    "    print(tens_e)\n",
    "elif units_e == units_g == units_h:\n",
    "    print(units_e)\n",
    "else:\n",
    "    print(\"NO\")"
   ]
  },
  {
   "cell_type": "code",
   "execution_count": 15,
   "id": "62b3bdd9",
   "metadata": {},
   "outputs": [
    {
     "name": "stdout",
     "output_type": "stream",
     "text": [
      "10 31\n"
     ]
    }
   ],
   "source": [
    "# 14\n",
    "num_val: int = 103\n",
    "\n",
    "hundreds_b: int = num_val // 100\n",
    "tens_b: int = (num_val // 10) % 10\n",
    "units_b: int = num_val % 10\n",
    "\n",
    "candidates: list[int] = [\n",
    "    hundreds_b * 10 + tens_b,\n",
    "    hundreds_b * 10 + units_b,\n",
    "    tens_b * 10 + hundreds_b,\n",
    "    tens_b * 10 + units_b,\n",
    "    units_b * 10 + hundreds_b,\n",
    "    units_b * 10 + tens_b,\n",
    "]\n",
    "\n",
    "filtered_vals: list[int] = [x for x in candidates if x >= 10]\n",
    "\n",
    "lowest: int = min(filtered_vals)\n",
    "highest: int = max(filtered_vals)\n",
    "\n",
    "print(lowest, highest)"
   ]
  },
  {
   "cell_type": "code",
   "execution_count": 16,
   "id": "3f1ab4a6",
   "metadata": {},
   "outputs": [
    {
     "name": "stdout",
     "output_type": "stream",
     "text": [
      "481\n"
     ]
    }
   ],
   "source": [
    "# 15\n",
    "val_a: int = 34\n",
    "val_b: int = 123\n",
    "\n",
    "d1: int = val_a // 100 if val_a >= 100 else -1\n",
    "d2: int = (val_a // 10) % 10\n",
    "d3: int = val_a % 10\n",
    "d4: int = val_b // 100 if val_b >= 100 else -1\n",
    "d5: int = (val_b // 10) % 10\n",
    "d6: int = val_b % 10\n",
    "\n",
    "digit_list: list[int] = [d for d in (d1, d2, d3, d4, d5, d6) if d >= 0]\n",
    "\n",
    "max_d: int = max(digit_list)\n",
    "min_d: int = min(digit_list)\n",
    "sum_d: int = sum(digit_list)\n",
    "\n",
    "mid_d: int = (sum_d - max_d - min_d) % 10\n",
    "\n",
    "print(f\"{max_d}{mid_d}{min_d}\")"
   ]
  },
  {
   "cell_type": "code",
   "execution_count": 1,
   "id": "34c86039",
   "metadata": {},
   "outputs": [
    {
     "name": "stdout",
     "output_type": "stream",
     "text": [
      "          Толя          \n",
      "  Вася                  \n",
      "                  Петя  \n",
      "   II      I      III   \n"
     ]
    }
   ],
   "source": [
    "# 16\n",
    "score_p: int = 85\n",
    "score_v: int = 92\n",
    "score_t: int = 98\n",
    "\n",
    "top: int = max(score_p, score_v, score_t)\n",
    "last: int = min(score_p, score_v, score_t)\n",
    "mid: int = score_p + score_v + score_t - top - last\n",
    "\n",
    "first_place: str\n",
    "if top == score_p:\n",
    "    first_place = \"Петя\"\n",
    "elif top == score_v:\n",
    "    first_place = \"Вася\"\n",
    "else:\n",
    "    first_place = \"Толя\"\n",
    "\n",
    "second_place: str\n",
    "if mid == score_p:\n",
    "    second_place = \"Петя\"\n",
    "elif mid == score_v:\n",
    "    second_place = \"Вася\"\n",
    "else:\n",
    "    second_place = \"Толя\"\n",
    "\n",
    "third_place: str\n",
    "if last == score_p:\n",
    "    third_place = \"Петя\"\n",
    "elif last == score_v:\n",
    "    third_place = \"Вася\"\n",
    "else:\n",
    "    third_place = \"Толя\"\n",
    "\n",
    "print(f\"{first_place: ^24}\")\n",
    "print(f'{second_place: ^8}{\" \": ^16}')\n",
    "print(f'{\" \": ^16}{third_place: ^8}')\n",
    "print(f'{\"II\": ^8}{\"I\": ^8}{\"III\": ^8}')"
   ]
  },
  {
   "cell_type": "code",
   "execution_count": 19,
   "id": "0eeab68f",
   "metadata": {},
   "outputs": [
    {
     "name": "stdout",
     "output_type": "stream",
     "text": [
      "No solution\n"
     ]
    }
   ],
   "source": [
    "# 17\n",
    "a_val: float = 1.0\n",
    "b_val: float = 2.0\n",
    "c_val: float = 3.0\n",
    "\n",
    "if a_val == 0:\n",
    "    if b_val == 0:\n",
    "        print(\"Infinite solutions\" if c_val == 0 else \"No solution\")\n",
    "    else:\n",
    "        sol: float = -c_val / b_val\n",
    "        print(f\"{sol:.2f}\")\n",
    "else:\n",
    "    disc: float = b_val**2 - 4 * a_val * c_val\n",
    "    if disc < 0:\n",
    "        print(\"No solution\")\n",
    "    elif disc == 0:\n",
    "        root_val: float = -b_val / (2 * a_val)\n",
    "        print(f\"{root_val:.2f}\")\n",
    "    else:\n",
    "        sqrt_disc: float = math.sqrt(disc)\n",
    "        r1: float = (-b_val - sqrt_disc) / (2 * a_val)\n",
    "        r2: float = (-b_val + sqrt_disc) / (2 * a_val)\n",
    "        print(f\"{min(r1, r2):.2f} {max(r1, r2):.2f}\")"
   ]
  },
  {
   "cell_type": "code",
   "execution_count": 2,
   "id": "c603a299",
   "metadata": {},
   "outputs": [
    {
     "name": "stdout",
     "output_type": "stream",
     "text": [
      "крайне мала\n"
     ]
    }
   ],
   "source": [
    "# 18\n",
    "leg_a: int = 5\n",
    "leg_b: int = 6\n",
    "hyp_side: int = 7\n",
    "\n",
    "leg_a, leg_b, hyp_side = sorted([leg_a, leg_b, hyp_side])\n",
    "\n",
    "squares_sum: int = leg_a**2 + leg_b**2\n",
    "hyp_sq: int = hyp_side**2\n",
    "\n",
    "if hyp_sq == squares_sum:\n",
    "    print(\"100%\")\n",
    "elif hyp_sq > squares_sum:\n",
    "    print(\"велика\")\n",
    "else:\n",
    "    print(\"крайне мала\")"
   ]
  },
  {
   "cell_type": "code",
   "execution_count": 21,
   "id": "597521f5",
   "metadata": {},
   "outputs": [
    {
     "name": "stdout",
     "output_type": "stream",
     "text": [
      "Опасность! Покиньте зону как можно скорее!\n"
     ]
    }
   ],
   "source": [
    "# 19\n",
    "x_val: float = 2.0\n",
    "y_val: float = 3.0\n",
    "\n",
    "checks: list[bool] = [\n",
    "    x_val**2 + y_val**2 <= 100,\n",
    "    y_val <= 5,\n",
    "    4 * y_val >= (x_val + 1) ** 2 - 36,\n",
    "    x_val**2 + y_val**2 <= 25,\n",
    "    3 * y_val < 5 * x_val + 3,\n",
    "]\n",
    "\n",
    "in_danger_zone: bool = all(checks[1:5])\n",
    "\n",
    "if not checks[0]:\n",
    "    print(\"Вы вышли в море и рискуете быть съеденным акулой!\")\n",
    "elif in_danger_zone:\n",
    "    print(\"Опасность! Покиньте зону как можно скорее!\")\n",
    "else:\n",
    "    print(\"Зона безопасна. Продолжайте работу.\")"
   ]
  },
  {
   "cell_type": "code",
   "execution_count": 22,
   "id": "39467239",
   "metadata": {},
   "outputs": [
    {
     "name": "stdout",
     "output_type": "stream",
     "text": [
      "березка зайка 13\n"
     ]
    }
   ],
   "source": [
    "# 20\n",
    "text_a: str = \"березка зайка\"\n",
    "text_b: str = \"ель\"\n",
    "text_c: str = \"сосна\"\n",
    "\n",
    "if text_a > text_b:\n",
    "    text_a, text_b = text_b, text_a\n",
    "if text_a > text_c:\n",
    "    text_a, text_c = text_c, text_a\n",
    "if text_b > text_c:\n",
    "    text_b, text_c = text_c, text_b\n",
    "\n",
    "if \"зайка\" in text_a:\n",
    "    print(text_a, len(text_a))\n",
    "elif \"зайка\" in text_b:\n",
    "    print(text_b, len(text_b))\n",
    "elif \"зайка\" in text_c:\n",
    "    print(text_c, len(text_c))"
   ]
  }
 ],
 "metadata": {
  "kernelspec": {
   "display_name": "base",
   "language": "python",
   "name": "python3"
  },
  "language_info": {
   "codemirror_mode": {
    "name": "ipython",
    "version": 3
   },
   "file_extension": ".py",
   "mimetype": "text/x-python",
   "name": "python",
   "nbconvert_exporter": "python",
   "pygments_lexer": "ipython3",
   "version": "3.13.5"
  }
 },
 "nbformat": 4,
 "nbformat_minor": 5
}
