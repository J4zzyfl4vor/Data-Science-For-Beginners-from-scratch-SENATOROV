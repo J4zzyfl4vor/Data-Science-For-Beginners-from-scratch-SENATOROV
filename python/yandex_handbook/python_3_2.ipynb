{
 "cells": [
  {
   "cell_type": "code",
   "execution_count": 1,
   "id": "20f47425",
   "metadata": {},
   "outputs": [
    {
     "data": {
      "text/plain": [
       "'Yandex handbook \"Python Basics\" answers.'"
      ]
     },
     "execution_count": 1,
     "metadata": {},
     "output_type": "execute_result"
    }
   ],
   "source": [
    "\"\"\"Yandex handbook \"Python Basics\" answers.\"\"\""
   ]
  },
  {
   "cell_type": "code",
   "execution_count": 21,
   "id": "69318a38",
   "metadata": {},
   "outputs": [
    {
     "name": "stdout",
     "output_type": "stream",
     "text": [
      "ьмдев\n"
     ]
    }
   ],
   "source": [
    "# 1\n",
    "text_1: str = \"медведь\"\n",
    "chars_1: set[str] = set(text_1)\n",
    "\n",
    "for ch_1 in chars_1:\n",
    "    print(ch_1, end=\"\")\n",
    "print()"
   ]
  },
  {
   "cell_type": "code",
   "execution_count": 22,
   "id": "ad6a0e73",
   "metadata": {},
   "outputs": [
    {
     "name": "stdout",
     "output_type": "stream",
     "text": [
      "ьде\n"
     ]
    }
   ],
   "source": [
    "# 2\n",
    "word_a_2: str = \"медведь\"\n",
    "word_b_2: str = \"дельфин\"\n",
    "\n",
    "common_2: set[str] = set(word_a_2) & set(word_b_2)\n",
    "\n",
    "for ch_2 in common_2:\n",
    "    print(ch_2, end=\"\")\n",
    "print()"
   ]
  },
  {
   "cell_type": "code",
   "execution_count": 23,
   "id": "a5d4bb9f",
   "metadata": {},
   "outputs": [
    {
     "name": "stdout",
     "output_type": "stream",
     "text": [
      "березка\n",
      "елочка\n",
      "зайка\n"
     ]
    }
   ],
   "source": [
    "# 3\n",
    "entries_3: list[list[str]] = [\n",
    "    [\"зайка\", \"березка\"],\n",
    "    [\"елочка\", \"зайка\"],\n",
    "    [\"березка\"],\n",
    "]\n",
    "\n",
    "unique_items_3: set[str] = set()\n",
    "\n",
    "for entry_3 in entries_3:\n",
    "    unique_items_3.update(entry_3)\n",
    "\n",
    "for item_3 in sorted(unique_items_3):\n",
    "    print(item_3)"
   ]
  },
  {
   "cell_type": "code",
   "execution_count": 24,
   "id": "18781785",
   "metadata": {},
   "outputs": [
    {
     "name": "stdout",
     "output_type": "stream",
     "text": [
      "2\n"
     ]
    }
   ],
   "source": [
    "# 4\n",
    "list_a_4: list[str] = [\"зайка\", \"березка\", \"елочка\"]\n",
    "list_b_4: list[str] = [\"березка\", \"елочка\", \"сосна\"]\n",
    "\n",
    "set_a_4: set[str] = set(list_a_4)\n",
    "set_b_4: set[str] = set(list_b_4)\n",
    "\n",
    "intersection_4: set[str] = set_a_4 & set_b_4\n",
    "\n",
    "if intersection_4:\n",
    "    print(len(intersection_4))\n",
    "else:\n",
    "    print(\"Таких нет\")"
   ]
  },
  {
   "cell_type": "code",
   "execution_count": 25,
   "id": "ae6a351f",
   "metadata": {},
   "outputs": [
    {
     "name": "stdout",
     "output_type": "stream",
     "text": [
      "3\n"
     ]
    }
   ],
   "source": [
    "# 5\n",
    "surnames_5: list[str] = [\"Иванов\", \"Петров\", \"Сидоров\", \"Иванов\", \"Кузнецов\"]\n",
    "\n",
    "seen_once_5: set[str] = set()\n",
    "seen_twice_5: set[str] = set()\n",
    "\n",
    "for name_5 in surnames_5:\n",
    "    if name_5 in seen_once_5:\n",
    "        seen_twice_5.add(name_5)\n",
    "    else:\n",
    "        seen_once_5.add(name_5)\n",
    "\n",
    "unique_surnames_5: set[str] = seen_once_5 - seen_twice_5\n",
    "\n",
    "if unique_surnames_5:\n",
    "    print(len(unique_surnames_5))\n",
    "else:\n",
    "    print(\"Таких нет\")"
   ]
  },
  {
   "cell_type": "code",
   "execution_count": 26,
   "id": "3e0d282c",
   "metadata": {},
   "outputs": [
    {
     "name": "stdout",
     "output_type": "stream",
     "text": [
      "Кузнецов\n",
      "Петров\n",
      "Сидоров\n"
     ]
    }
   ],
   "source": [
    "# 6\n",
    "kids_6: list[str] = [\"Иванов\", \"Петров\", \"Сидоров\", \"Иванов\", \"Кузнецов\"]\n",
    "\n",
    "group1_6: set[str] = set()\n",
    "group2_6: set[str] = set()\n",
    "\n",
    "for child_6 in kids_6:\n",
    "    if child_6 in group1_6:\n",
    "        group2_6.add(child_6)\n",
    "    else:\n",
    "        group1_6.add(child_6)\n",
    "\n",
    "sym_diff_6: set[str] = group1_6 ^ group2_6\n",
    "\n",
    "if sym_diff_6:\n",
    "    for name_6 in sorted(sym_diff_6):\n",
    "        print(name_6)\n",
    "else:\n",
    "    print(\"Таких нет\")"
   ]
  },
  {
   "cell_type": "code",
   "execution_count": 27,
   "id": "93a9b51a",
   "metadata": {},
   "outputs": [
    {
     "name": "stdout",
     "output_type": "stream",
     "text": [
      ".... . .-.. .-.. --- \n",
      ".-- --- .-. .-.. -.. \n"
     ]
    }
   ],
   "source": [
    "# 7\n",
    "MORSE_CODE_7: dict[str, str] = {\n",
    "    \"A\": \".-\",\n",
    "    \"B\": \"-...\",\n",
    "    \"C\": \"-.-.\",\n",
    "    \"D\": \"-..\",\n",
    "    \"E\": \".\",\n",
    "    \"F\": \"..-.\",\n",
    "    \"G\": \"--.\",\n",
    "    \"H\": \"....\",\n",
    "    \"I\": \"..\",\n",
    "    \"J\": \".---\",\n",
    "    \"K\": \"-.-\",\n",
    "    \"L\": \".-..\",\n",
    "    \"M\": \"--\",\n",
    "    \"N\": \"-.\",\n",
    "    \"O\": \"---\",\n",
    "    \"P\": \".--.\",\n",
    "    \"Q\": \"--.-\",\n",
    "    \"R\": \".-.\",\n",
    "    \"S\": \"...\",\n",
    "    \"T\": \"-\",\n",
    "    \"U\": \"..-\",\n",
    "    \"V\": \"...-\",\n",
    "    \"W\": \".--\",\n",
    "    \"X\": \"-..-\",\n",
    "    \"Y\": \"-.--\",\n",
    "    \"Z\": \"--..\",\n",
    "    \"0\": \"-----\",\n",
    "    \"1\": \".----\",\n",
    "    \"2\": \"..---\",\n",
    "    \"3\": \"...--\",\n",
    "    \"4\": \"....-\",\n",
    "    \"5\": \".....\",\n",
    "    \"6\": \"-....\",\n",
    "    \"7\": \"--...\",\n",
    "    \"8\": \"---..\",\n",
    "    \"9\": \"----.\",\n",
    "}\n",
    "\n",
    "message_7: str = \"HELLO WORLD\"\n",
    "\n",
    "for char_7 in message_7:\n",
    "    if char_7 == \" \":\n",
    "        print()\n",
    "    else:\n",
    "        print(MORSE_CODE_7[char_7], end=\" \")\n",
    "print()"
   ]
  },
  {
   "cell_type": "code",
   "execution_count": 28,
   "id": "2531c60b",
   "metadata": {},
   "outputs": [
    {
     "name": "stdout",
     "output_type": "stream",
     "text": [
      "Таких нет\n"
     ]
    }
   ],
   "source": [
    "# 8\n",
    "preferences_8: dict[str, list[str]] = {\n",
    "    \"овсянка\": [\"Анна\", \"Борис\"],\n",
    "    \"манная\": [\"Вася\"],\n",
    "}\n",
    "\n",
    "target_8: str = \"рисовая\"\n",
    "\n",
    "if target_8 in preferences_8:\n",
    "    for name_8 in sorted(preferences_8[target_8]):\n",
    "        print(name_8)\n",
    "else:\n",
    "    print(\"Таких нет\")"
   ]
  },
  {
   "cell_type": "code",
   "execution_count": 29,
   "id": "d6ec72b8",
   "metadata": {},
   "outputs": [
    {
     "name": "stdout",
     "output_type": "stream",
     "text": [
      "зайка 2\n",
      "березка 2\n",
      "елочка 2\n"
     ]
    }
   ],
   "source": [
    "# 9\n",
    "lines_9: list[str] = [\"зайка березка\", \"елочка зайка\", \"березка елочка\"]\n",
    "\n",
    "freq_9: dict[str, int] = {}\n",
    "\n",
    "for line_9 in lines_9:\n",
    "    for word_9 in line_9.split():\n",
    "        freq_9[word_9] = freq_9.get(word_9, 0) + 1\n",
    "\n",
    "for word_9, count_9 in freq_9.items():\n",
    "    print(word_9, count_9)"
   ]
  },
  {
   "cell_type": "code",
   "execution_count": null,
   "id": "cacdc325",
   "metadata": {},
   "outputs": [
    {
     "name": "stdout",
     "output_type": "stream",
     "text": [
      "Privet, mir!\n"
     ]
    }
   ],
   "source": [
    "# 10\n",
    "TRANS_10: dict[str, str] = {\n",
    "    \"А\": \"A\",\n",
    "    \"Б\": \"B\",\n",
    "    \"В\": \"V\",\n",
    "    \"Г\": \"G\",\n",
    "    \"Д\": \"D\",\n",
    "    \"Е\": \"E\",\n",
    "    \"Ё\": \"E\",\n",
    "    \"Ж\": \"ZH\",\n",
    "    \"З\": \"Z\",\n",
    "    \"И\": \"I\",\n",
    "    \"Й\": \"I\",\n",
    "    \"К\": \"K\",\n",
    "    \"Л\": \"L\",\n",
    "    \"М\": \"M\",\n",
    "    \"Н\": \"N\",\n",
    "    \"О\": \"O\",\n",
    "    \"П\": \"P\",\n",
    "    \"Р\": \"R\",\n",
    "    \"С\": \"S\",\n",
    "    \"Т\": \"T\",\n",
    "    \"У\": \"U\",\n",
    "    \"Ф\": \"F\",\n",
    "    \"Х\": \"KH\",\n",
    "    \"Ц\": \"TC\",\n",
    "    \"Ч\": \"CH\",\n",
    "    \"Ш\": \"SH\",\n",
    "    \"Щ\": \"SHCH\",\n",
    "    \"Ы\": \"Y\",\n",
    "    \"Э\": \"E\",\n",
    "    \"Ю\": \"IU\",\n",
    "    \"Я\": \"IA\",\n",
    "    \"Ь\": \"\",\n",
    "    \"Ъ\": \"\",\n",
    "}\n",
    "\n",
    "text_10: str = \"Привет, мир!\"\n",
    "\n",
    "result_10: str = \"\"\n",
    "for ch_10 in text_10:\n",
    "    upper_ch_10 = ch_10.upper()\n",
    "    if upper_ch_10 in TRANS_10:\n",
    "        mapped_10 = TRANS_10[upper_ch_10]\n",
    "        if ch_10.isupper():\n",
    "            out_ch_10 = mapped_10.capitalize()\n",
    "        else:\n",
    "            out_ch_10 = mapped_10.lower()\n",
    "    else:\n",
    "        out_ch_10 = ch_10\n",
    "    result_10 += out_ch_10\n",
    "\n",
    "print(result_10)"
   ]
  },
  {
   "cell_type": "code",
   "execution_count": 31,
   "id": "aea52fda",
   "metadata": {},
   "outputs": [
    {
     "name": "stdout",
     "output_type": "stream",
     "text": [
      "0\n"
     ]
    }
   ],
   "source": [
    "# 11\n",
    "names_11: list[str] = [\"Анна\", \"Борис\", \"Вася\"]\n",
    "\n",
    "counts_11: dict[str, int] = {}\n",
    "for name_11 in names_11:\n",
    "    counts_11[name_11] = counts_11.get(name_11, 0) + 1\n",
    "\n",
    "total_dup_11: int = sum(v for v in counts_11.values() if v > 1)\n",
    "print(total_dup_11)"
   ]
  },
  {
   "cell_type": "code",
   "execution_count": 32,
   "id": "1480e7df",
   "metadata": {},
   "outputs": [
    {
     "name": "stdout",
     "output_type": "stream",
     "text": [
      "Однофамильцев нет\n"
     ]
    }
   ],
   "source": [
    "# 12\n",
    "names_12: list[str] = [\"Анна\", \"Борис\", \"Вася\"]\n",
    "\n",
    "freq_12: dict[str, int] = {}\n",
    "for name_12 in names_12:\n",
    "    freq_12[name_12] = freq_12.get(name_12, 0) + 1\n",
    "\n",
    "found_12: bool = False\n",
    "for name_12 in sorted(freq_12):\n",
    "    if freq_12[name_12] > 1:\n",
    "        print(f\"{name_12} - {freq_12[name_12]}\")\n",
    "        found_12 = True\n",
    "\n",
    "if not found_12:\n",
    "    print(\"Однофамильцев нет\")"
   ]
  },
  {
   "cell_type": "code",
   "execution_count": 33,
   "id": "f59de088",
   "metadata": {},
   "outputs": [
    {
     "name": "stdout",
     "output_type": "stream",
     "text": [
      "Манная\n",
      "Овсянка\n"
     ]
    }
   ],
   "source": [
    "# 13\n",
    "initial_13: set[str] = {\"Манная\", \"Овсянка\", \"Рисовая\"}\n",
    "used_13: set[str] = {\"Рисовая\"}\n",
    "\n",
    "remaining_13: set[str] = initial_13 - used_13\n",
    "\n",
    "menu_13: list[str] = sorted(remaining_13)\n",
    "if menu_13:\n",
    "    for dish_13 in menu_13:\n",
    "        print(dish_13)\n",
    "else:\n",
    "    print(\"Готовить нечего\")"
   ]
  },
  {
   "cell_type": "code",
   "execution_count": 34,
   "id": "14b0b48c",
   "metadata": {},
   "outputs": [
    {
     "name": "stdout",
     "output_type": "stream",
     "text": [
      "печенье\n"
     ]
    }
   ],
   "source": [
    "# 14\n",
    "available_14: set[str] = {\"мука\", \"сахар\"}\n",
    "recipes_14: dict[str, list[str]] = {\n",
    "    \"блинчики\": [\"мука\", \"молоко\"],\n",
    "    \"печенье\": [\"мука\", \"сахар\"],\n",
    "}\n",
    "\n",
    "possible_14: list[str] = []\n",
    "for dish_14, ingredients_14 in recipes_14.items():\n",
    "    if set(ingredients_14).issubset(available_14):\n",
    "        possible_14.append(dish_14)\n",
    "\n",
    "if possible_14:\n",
    "    for dish_14 in sorted(possible_14):\n",
    "        print(dish_14)\n",
    "else:\n",
    "    print(\"Готовить нечего\")"
   ]
  },
  {
   "cell_type": "code",
   "execution_count": 35,
   "id": "0ebcf162",
   "metadata": {},
   "outputs": [
    {
     "name": "stdout",
     "output_type": "stream",
     "text": [
      "[{'digits': 4, 'units': 3, 'zeros': 1}, {'digits': 2, 'units': 1, 'zeros': 1}, {'digits': 3, 'units': 3, 'zeros': 0}]\n"
     ]
    }
   ],
   "source": [
    "# 15\n",
    "numbers_15: list[int] = [13, 2, 7]\n",
    "\n",
    "stats_15: list[dict[str, int]] = []\n",
    "for num_15 in numbers_15:\n",
    "    bin_str_15: str = f\"{num_15:b}\"\n",
    "    stats_15.append(\n",
    "        {\n",
    "            \"digits\": len(bin_str_15),\n",
    "            \"units\": bin_str_15.count(\"1\"),\n",
    "            \"zeros\": bin_str_15.count(\"0\"),\n",
    "        }\n",
    "    )\n",
    "\n",
    "print(stats_15)"
   ]
  },
  {
   "cell_type": "code",
   "execution_count": 3,
   "id": "1836a8fe",
   "metadata": {},
   "outputs": [
    {
     "name": "stdout",
     "output_type": "stream",
     "text": [
      "березка\n",
      "елочка\n",
      "сосна\n"
     ]
    }
   ],
   "source": [
    "# 16\n",
    "scenes_16: list[list[str]] = [\n",
    "    [\"березка\", \"зайка\", \"елочка\"],\n",
    "    [\"зайка\", \"сосна\"],\n",
    "]\n",
    "\n",
    "neighbors_16: set[str] = set()\n",
    "\n",
    "for scene_16 in scenes_16:\n",
    "    for idx_16, item_16 in enumerate(scene_16):\n",
    "        if item_16 == \"зайка\":\n",
    "            if idx_16 > 0:\n",
    "                neighbors_16.add(scene_16[idx_16 - 1])\n",
    "            if idx_16 + 1 < len(scene_16):\n",
    "                neighbors_16.add(scene_16[idx_16 + 1])\n",
    "\n",
    "for obj_16 in sorted(neighbors_16):\n",
    "    print(obj_16)"
   ]
  },
  {
   "cell_type": "code",
   "execution_count": 2,
   "id": "e200da12",
   "metadata": {},
   "outputs": [
    {
     "name": "stdout",
     "output_type": "stream",
     "text": [
      "березка\n",
      "елочка\n",
      "сосна\n"
     ]
    }
   ],
   "source": [
    "# 17\n",
    "scenes_data_17: list[list[str]] = [\n",
    "    [\"березка\", \"зайка\", \"елочка\"],\n",
    "    [\"зайка\", \"сосна\"],\n",
    "]\n",
    "\n",
    "adjacent_items_17: set[str] = set()\n",
    "\n",
    "for scene_17 in scenes_data_17:\n",
    "    for position_17, element_17 in enumerate(scene_17):\n",
    "        if element_17 == \"зайка\":\n",
    "            if position_17 > 0:\n",
    "                adjacent_items_17.add(scene_17[position_17 - 1])\n",
    "            if position_17 + 1 < len(scene_17):\n",
    "                adjacent_items_17.add(scene_17[position_17 + 1])\n",
    "\n",
    "for item_17 in sorted(adjacent_items_17):\n",
    "    print(item_17)"
   ]
  },
  {
   "cell_type": "code",
   "execution_count": 1,
   "id": "4b50fddd",
   "metadata": {},
   "outputs": [
    {
     "name": "stdout",
     "output_type": "stream",
     "text": [
      "2\n"
     ]
    }
   ],
   "source": [
    "# 18\n",
    "treasure_coords_18: list[tuple[int, int]] = [\n",
    "    (12, 15),\n",
    "    (18, 22),\n",
    "    (13, 16),\n",
    "    (55, 60),\n",
    "]\n",
    "\n",
    "grid_18: dict[tuple[int, int], int] = {}\n",
    "for x_18, y_18 in treasure_coords_18:\n",
    "    cell_18 = (x_18 // 10, y_18 // 10)\n",
    "    grid_18[cell_18] = grid_18.get(cell_18, 0) + 1\n",
    "\n",
    "print(max(grid_18.values()) if grid_18 else 0)"
   ]
  },
  {
   "cell_type": "code",
   "execution_count": 39,
   "id": "fdfe8865",
   "metadata": {},
   "outputs": [
    {
     "name": "stdout",
     "output_type": "stream",
     "text": [
      "домик\n",
      "зайчик\n",
      "кукла\n",
      "машинка\n"
     ]
    }
   ],
   "source": [
    "# 19\n",
    "gifts_19: list[tuple[str, list[str]]] = [\n",
    "    (\"Анна\", [\"кукла\", \"зайчик\"]),\n",
    "    (\"Борис\", [\"кубики\", \"машинка\"]),\n",
    "    (\"Вася\", [\"домик\", \"кубики\"]),\n",
    "]\n",
    "\n",
    "all_toys_19: list[str] = []\n",
    "for _, toys_19 in gifts_19:\n",
    "    all_toys_19.extend(toys_19)\n",
    "\n",
    "unique_19: dict[str, int] = {}\n",
    "for toy_19 in all_toys_19:\n",
    "    unique_19[toy_19] = unique_19.get(toy_19, 0) + 1\n",
    "\n",
    "for toy_19 in sorted(unique_19):\n",
    "    if unique_19[toy_19] == 1:\n",
    "        print(toy_19)"
   ]
  },
  {
   "cell_type": "code",
   "execution_count": 40,
   "id": "bd7d3e80",
   "metadata": {},
   "outputs": [
    {
     "name": "stdout",
     "output_type": "stream",
     "text": [
      "2 - 7, 49\n",
      "7 - 2, 12\n",
      "12 - 7, 49\n",
      "49 - 2, 12\n"
     ]
    }
   ],
   "source": [
    "# 20\n",
    "numbers_20: list[int] = [2, 7, 12, 49]\n",
    "\n",
    "coprime_map_20: dict[int, list[int]] = {}\n",
    "\n",
    "for a_20 in numbers_20:\n",
    "    coprime_map_20[a_20] = []\n",
    "    for b_20 in numbers_20:\n",
    "        if a_20 != b_20:\n",
    "            x_20, y_20 = a_20, b_20\n",
    "            while y_20:\n",
    "                x_20, y_20 = y_20, x_20 % y_20\n",
    "            if x_20 == 1:\n",
    "                coprime_map_20[a_20].append(b_20)\n",
    "\n",
    "for num_20 in sorted(coprime_map_20):\n",
    "    partners_20 = coprime_map_20[num_20]\n",
    "    if partners_20:\n",
    "        print(num_20, \"-\", \", \".join(map(str, sorted(partners_20))))"
   ]
  }
 ],
 "metadata": {
  "kernelspec": {
   "display_name": "base",
   "language": "python",
   "name": "python3"
  },
  "language_info": {
   "codemirror_mode": {
    "name": "ipython",
    "version": 3
   },
   "file_extension": ".py",
   "mimetype": "text/x-python",
   "name": "python",
   "nbconvert_exporter": "python",
   "pygments_lexer": "ipython3",
   "version": "3.13.5"
  }
 },
 "nbformat": 4,
 "nbformat_minor": 5
}
