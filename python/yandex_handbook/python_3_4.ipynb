{
 "cells": [
  {
   "cell_type": "code",
   "execution_count": 73,
   "id": "70730b39",
   "metadata": {},
   "outputs": [
    {
     "data": {
      "text/plain": [
       "'Yandex handbook \"Python Basics\" answers.'"
      ]
     },
     "execution_count": 73,
     "metadata": {},
     "output_type": "execute_result"
    }
   ],
   "source": [
    "\"\"\"Yandex handbook \"Python Basics\" answers.\"\"\""
   ]
  },
  {
   "cell_type": "code",
   "execution_count": null,
   "id": "e3a82a1c",
   "metadata": {},
   "outputs": [
    {
     "name": "stdout",
     "output_type": "stream",
     "text": [
      "1. картина\n",
      "2. корзина\n",
      "3. картонка\n"
     ]
    }
   ],
   "source": [
    "from itertools import accumulate, combinations, count, permutations, product\n",
    "\n",
    "# 1\n",
    "line_1: str = \"картина корзина картонка\"\n",
    "words_1: list[str] = list(line_1.split())\n",
    "\n",
    "for idx_1, word_1 in enumerate(words_1, start=1):\n",
    "    print(f\"{idx_1}. {word_1}\")"
   ]
  },
  {
   "cell_type": "code",
   "execution_count": 75,
   "id": "2f3504b7",
   "metadata": {},
   "outputs": [
    {
     "name": "stdout",
     "output_type": "stream",
     "text": [
      "Аня - Боря\n",
      "Вова - Дима\n"
     ]
    }
   ],
   "source": [
    "# 2\n",
    "left_2: list[str] = list(\"Аня, Вова\".split(\", \"))\n",
    "right_2: list[str] = list(\"Боря, Дима\".split(\", \"))\n",
    "\n",
    "for pair_2 in zip(left_2, right_2):\n",
    "    print(f\"{pair_2[0]} - {pair_2[1]}\")"
   ]
  },
  {
   "cell_type": "code",
   "execution_count": 76,
   "id": "b502bcf1",
   "metadata": {},
   "outputs": [
    {
     "name": "stdout",
     "output_type": "stream",
     "text": [
      "3.20\n",
      "4.00\n",
      "4.80\n",
      "5.60\n",
      "6.40\n"
     ]
    }
   ],
   "source": [
    "# 3\n",
    "raw_3: str = \"3.2 7.0 0.8\"\n",
    "parts_3: list[str] = list(raw_3.split())\n",
    "start_3: float = float(parts_3[0])\n",
    "stop_3: float = float(parts_3[1])\n",
    "step_3: float = float(parts_3[2])\n",
    "\n",
    "for val_3 in count(start_3, step_3):\n",
    "    if val_3 >= stop_3:\n",
    "        break\n",
    "    print(f\"{val_3:.2f}\")"
   ]
  },
  {
   "cell_type": "code",
   "execution_count": 77,
   "id": "acfbf020",
   "metadata": {},
   "outputs": [
    {
     "name": "stdout",
     "output_type": "stream",
     "text": [
      "м а м а\n",
      "м а м а м ы л а\n",
      "м а м а м ы л а р а м у\n"
     ]
    }
   ],
   "source": [
    "# 4\n",
    "phrase_4: str = \"мама мыла раму\"\n",
    "words_4: list[str] = list(phrase_4.split())\n",
    "\n",
    "for partial_4 in accumulate(words_4):\n",
    "    print(\" \".join(partial_4))"
   ]
  },
  {
   "cell_type": "code",
   "execution_count": 78,
   "id": "fbdd169d",
   "metadata": {},
   "outputs": [
    {
     "name": "stdout",
     "output_type": "stream",
     "text": [
      "1. картина\n",
      "2. картонка\n",
      "3. корзина\n",
      "4. манка\n",
      "5. молоко\n",
      "6. мыло\n",
      "7. сыр\n",
      "8. хлеб\n"
     ]
    }
   ],
   "source": [
    "# 5\n",
    "lines_5: list[str] = [\n",
    "    \"картина, корзина, картонка\",\n",
    "    \"манка, молоко, сыр\",\n",
    "    \"хлеб, мыло\",\n",
    "]\n",
    "\n",
    "items_5: set[str] = set()\n",
    "for line_5 in lines_5:\n",
    "    for item_5 in line_5.split(\", \"):\n",
    "        items_5.add(item_5)\n",
    "\n",
    "for idx_5, item_5 in enumerate(sorted(items_5), start=1):\n",
    "    print(f\"{idx_5}. {item_5}\")"
   ]
  },
  {
   "cell_type": "code",
   "execution_count": 96,
   "id": "de52144e",
   "metadata": {},
   "outputs": [
    {
     "name": "stdout",
     "output_type": "stream",
     "text": [
      "2 пик\n",
      "2 бубен\n",
      "2 червей\n",
      "3 пик\n",
      "3 бубен\n",
      "3 червей\n",
      "4 пик\n",
      "4 бубен\n",
      "4 червей\n",
      "5 пик\n",
      "5 бубен\n",
      "5 червей\n",
      "6 пик\n",
      "6 бубен\n",
      "6 червей\n",
      "7 пик\n",
      "7 бубен\n",
      "7 червей\n",
      "8 пик\n",
      "8 бубен\n",
      "8 червей\n",
      "9 пик\n",
      "9 бубен\n",
      "9 червей\n",
      "10 пик\n",
      "10 бубен\n",
      "10 червей\n",
      "валет пик\n",
      "валет бубен\n",
      "валет червей\n",
      "дама пик\n",
      "дама бубен\n",
      "дама червей\n",
      "король пик\n",
      "король бубен\n",
      "король червей\n",
      "туз пик\n",
      "туз бубен\n",
      "туз червей\n"
     ]
    }
   ],
   "source": [
    "# 6\n",
    "banned_suit_6: str = \"треф\"\n",
    "\n",
    "ranks_6: list[str] = [str(i) for i in range(2, 11)] + [\"валет\", \"дама\", \"король\", \"туз\"]\n",
    "suits_6: list[str] = [\"пик\", \"треф\", \"бубен\", \"червей\"]\n",
    "\n",
    "suits_6.remove(banned_suit_6)\n",
    "\n",
    "for card_6 in product(ranks_6, suits_6):\n",
    "    print(card_6[0], card_6[1])"
   ]
  },
  {
   "cell_type": "code",
   "execution_count": 80,
   "id": "ee981d22",
   "metadata": {},
   "outputs": [
    {
     "name": "stdout",
     "output_type": "stream",
     "text": [
      "Аня - Боря\n",
      "Аня - Вова\n",
      "Боря - Вова\n"
     ]
    }
   ],
   "source": [
    "# 7\n",
    "players_7: list[str] = [\"Аня\", \"Боря\", \"Вова\"]\n",
    "\n",
    "pairs_7: list[tuple[str, str]] = []\n",
    "for pair_7 in combinations(players_7, 2):\n",
    "    pairs_7.append(pair_7)\n",
    "\n",
    "lines_7: list[str] = []\n",
    "for a_7, b_7 in pairs_7:\n",
    "    lines_7.append(f\"{a_7} - {b_7}\")\n",
    "\n",
    "print(\"\\n\".join(lines_7))"
   ]
  },
  {
   "cell_type": "code",
   "execution_count": 81,
   "id": "3562b6ce",
   "metadata": {},
   "outputs": [
    {
     "name": "stdout",
     "output_type": "stream",
     "text": [
      "Манная\n",
      "Гречневая\n",
      "Пшённая\n",
      "Манная\n"
     ]
    }
   ],
   "source": [
    "# 8\n",
    "menu_8: list[str] = [\"Манная\", \"Гречневая\", \"Пшённая\"]\n",
    "days_8: int = 4\n",
    "\n",
    "expanded_8: list[str] = menu_8 * (days_8 // len(menu_8) + 1)\n",
    "\n",
    "for i_8 in range(days_8):\n",
    "    print(expanded_8[i_8])"
   ]
  },
  {
   "cell_type": "code",
   "execution_count": 82,
   "id": "aaa376d6",
   "metadata": {},
   "outputs": [
    {
     "name": "stdout",
     "output_type": "stream",
     "text": [
      "1 2 3\n",
      "2 4 6\n",
      "3 6 9\n"
     ]
    }
   ],
   "source": [
    "# 9\n",
    "size_9: int = 3\n",
    "\n",
    "for row_9 in range(1, size_9 + 1):\n",
    "    line_9: list[str] = []\n",
    "    for col_9 in range(1, size_9 + 1):\n",
    "        line_9.append(str(row_9 * col_9))\n",
    "    print(\" \".join(line_9))"
   ]
  },
  {
   "cell_type": "code",
   "execution_count": 83,
   "id": "065e97d8",
   "metadata": {},
   "outputs": [
    {
     "name": "stdout",
     "output_type": "stream",
     "text": [
      "А Б В\n",
      "1 1 1\n"
     ]
    }
   ],
   "source": [
    "# 10\n",
    "total_10: int = 3\n",
    "\n",
    "print(\"А Б В\")\n",
    "for a_10 in range(1, total_10 - 1):\n",
    "    for b_10 in range(1, total_10 - a_10):\n",
    "        c_10: int = total_10 - a_10 - b_10\n",
    "        print(a_10, b_10, c_10)"
   ]
  },
  {
   "cell_type": "code",
   "execution_count": 84,
   "id": "25e013fa",
   "metadata": {},
   "outputs": [
    {
     "name": "stdout",
     "output_type": "stream",
     "text": [
      "1 2 3\n",
      "4 5 6\n"
     ]
    }
   ],
   "source": [
    "# 11\n",
    "rows_11: int = 2\n",
    "cols_11: int = 3\n",
    "\n",
    "width_11: int = len(str(rows_11 * cols_11))\n",
    "\n",
    "for i_11 in range(rows_11):\n",
    "    line_11: list[str] = []\n",
    "    for j_11 in range(cols_11):\n",
    "        val_11: int = i_11 * cols_11 + j_11 + 1\n",
    "        line_11.append(f\"{val_11:>{width_11}}\")\n",
    "    print(\" \".join(line_11))"
   ]
  },
  {
   "cell_type": "code",
   "execution_count": 85,
   "id": "cac2599d",
   "metadata": {},
   "outputs": [
    {
     "name": "stdout",
     "output_type": "stream",
     "text": [
      "1. картина\n",
      "2. картонка\n",
      "3. корзина\n",
      "4. манка\n",
      "5. молоко\n",
      "6. мыло\n",
      "7. сыр\n",
      "8. хлеб\n"
     ]
    }
   ],
   "source": [
    "# 12\n",
    "lists_12: list[str] = [\n",
    "    \"картина, корзина\",\n",
    "    \"картонка, манка\",\n",
    "    \"молоко, мыло, сыр, хлеб\",\n",
    "]\n",
    "\n",
    "all_items_12: list[str] = []\n",
    "for line_12 in lists_12:\n",
    "    all_items_12.extend(line_12.split(\", \"))\n",
    "\n",
    "for idx_12, item_12 in enumerate(sorted(all_items_12), start=1):\n",
    "    print(f\"{idx_12}. {item_12}\")"
   ]
  },
  {
   "cell_type": "code",
   "execution_count": 86,
   "id": "6a379a1c",
   "metadata": {},
   "outputs": [
    {
     "name": "stdout",
     "output_type": "stream",
     "text": [
      "Аня, Боря, Вова\n",
      "Аня, Вова, Боря\n",
      "Боря, Аня, Вова\n",
      "Боря, Вова, Аня\n",
      "Вова, Аня, Боря\n",
      "Вова, Боря, Аня\n"
     ]
    }
   ],
   "source": [
    "# 13\n",
    "names_13: list[str] = [\"Аня\", \"Боря\", \"Вова\"]\n",
    "\n",
    "for perm_13 in sorted(permutations(names_13)):\n",
    "    print(\", \".join(perm_13))"
   ]
  },
  {
   "cell_type": "code",
   "execution_count": 87,
   "id": "3c3772ac",
   "metadata": {},
   "outputs": [
    {
     "name": "stdout",
     "output_type": "stream",
     "text": [
      "Аня, Боря, Вова\n",
      "Аня, Вова, Боря\n",
      "Боря, Аня, Вова\n",
      "Боря, Вова, Аня\n",
      "Вова, Аня, Боря\n",
      "Вова, Боря, Аня\n"
     ]
    }
   ],
   "source": [
    "# 14\n",
    "names_14: list[str] = [\"Аня\", \"Боря\", \"Вова\"]\n",
    "\n",
    "for perm_14 in sorted(permutations(names_14, 3)):\n",
    "    print(\", \".join(perm_14))"
   ]
  },
  {
   "cell_type": "code",
   "execution_count": 88,
   "id": "09bed7ce",
   "metadata": {},
   "outputs": [
    {
     "name": "stdout",
     "output_type": "stream",
     "text": [
      "кофе печенье сушки\n",
      "кофе печенье чай\n",
      "кофе сушки печенье\n",
      "кофе сушки чай\n",
      "кофе чай печенье\n",
      "кофе чай сушки\n",
      "печенье кофе сушки\n",
      "печенье кофе чай\n",
      "печенье сушки кофе\n",
      "печенье сушки чай\n",
      "печенье чай кофе\n",
      "печенье чай сушки\n",
      "сушки кофе печенье\n",
      "сушки кофе чай\n",
      "сушки печенье кофе\n",
      "сушки печенье чай\n",
      "сушки чай кофе\n",
      "сушки чай печенье\n",
      "чай кофе печенье\n",
      "чай кофе сушки\n",
      "чай печенье кофе\n",
      "чай печенье сушки\n",
      "чай сушки кофе\n",
      "чай сушки печенье\n"
     ]
    }
   ],
   "source": [
    "# 15\n",
    "items_15: list[str] = [\"кофе\", \"печенье\", \"сушки\", \"чай\"]\n",
    "\n",
    "for perm_15 in sorted(permutations(items_15, 3)):\n",
    "    print(\" \".join(perm_15))"
   ]
  },
  {
   "cell_type": "code",
   "execution_count": 89,
   "id": "f91549d8",
   "metadata": {},
   "outputs": [
    {
     "name": "stdout",
     "output_type": "stream",
     "text": [
      "2 бубен, 2 пик, 2 треф\n",
      "2 бубен, 2 пик, 2 червей\n",
      "2 бубен, 2 пик, 3 бубен\n",
      "2 бубен, 2 пик, 3 пик\n",
      "2 бубен, 2 пик, 3 треф\n",
      "2 бубен, 2 пик, 3 червей\n",
      "2 бубен, 2 пик, 4 бубен\n",
      "2 бубен, 2 пик, 4 пик\n",
      "2 бубен, 2 пик, 4 треф\n",
      "2 бубен, 2 пик, 4 червей\n"
     ]
    }
   ],
   "source": [
    "# 16\n",
    "target_suit_16: str = \"пики\"  # ← ввод как в оригинале\n",
    "excluded_rank_16: str = \"10\"\n",
    "\n",
    "suit_map_16: dict[str, str] = {\n",
    "    \"буби\": \"бубен\",\n",
    "    \"пики\": \"пик\",\n",
    "    \"трефы\": \"треф\",\n",
    "    \"черви\": \"червей\",\n",
    "}\n",
    "\n",
    "ranks_16: list[str] = [\n",
    "    \"2\",\n",
    "    \"3\",\n",
    "    \"4\",\n",
    "    \"5\",\n",
    "    \"6\",\n",
    "    \"7\",\n",
    "    \"8\",\n",
    "    \"9\",\n",
    "    \"10\",\n",
    "    \"валет\",\n",
    "    \"дама\",\n",
    "    \"король\",\n",
    "    \"туз\",\n",
    "]\n",
    "suits_16: list[str] = [\"бубен\", \"пик\", \"треф\", \"червей\"]\n",
    "\n",
    "ranks_16.remove(excluded_rank_16)\n",
    "\n",
    "deck_16: list[tuple[str, str]] = list(product(ranks_16, suits_16))\n",
    "\n",
    "hands_16: list[str] = []\n",
    "target_full_suit_16: str = suit_map_16[target_suit_16]  # ← \"пик\"\n",
    "\n",
    "for hand_16 in permutations(deck_16, 3):\n",
    "    if any(card[1] == target_full_suit_16 for card in hand_16):\n",
    "        sorted_hand_16 = sorted(hand_16)\n",
    "        hand_str_16 = \", \".join(f\"{r} {s}\" for r, s in sorted_hand_16)\n",
    "        hands_16.append(hand_str_16)\n",
    "\n",
    "for hand_str_16 in sorted(set(hands_16))[:10]:\n",
    "    print(hand_str_16)"
   ]
  },
  {
   "cell_type": "code",
   "execution_count": 90,
   "id": "50e0fef1",
   "metadata": {},
   "outputs": [
    {
     "name": "stdout",
     "output_type": "stream",
     "text": [
      "2 бубен, 2 пик, 2 червей\n"
     ]
    }
   ],
   "source": [
    "# 17\n",
    "target_suit_17: str = \"пики\"\n",
    "excluded_rank_17: str = \"10\"\n",
    "prev_hand_17: str = \"2 бубен, 2 пик, 2 треф\"\n",
    "\n",
    "suit_map_17: dict[str, str] = {\n",
    "    \"буби\": \"бубен\",\n",
    "    \"пики\": \"пик\",\n",
    "    \"трефы\": \"треф\",\n",
    "    \"черви\": \"червей\",\n",
    "}\n",
    "\n",
    "ranks_17: list[str] = [\n",
    "    \"2\",\n",
    "    \"3\",\n",
    "    \"4\",\n",
    "    \"5\",\n",
    "    \"6\",\n",
    "    \"7\",\n",
    "    \"8\",\n",
    "    \"9\",\n",
    "    \"10\",\n",
    "    \"валет\",\n",
    "    \"дама\",\n",
    "    \"король\",\n",
    "    \"туз\",\n",
    "]\n",
    "suits_17: list[str] = [\"бубен\", \"пик\", \"треф\", \"червей\"]\n",
    "\n",
    "ranks_17.remove(excluded_rank_17)\n",
    "\n",
    "deck_17: list[tuple[str, str]] = list(product(ranks_17, suits_17))\n",
    "\n",
    "all_hands_17: list[str] = []\n",
    "target_full_suit_17: str = suit_map_17[target_suit_17]  # ← \"пик\"\n",
    "\n",
    "for hand_17 in permutations(deck_17, 3):\n",
    "    if any(card[1] == target_full_suit_17 for card in hand_17):\n",
    "        sorted_hand_17 = sorted(hand_17)\n",
    "        hand_str_17 = \", \".join(f\"{r} {s}\" for r, s in sorted_hand_17)\n",
    "        all_hands_17.append(hand_str_17)\n",
    "\n",
    "unique_hands_17: list[str] = sorted(set(all_hands_17))\n",
    "\n",
    "try:\n",
    "    idx_17 = unique_hands_17.index(prev_hand_17)\n",
    "    print(unique_hands_17[idx_17 + 1])\n",
    "except (ValueError, IndexError):\n",
    "    pass"
   ]
  },
  {
   "cell_type": "code",
   "execution_count": 91,
   "id": "72708ca6",
   "metadata": {},
   "outputs": [
    {
     "name": "stdout",
     "output_type": "stream",
     "text": [
      "a b c f\n",
      "0 0 0 1\n",
      "0 0 1 1\n",
      "0 1 0 1\n",
      "0 1 1 1\n",
      "1 0 0 0\n",
      "1 0 1 0\n",
      "1 1 0 0\n",
      "1 1 1 1\n"
     ]
    }
   ],
   "source": [
    "# 18\n",
    "print(\"a b c f\")\n",
    "for var_a in [0, 1]:\n",
    "    for var_b in [0, 1]:\n",
    "        for var_c in [0, 1]:\n",
    "            result_18 = (not var_a) or (var_b and var_c)\n",
    "            print(var_a, var_b, var_c, int(result_18))"
   ]
  },
  {
   "cell_type": "code",
   "execution_count": 92,
   "id": "0e246613",
   "metadata": {},
   "outputs": [
    {
     "name": "stdout",
     "output_type": "stream",
     "text": [
      "A B C F\n",
      "0 0 0 0\n",
      "0 0 1 1\n",
      "0 1 0 0\n",
      "0 1 1 1\n",
      "1 0 0 0\n",
      "1 0 1 1\n",
      "1 1 0 1\n",
      "1 1 1 1\n"
     ]
    }
   ],
   "source": [
    "# 19\n",
    "variables_19: list[str] = [\"A\", \"B\", \"C\"]\n",
    "print(\"A B C F\")\n",
    "\n",
    "for bits_19 in product([0, 1], repeat=3):\n",
    "    env_19: dict[str, int] = dict(zip(variables_19, bits_19))\n",
    "    value_19 = (env_19[\"A\"] and env_19[\"B\"]) or env_19[\"C\"]\n",
    "    print(bits_19[0], bits_19[1], bits_19[2], int(value_19))"
   ]
  },
  {
   "cell_type": "code",
   "execution_count": 95,
   "id": "b336b3bd",
   "metadata": {},
   "outputs": [],
   "source": [
    "# 20\n",
    "def to_postfix_20(expr: str, vars_list: list[str]) -> list[str]:\n",
    "    \"\"\"Преобразует логическое выражение в постфиксную запись.\"\"\"\n",
    "    op_map_20 = {\n",
    "        \"not\": \"not\",\n",
    "        \"and\": \"and\",\n",
    "        \"or\": \"or\",\n",
    "        \"^\": \"!=\",\n",
    "        \"->\": \"<=\",\n",
    "        \"~\": \"==\",\n",
    "    }\n",
    "    prec_20 = {\n",
    "        \"not\": 0,\n",
    "        \"and\": 1,\n",
    "        \"or\": 2,\n",
    "        \"^\": 3,\n",
    "        \"->\": 4,\n",
    "        \"~\": 5,\n",
    "        \"(\": 6,\n",
    "    }\n",
    "    tokens_20 = expr.split()\n",
    "    stack_20: list[str] = []\n",
    "    output_20: list[str] = []\n",
    "    for token_20 in tokens_20:\n",
    "        if token_20 in vars_list:\n",
    "            output_20.append(token_20)\n",
    "        elif token_20 == \"(\":\n",
    "            stack_20.append(token_20)\n",
    "        elif token_20 == \")\":\n",
    "            while stack_20 and stack_20[-1] != \"(\":\n",
    "                output_20.append(op_map_20[stack_20.pop()])\n",
    "            if stack_20:\n",
    "                stack_20.pop()\n",
    "        elif token_20 in op_map_20:\n",
    "            while True:\n",
    "                if not stack_20:\n",
    "                    break\n",
    "                if stack_20[-1] == \"(\":\n",
    "                    break\n",
    "                if prec_20[token_20] < prec_20.get(stack_20[-1], -1):\n",
    "                    break\n",
    "                output_20.append(op_map_20[stack_20.pop()])\n",
    "            stack_20.append(token_20)\n",
    "    while stack_20:\n",
    "        output_20.append(op_map_20[stack_20.pop()])\n",
    "    return output_20"
   ]
  }
 ],
 "metadata": {
  "kernelspec": {
   "display_name": "base",
   "language": "python",
   "name": "python3"
  },
  "language_info": {
   "codemirror_mode": {
    "name": "ipython",
    "version": 3
   },
   "file_extension": ".py",
   "mimetype": "text/x-python",
   "name": "python",
   "nbconvert_exporter": "python",
   "pygments_lexer": "ipython3",
   "version": "3.13.5"
  }
 },
 "nbformat": 4,
 "nbformat_minor": 5
}
