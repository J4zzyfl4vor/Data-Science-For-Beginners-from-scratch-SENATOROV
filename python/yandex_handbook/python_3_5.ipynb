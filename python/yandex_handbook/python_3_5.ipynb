{
 "cells": [
  {
   "cell_type": "code",
   "execution_count": 100,
   "id": "4b120c99",
   "metadata": {},
   "outputs": [
    {
     "data": {
      "text/plain": [
       "'Yandex handbook \"Python Basics\" answers.'"
      ]
     },
     "execution_count": 100,
     "metadata": {},
     "output_type": "execute_result"
    }
   ],
   "source": [
    "\"\"\"Yandex handbook \"Python Basics\" answers.\"\"\""
   ]
  },
  {
   "cell_type": "code",
   "execution_count": 83,
   "id": "77be5b9c",
   "metadata": {},
   "outputs": [
    {
     "name": "stdout",
     "output_type": "stream",
     "text": [
      "45\n"
     ]
    }
   ],
   "source": [
    "import json\n",
    "from typing import Dict, List, Set, Union\n",
    "\n",
    "# 1\n",
    "summa_1: int = 0\n",
    "test_data_1_1: List[str] = [\"1 2 3\", \"4 5 6\", \"7 8 9\"]\n",
    "for line_1 in test_data_1_1:\n",
    "    for item_1 in line_1.split():\n",
    "        summa_1 += int(item_1)\n",
    "print(summa_1)"
   ]
  },
  {
   "cell_type": "code",
   "execution_count": 78,
   "id": "6fcc4b0e",
   "metadata": {},
   "outputs": [
    {
     "name": "stdout",
     "output_type": "stream",
     "text": [
      "5\n"
     ]
    }
   ],
   "source": [
    "# 2\n",
    "total_difference_2: int = 0\n",
    "test_data_2_1: List[str] = [\"A 10 15\", \"B 20 25\", \"C 30 35\"]\n",
    "for line_2 in test_data_2_1:\n",
    "    identifier_2, previous_value_str_2, current_value_str_2 = line_2.split()\n",
    "    previous_value_2: int = int(previous_value_str_2)\n",
    "    current_value_2: int = int(current_value_str_2)\n",
    "    total_difference_2 += current_value_2 - previous_value_2\n",
    "average_difference_2: int = round(total_difference_2 / len(test_data_2_1))\n",
    "print(average_difference_2)"
   ]
  },
  {
   "cell_type": "code",
   "execution_count": 79,
   "id": "55f2246a",
   "metadata": {},
   "outputs": [
    {
     "name": "stdout",
     "output_type": "stream",
     "text": [
      "print('Hello')  \n",
      "code_without_comment\n",
      "What is your name?\n",
      "Hello, Иван!\n"
     ]
    }
   ],
   "source": [
    "# 3\n",
    "test_data_3_1: List[str] = [\n",
    "    \"print('Hello')  # Комментарий\",\n",
    "    \"# Только комментарий\",\n",
    "    \"\",\n",
    "    \"code_without_comment\",\n",
    "]\n",
    "for raw_line_3 in test_data_3_1:\n",
    "    if raw_line_3 == \"\\n\":\n",
    "        print(raw_line_3, end=\"\")\n",
    "    elif raw_line_3 and raw_line_3[0] != \"#\":\n",
    "        comment_position_3: int = raw_line_3.find(\"# \")\n",
    "        if comment_position_3 != -1:\n",
    "            raw_line_3 = raw_line_3[:comment_position_3]\n",
    "        if raw_line_3.endswith(\"\\n\"):\n",
    "            raw_line_3 = raw_line_3[:-1]\n",
    "        print(raw_line_3)\n",
    "print(\"What is your name?\")\n",
    "name_3: str = \"Иван\"\n",
    "print(f\"Hello, {name_3}!\")"
   ]
  },
  {
   "cell_type": "code",
   "execution_count": 80,
   "id": "5b1e915b",
   "metadata": {},
   "outputs": [
    {
     "name": "stdout",
     "output_type": "stream",
     "text": [
      "Яндекс выпустил задачник по программированию\n",
      "Как заказать Яндекс.Такси?!\n"
     ]
    }
   ],
   "source": [
    "# 4\n",
    "clean_lines_4: List[str] = [\n",
    "    \"Яндекс выпустил задачник по программированию\",\n",
    "    \"Как заказать Яндекс.Такси?!\",\n",
    "    \"Новости технологий\",\n",
    "]\n",
    "search_query_1_4: str = \"яндекс\"\n",
    "for title_4 in clean_lines_4:\n",
    "    if search_query_1_4.lower() in title_4.lower():\n",
    "        print(title_4)"
   ]
  },
  {
   "cell_type": "code",
   "execution_count": 57,
   "id": "61f8d56a",
   "metadata": {},
   "outputs": [
    {
     "name": "stdout",
     "output_type": "stream",
     "text": [
      "Анна\n",
      "Ара\n",
      "Дед\n",
      "Я\n",
      "и\n",
      "топот\n",
      "шалаш\n"
     ]
    }
   ],
   "source": [
    "# 5\n",
    "palindromic_words_5: List[str] = []\n",
    "test_data_5_1: List[str] = [\"Анна и Дед\", \"топот и шалаш\", \"Ара и Я\"]\n",
    "for line_5 in test_data_5_1:\n",
    "    if line_5.endswith(\"\\n\"):\n",
    "        line_5 = line_5[:-1]\n",
    "    word_list_5: List[str] = line_5.split()\n",
    "    for word_5 in word_list_5:\n",
    "        upper_word_5: str = word_5.upper()\n",
    "        if upper_word_5 == upper_word_5[::-1]:\n",
    "            palindromic_words_5.append(word_5)\n",
    "unique_sorted_words_5: List[str] = sorted(set(palindromic_words_5))\n",
    "print(\"\\n\".join(unique_sorted_words_5))"
   ]
  },
  {
   "cell_type": "code",
   "execution_count": 81,
   "id": "a3921f82",
   "metadata": {},
   "outputs": [
    {
     "name": "stdout",
     "output_type": "stream",
     "text": [
      "Privet, mir!\n"
     ]
    }
   ],
   "source": [
    "# 6\n",
    "cyrillic_to_latin_6: Dict[str, str] = {\n",
    "    \"А\": \"A\",\n",
    "    \"Б\": \"B\",\n",
    "    \"В\": \"V\",\n",
    "    \"Г\": \"G\",\n",
    "    \"Д\": \"D\",\n",
    "    \"Е\": \"E\",\n",
    "    \"Ё\": \"E\",\n",
    "    \"Ж\": \"ZH\",\n",
    "    \"З\": \"Z\",\n",
    "    \"И\": \"I\",\n",
    "    \"Й\": \"I\",\n",
    "    \"К\": \"K\",\n",
    "    \"Л\": \"L\",\n",
    "    \"М\": \"M\",\n",
    "    \"Н\": \"N\",\n",
    "    \"О\": \"O\",\n",
    "    \"П\": \"P\",\n",
    "    \"Р\": \"R\",\n",
    "    \"С\": \"S\",\n",
    "    \"Т\": \"T\",\n",
    "    \"У\": \"U\",\n",
    "    \"Ф\": \"F\",\n",
    "    \"Х\": \"KH\",\n",
    "    \"Ц\": \"TC\",\n",
    "    \"Ч\": \"CH\",\n",
    "    \"Ш\": \"SH\",\n",
    "    \"Щ\": \"SHCH\",\n",
    "    \"Ы\": \"Y\",\n",
    "    \"Э\": \"E\",\n",
    "    \"Ю\": \"IU\",\n",
    "    \"Я\": \"IA\",\n",
    "    \"Ь\": \"\",\n",
    "    \"Ъ\": \"\",\n",
    "}\n",
    "test_input_6: str = \"Привет, мир!\"\n",
    "transliterated_text_6: str = \"\"\n",
    "for char_6 in test_input_6:\n",
    "    upper_char_6: str = char_6.upper()\n",
    "    if upper_char_6 in cyrillic_to_latin_6:\n",
    "        latin_equivalent_6: str = cyrillic_to_latin_6[upper_char_6]\n",
    "        if char_6.isupper():\n",
    "            transliterated_char_6: str = latin_equivalent_6.capitalize()\n",
    "        else:\n",
    "            transliterated_char_6 = latin_equivalent_6.lower()\n",
    "    else:\n",
    "        transliterated_char_6 = char_6\n",
    "    transliterated_text_6 += transliterated_char_6\n",
    "print(transliterated_text_6)"
   ]
  },
  {
   "cell_type": "code",
   "execution_count": 82,
   "id": "5907cc35",
   "metadata": {},
   "outputs": [
    {
     "name": "stdout",
     "output_type": "stream",
     "text": [
      "14\n",
      "9\n",
      "-7\n",
      "20\n",
      "59\n",
      "4.21\n"
     ]
    }
   ],
   "source": [
    "# 7\n",
    "file_content_7: str = \"1 -2 3 -4 5 6 -7 8 9 10 -5 20 0 15\"\n",
    "integer_list_7: List[int] = []\n",
    "for token_7 in file_content_7.split():\n",
    "    integer_list_7.append(int(token_7))\n",
    "total_count_7: int = len(integer_list_7)\n",
    "positive_count_7: int = 0\n",
    "for number_7 in integer_list_7:\n",
    "    if number_7 > 0:\n",
    "        positive_count_7 += 1\n",
    "minimum_value_7: int = integer_list_7[0]\n",
    "maximum_value_7: int = integer_list_7[0]\n",
    "total_sum_7: int = 0\n",
    "for number_7 in integer_list_7:\n",
    "    minimum_value_7 = min(minimum_value_7, number_7)\n",
    "    maximum_value_7 = max(maximum_value_7, number_7)\n",
    "    total_sum_7 += number_7\n",
    "average_value_7: float = total_sum_7 / total_count_7\n",
    "print(total_count_7)\n",
    "print(positive_count_7)\n",
    "print(minimum_value_7)\n",
    "print(maximum_value_7)\n",
    "print(total_sum_7)\n",
    "print(f\"{average_value_7:.2f}\")"
   ]
  },
  {
   "cell_type": "code",
   "execution_count": 84,
   "id": "a1fdc320",
   "metadata": {},
   "outputs": [
    {
     "name": "stdout",
     "output_type": "stream",
     "text": [
      "жвачка\n",
      "молоко\n",
      "печенье\n",
      "пряник\n",
      "\n"
     ]
    }
   ],
   "source": [
    "# 8\n",
    "words_from_file_1_8: Set[str] = {\"чай\", \"кофе\", \"молоко\", \"печенье\"}\n",
    "words_from_file_2_8: Set[str] = {\"кофе\", \"пряник\", \"жвачка\", \"чай\"}\n",
    "unique_words_8: Set[str] = words_from_file_1_8 ^ words_from_file_2_8\n",
    "output_content_8: str = \"\"\n",
    "for word_8 in sorted(unique_words_8):\n",
    "    output_content_8 += word_8 + \"\\n\"\n",
    "print(output_content_8)"
   ]
  },
  {
   "cell_type": "code",
   "execution_count": 85,
   "id": "75666425",
   "metadata": {},
   "outputs": [
    {
     "name": "stdout",
     "output_type": "stream",
     "text": [
      "очень плохо форматированный текст\n",
      "нуну\n",
      "прямо\n",
      "очень-очень\n",
      "\n"
     ]
    }
   ],
   "source": [
    "# 9\n",
    "test_input_9: List[str] = [\n",
    "    \"  очень   плохо   форматированный   текст  \",\n",
    "    \"нуну\",\n",
    "    \"  прямо  \",\n",
    "    \"  очень-очень  \",\n",
    "]\n",
    "cleaned_lines_9: List[List[str]] = []\n",
    "for raw_line_9 in test_input_9:\n",
    "    tokens_9: List[str] = raw_line_9.strip().replace(\"\\t\", \"\").split()\n",
    "    if any(tokens_9):\n",
    "        cleaned_lines_9.append(tokens_9)\n",
    "output_content_9: str = \"\"\n",
    "for token_list_9 in cleaned_lines_9:\n",
    "    output_content_9 += \" \".join(token_list_9) + \"\\n\"\n",
    "print(output_content_9)"
   ]
  },
  {
   "cell_type": "code",
   "execution_count": 86,
   "id": "55feeff9",
   "metadata": {},
   "outputs": [
    {
     "name": "stdout",
     "output_type": "stream",
     "text": [
      "4 строка\n",
      "5 строка\n"
     ]
    }
   ],
   "source": [
    "# 10\n",
    "lines_10: List[str] = [\"1 строка\", \"2 строка\", \"3 строка\", \"4 строка\", \"5 строка\"]\n",
    "lines_to_print_10: int = 2\n",
    "for line_10 in lines_10[-lines_to_print_10:]:\n",
    "    print(line_10.strip())"
   ]
  },
  {
   "cell_type": "code",
   "execution_count": 87,
   "id": "b6fc387a",
   "metadata": {},
   "outputs": [
    {
     "name": "stdout",
     "output_type": "stream",
     "text": [
      "{\n",
      "    \"count\": 14,\n",
      "    \"positive_count\": 9,\n",
      "    \"min\": -7,\n",
      "    \"max\": 20,\n",
      "    \"sum\": 59,\n",
      "    \"average\": 4.21\n",
      "}\n"
     ]
    }
   ],
   "source": [
    "# 11\n",
    "number_list_11: List[int] = [1, -2, 3, -4, 5, 6, -7, 8, 9, 10, -5, 20, 0, 15]\n",
    "number_count_11: int = len(number_list_11)\n",
    "positive_count_2_11: int = 0\n",
    "for num_11 in number_list_11:\n",
    "    if num_11 > 0:\n",
    "        positive_count_2_11 += 1\n",
    "minimum_value_2_11: int = number_list_11[0]\n",
    "maximum_value_2_11: int = number_list_11[0]\n",
    "total_sum_2_11: int = 0\n",
    "for num_11 in number_list_11:\n",
    "    minimum_value_2_11 = min(minimum_value_2_11, num_11)\n",
    "    maximum_value_2_11 = max(maximum_value_2_11, num_11)\n",
    "    total_sum_2_11 += num_11\n",
    "average_value_2_11: float = round(total_sum_2_11 / number_count_11, 2)\n",
    "statistics_11: Dict[str, Union[int, float]] = {\n",
    "    \"count\": number_count_11,\n",
    "    \"positive_count\": positive_count_2_11,\n",
    "    \"min\": minimum_value_2_11,\n",
    "    \"max\": maximum_value_2_11,\n",
    "    \"sum\": total_sum_2_11,\n",
    "    \"average\": average_value_2_11,\n",
    "}\n",
    "json_output_11: str = json.dumps(statistics_11, ensure_ascii=False, indent=4)\n",
    "print(json_output_11)"
   ]
  },
  {
   "cell_type": "code",
   "execution_count": 88,
   "id": "af643389",
   "metadata": {},
   "outputs": [
    {
     "name": "stdout",
     "output_type": "stream",
     "text": [
      "629700 1504180 8460612246 29409368 5725268 2198001838 975628465 44200289 28987042\n",
      "650975472 591084323 577023 58531725 796451 69358 7195510 9756641 979391 93479581 291170\n",
      "42161437\n"
     ]
    }
   ],
   "source": [
    "# 12\n",
    "test_lines_12: List[str] = [\n",
    "    \"629700 650975472 42161437 591084323 577023 1504180\",\n",
    "    \"8460612246 58531725 29409368 5725268 2198001838\",\n",
    "    \"796451 69358 7195510 9756641 975628465\",\n",
    "    \"979391 93479581 291170 44200289 28987042\",\n",
    "]\n",
    "even_digits_12: Set[str] = set(\"02468\")\n",
    "odd_digits_12: Set[str] = set(\"13579\")\n",
    "even_numbers_12: List[str] = []\n",
    "odd_numbers_12: List[str] = []\n",
    "equal_numbers_12: List[str] = []\n",
    "for line_12 in test_lines_12:\n",
    "    for number_str_12 in line_12.split():\n",
    "        even_count_12: int = 0\n",
    "        odd_count_12: int = 0\n",
    "        for char_12 in number_str_12:\n",
    "            if char_12 in even_digits_12:\n",
    "                even_count_12 += 1\n",
    "            elif char_12 in odd_digits_12:\n",
    "                odd_count_12 += 1\n",
    "        if even_count_12 > odd_count_12:\n",
    "            even_numbers_12.append(number_str_12)\n",
    "        elif odd_count_12 > even_count_12:\n",
    "            odd_numbers_12.append(number_str_12)\n",
    "        else:\n",
    "            equal_numbers_12.append(number_str_12)\n",
    "print(\" \".join(even_numbers_12))\n",
    "print(\" \".join(odd_numbers_12))\n",
    "print(\" \".join(equal_numbers_12))"
   ]
  },
  {
   "cell_type": "code",
   "execution_count": 89,
   "id": "87ba8a87",
   "metadata": {},
   "outputs": [
    {
     "name": "stdout",
     "output_type": "stream",
     "text": [
      "{\n",
      "    \"one\": \"один\",\n",
      "    \"three\": \"три\",\n",
      "    \"two\": \"два\"\n",
      "}\n"
     ]
    }
   ],
   "source": [
    "# 13\n",
    "data_13: Dict[str, str] = {\"one\": \"один\", \"three\": \"три\"}\n",
    "test_updates_13: List[str] = [\"two == два\"]\n",
    "for line_13 in test_updates_13:\n",
    "    if \"==\" in line_13:\n",
    "        key_13, value_13 = line_13.split(\"==\", maxsplit=1)\n",
    "        data_13[key_13.strip()] = value_13.strip()\n",
    "json_output_13: str = json.dumps(data_13, sort_keys=False, indent=4, ensure_ascii=False)\n",
    "print(json_output_13)"
   ]
  },
  {
   "cell_type": "code",
   "execution_count": 91,
   "id": "57699a6a",
   "metadata": {},
   "outputs": [
    {
     "name": "stdout",
     "output_type": "stream",
     "text": [
      "{\n",
      "    \"Ann\": {\n",
      "        \"address\": \"Flower st.\",\n",
      "        \"phone\": \"+7 (111) 222-33-44\"\n",
      "    },\n",
      "    \"Bob\": {\n",
      "        \"address\": \"Winter st.\",\n",
      "        \"phone\": \"+7 (123) 456-78-90\"\n",
      "    }\n",
      "}\n"
     ]
    }
   ],
   "source": [
    "# 14\n",
    "source_data_14: List[Dict[str, Union[str, int]]] = [\n",
    "    {\"name\": \"Ann\", \"address\": \"Flower st.\", \"phone\": \"+7 (098) 765-43-21\"},\n",
    "    {\"name\": \"Bob\", \"address\": \"Winter st.\", \"phone\": \"+7 (123) 456-78-90\"},\n",
    "]\n",
    "update_data_14: List[Dict[str, Union[str, int]]] = [\n",
    "    {\"name\": \"Ann\", \"phone\": \"+7 (111) 222-33-44\"},\n",
    "    {\"name\": \"Bob\", \"address\": \"Summer st.\"},\n",
    "]\n",
    "name_key_14: str = \"name\"\n",
    "merged_data_14: Dict[str, Dict[str, Union[str, int]]] = {}\n",
    "for record_14 in source_data_14:\n",
    "    name_14: str = str(record_14[name_key_14])\n",
    "    merged_data_14[name_14] = {}\n",
    "    for key_14, value_14 in record_14.items():\n",
    "        if key_14 != name_key_14:\n",
    "            merged_data_14[name_14][key_14] = value_14\n",
    "for update_14 in update_data_14:\n",
    "    name_14 = str(update_14[name_key_14])\n",
    "    if name_14 not in merged_data_14:\n",
    "        merged_data_14[name_14] = {}\n",
    "    for key_14, new_value_14 in update_14.items():\n",
    "        if key_14 == name_key_14:\n",
    "            continue\n",
    "        old_value_14 = merged_data_14[name_14].get(key_14)\n",
    "        if isinstance(new_value_14, (int, float)) and isinstance(\n",
    "            old_value_14, (int, float)\n",
    "        ):\n",
    "            if new_value_14 > old_value_14:\n",
    "                merged_data_14[name_14][key_14] = new_value_14\n",
    "        elif isinstance(new_value_14, str) and isinstance(old_value_14, str):\n",
    "            if new_value_14 > old_value_14:\n",
    "                merged_data_14[name_14][key_14] = new_value_14\n",
    "        elif old_value_14 is None:\n",
    "            merged_data_14[name_14][key_14] = new_value_14\n",
    "json_output_14: str = json.dumps(merged_data_14, indent=4, ensure_ascii=False)\n",
    "print(json_output_14)"
   ]
  },
  {
   "cell_type": "code",
   "execution_count": 99,
   "id": "78fbcbc0",
   "metadata": {},
   "outputs": [
    {
     "name": "stdout",
     "output_type": "stream",
     "text": [
      "50\n"
     ]
    }
   ],
   "source": [
    "# 15\n",
    "test_blocks_15: List[Dict[str, object]] = [\n",
    "    {\n",
    "        \"points\": \"50\",\n",
    "        \"tests\": [{\"pattern\": \"42\", \"answer\": \"\"}, {\"pattern\": \"hello\", \"answer\": \"\"}],\n",
    "    }\n",
    "]\n",
    "total_score_15: int = 0\n",
    "user_responses_15: List[str] = [\"42\", \"hello\"]\n",
    "response_index_15: int = 0\n",
    "for test_block_15 in test_blocks_15:\n",
    "    questions_15 = test_block_15[\"tests\"]\n",
    "    points_value = test_block_15[\"points\"]\n",
    "    if isinstance(questions_15, list) and isinstance(points_value, str):\n",
    "        points_raw_15: int = int(points_value)\n",
    "        points_per_question_15: int = points_raw_15 // len(questions_15)\n",
    "        for question_15 in questions_15:\n",
    "            if isinstance(question_15, dict) and \"pattern\" in question_15:\n",
    "                expected_answer_15: str = str(question_15[\"pattern\"])\n",
    "                user_response_15: str = user_responses_15[response_index_15]\n",
    "                response_index_15 += 1\n",
    "                if user_response_15 == expected_answer_15:\n",
    "                    total_score_15 += points_per_question_15\n",
    "print(total_score_15)"
   ]
  },
  {
   "cell_type": "code",
   "execution_count": 93,
   "id": "130b39c2",
   "metadata": {},
   "outputs": [
    {
     "name": "stdout",
     "output_type": "stream",
     "text": [
      "test.txt\n"
     ]
    }
   ],
   "source": [
    "# 16\n",
    "search_query_16: str = \"test\"\n",
    "file_contents_16: List[str] = [\"This is a test content\", \"No match here\"]\n",
    "match_found_16: bool = False\n",
    "for content_16 in file_contents_16:\n",
    "    raw_text_16: str = content_16.replace(\"\\xa0\", \" \").lower()\n",
    "    content_cleaned_16: str = \" \".join(raw_text_16.split())\n",
    "    if search_query_16.lower() in content_cleaned_16:\n",
    "        print(\"test.txt\")\n",
    "        match_found_16 = True\n",
    "        break\n",
    "if not match_found_16:\n",
    "    print(\"404. Not Found\")"
   ]
  },
  {
   "cell_type": "code",
   "execution_count": 94,
   "id": "fe43fbfe",
   "metadata": {},
   "outputs": [
    {
     "name": "stdout",
     "output_type": "stream",
     "text": [
      "Hello, world!\n"
     ]
    }
   ],
   "source": [
    "# 17\n",
    "encoded_text_1_17: str = \"Hello, world!\"\n",
    "decoded_text_17: str = \"\"\n",
    "for character_17 in encoded_text_1_17:\n",
    "    code_point_17: int = ord(character_17)\n",
    "    if code_point_17 >= 128:\n",
    "        normalized_code_17: int = code_point_17 % 256\n",
    "    else:\n",
    "        normalized_code_17 = code_point_17\n",
    "    decoded_text_17 += chr(normalized_code_17)\n",
    "print(decoded_text_17)"
   ]
  },
  {
   "cell_type": "code",
   "execution_count": 95,
   "id": "b9fefda8",
   "metadata": {},
   "outputs": [
    {
     "name": "stdout",
     "output_type": "stream",
     "text": [
      "193Б\n"
     ]
    }
   ],
   "source": [
    "# 18\n",
    "file_size_18: int = 193\n",
    "size_units_18: List[str] = [\"Б\", \"КБ\", \"МБ\", \"ГБ\", \"ТБ\"]\n",
    "unit_index_18: int = 0\n",
    "while file_size_18 > 1024 and unit_index_18 < len(size_units_18) - 1:\n",
    "    quotient_18: int\n",
    "    remainder_18: int\n",
    "    quotient_18, remainder_18 = divmod(file_size_18, 1024)\n",
    "    file_size_18 = quotient_18 + int(remainder_18 > 0)\n",
    "    unit_index_18 += 1\n",
    "print(f\"{file_size_18}{size_units_18[unit_index_18]}\")"
   ]
  },
  {
   "cell_type": "code",
   "execution_count": 96,
   "id": "80d46a99",
   "metadata": {},
   "outputs": [
    {
     "name": "stdout",
     "output_type": "stream",
     "text": [
      "Khoor, zruog!\n"
     ]
    }
   ],
   "source": [
    "# 19\n",
    "alphabet_19: str = \"abcdefghijklmnopqrstuvwxyz\"\n",
    "shift_value_19: int = 3 % len(alphabet_19)\n",
    "shifted_alphabet_19: str = alphabet_19[shift_value_19:] + alphabet_19[:shift_value_19]\n",
    "cipher_map_19: Dict[str, str] = {}\n",
    "for original_19, shifted_19 in zip(alphabet_19, shifted_alphabet_19):\n",
    "    cipher_map_19[original_19] = shifted_19\n",
    "original_text_19: str = \"Hello, world!\"\n",
    "encoded_chars_19: List[str] = []\n",
    "for char_19 in original_text_19:\n",
    "    lower_char_19: str = char_19.lower()\n",
    "    if lower_char_19 in cipher_map_19:\n",
    "        new_char_19: str = cipher_map_19[lower_char_19]\n",
    "        if char_19.isupper():\n",
    "            encoded_chars_19.append(new_char_19.upper())\n",
    "        else:\n",
    "            encoded_chars_19.append(new_char_19)\n",
    "    else:\n",
    "        encoded_chars_19.append(char_19)\n",
    "encoded_text_2_19: str = \"\".join(encoded_chars_19)\n",
    "print(encoded_text_2_19)"
   ]
  },
  {
   "cell_type": "code",
   "execution_count": 97,
   "id": "127eb0be",
   "metadata": {},
   "outputs": [
    {
     "name": "stdout",
     "output_type": "stream",
     "text": [
      "3840\n"
     ]
    }
   ],
   "source": [
    "# 20\n",
    "test_bytes_20: bytes = b\"\\x01\\x00\\x02\\x00\\x03\\x00\\x04\\x00\\x05\\x00\"\n",
    "byte_chunk_size_20: int = 2\n",
    "modulo_20: int = 0x10000\n",
    "total_sum_20: int = 0\n",
    "index_20: int = 0\n",
    "while index_20 < len(test_bytes_20):\n",
    "    chunk_20: bytes = test_bytes_20[index_20 : index_20 + byte_chunk_size_20]\n",
    "    total_sum_20 += int.from_bytes(chunk_20)\n",
    "    index_20 += byte_chunk_size_20\n",
    "result_20: int = total_sum_20 % modulo_20\n",
    "print(result_20)"
   ]
  }
 ],
 "metadata": {
  "kernelspec": {
   "display_name": "base",
   "language": "python",
   "name": "python3"
  },
  "language_info": {
   "codemirror_mode": {
    "name": "ipython",
    "version": 3
   },
   "file_extension": ".py",
   "mimetype": "text/x-python",
   "name": "python",
   "nbconvert_exporter": "python",
   "pygments_lexer": "ipython3",
   "version": "3.13.5"
  }
 },
 "nbformat": 4,
 "nbformat_minor": 5
}
