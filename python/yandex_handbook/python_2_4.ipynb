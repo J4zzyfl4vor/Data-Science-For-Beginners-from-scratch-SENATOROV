{
 "cells": [
  {
   "cell_type": "code",
   "execution_count": 1,
   "id": "ebecb6b8",
   "metadata": {},
   "outputs": [
    {
     "data": {
      "text/plain": [
       "'Yandex handbook \"Python Basics\" answers.'"
      ]
     },
     "execution_count": 1,
     "metadata": {},
     "output_type": "execute_result"
    }
   ],
   "source": [
    "\"\"\"Yandex handbook \"Python Basics\" answers.\"\"\""
   ]
  },
  {
   "cell_type": "code",
   "execution_count": 22,
   "id": "55370bc9",
   "metadata": {},
   "outputs": [
    {
     "name": "stdout",
     "output_type": "stream",
     "text": [
      "1 2 3 4 5 6 7 \n",
      "2 4 6 8 10 12 14 \n",
      "3 6 9 12 15 18 21 \n",
      "4 8 12 16 20 24 28 \n",
      "5 10 15 20 25 30 35 \n",
      "6 12 18 24 30 36 42 \n",
      "7 14 21 28 35 42 49 \n"
     ]
    }
   ],
   "source": [
    "# 1\n",
    "size_tbl_1: int = 7\n",
    "\n",
    "for row_i_1 in range(size_tbl_1):\n",
    "    for col_j_1 in range(size_tbl_1):\n",
    "        print((row_i_1 + 1) * (col_j_1 + 1), end=\" \")\n",
    "    print()"
   ]
  },
  {
   "cell_type": "code",
   "execution_count": 23,
   "id": "6024cf77",
   "metadata": {},
   "outputs": [
    {
     "name": "stdout",
     "output_type": "stream",
     "text": [
      "1 * 1 = 1\n",
      "2 * 1 = 2\n",
      "3 * 1 = 3\n",
      "1 * 2 = 2\n",
      "2 * 2 = 4\n",
      "3 * 2 = 6\n",
      "1 * 3 = 3\n",
      "2 * 3 = 6\n",
      "3 * 3 = 9\n"
     ]
    }
   ],
   "source": [
    "# 2\n",
    "size_tbl_2: int = 3\n",
    "\n",
    "for mult_a_2 in range(1, size_tbl_2 + 1):\n",
    "    for mult_b_2 in range(1, size_tbl_2 + 1):\n",
    "        print(f\"{mult_b_2} * {mult_a_2} = {mult_a_2 * mult_b_2}\")"
   ]
  },
  {
   "cell_type": "code",
   "execution_count": 24,
   "id": "11b6a29d",
   "metadata": {},
   "outputs": [
    {
     "name": "stdout",
     "output_type": "stream",
     "text": [
      "1 \n",
      "2 3 \n",
      "4 5 6 \n",
      "7 8 9 10 \n",
      "11 12 "
     ]
    }
   ],
   "source": [
    "# 3\n",
    "total_nums_3: int = 12\n",
    "\n",
    "limit_3: int = 1\n",
    "curr_cnt_3: int = 0\n",
    "\n",
    "for idx_3 in range(total_nums_3):\n",
    "    curr_cnt_3 += 1\n",
    "    print(idx_3 + 1, end=\" \")\n",
    "    if curr_cnt_3 == limit_3:\n",
    "        print()\n",
    "        limit_3 += 1\n",
    "        curr_cnt_3 = 0"
   ]
  },
  {
   "cell_type": "code",
   "execution_count": 25,
   "id": "cb5acced",
   "metadata": {},
   "outputs": [
    {
     "name": "stdout",
     "output_type": "stream",
     "text": [
      "35\n"
     ]
    }
   ],
   "source": [
    "# 4\n",
    "count_vals_4: int = 3\n",
    "numbers_4: list[int] = [99, 88, 1]\n",
    "\n",
    "total_sum_4: int = 0\n",
    "\n",
    "for val_4 in numbers_4:\n",
    "    temp_4: int = val_4\n",
    "    while temp_4 > 0:\n",
    "        total_sum_4 += temp_4 % 10\n",
    "        temp_4 //= 10\n",
    "\n",
    "print(total_sum_4)"
   ]
  },
  {
   "cell_type": "code",
   "execution_count": 26,
   "id": "14e203e5",
   "metadata": {},
   "outputs": [
    {
     "name": "stdout",
     "output_type": "stream",
     "text": [
      "2\n"
     ]
    }
   ],
   "source": [
    "# 5\n",
    "scenes_5: int = 3\n",
    "texts_5: list[list[str]] = [\n",
    "    [\"зайка\", \"ёлка\", \"ВСЁ\"],\n",
    "    [\"лиса\", \"зайка\", \"ВСЁ\"],\n",
    "    [\"медведь\", \"ВСЁ\"],\n",
    "]\n",
    "\n",
    "bunny_hits_5: int = 0\n",
    "\n",
    "for scene_5 in texts_5:\n",
    "    charged_5: bool = False\n",
    "    for line_5 in scene_5:\n",
    "        if line_5 == \"ВСЁ\":\n",
    "            break\n",
    "        if line_5 == \"зайка\" and not charged_5:\n",
    "            bunny_hits_5 += 1\n",
    "            charged_5 = True\n",
    "\n",
    "print(bunny_hits_5)"
   ]
  },
  {
   "cell_type": "code",
   "execution_count": 27,
   "id": "8b82b679",
   "metadata": {},
   "outputs": [
    {
     "name": "stdout",
     "output_type": "stream",
     "text": [
      "6\n"
     ]
    }
   ],
   "source": [
    "# 6\n",
    "nums_gcd_6: int = 3\n",
    "values_gcd_6: list[int] = [12, 18, 24]\n",
    "\n",
    "result_gcd_6: int = values_gcd_6[0]\n",
    "\n",
    "for idx_6 in range(1, nums_gcd_6):\n",
    "    temp_6: int = values_gcd_6[idx_6]\n",
    "    a_6, b_6 = result_gcd_6, temp_6\n",
    "    while b_6 != 0:\n",
    "        a_6, b_6 = b_6, a_6 % b_6\n",
    "    result_gcd_6 = a_6\n",
    "\n",
    "print(result_gcd_6)"
   ]
  },
  {
   "cell_type": "code",
   "execution_count": 28,
   "id": "8d5267f7",
   "metadata": {},
   "outputs": [
    {
     "name": "stdout",
     "output_type": "stream",
     "text": [
      "До старта 3 секунд(ы)\n",
      "До старта 2 секунд(ы)\n",
      "До старта 1 секунд(ы)\n",
      "Старт 1!!!\n",
      "До старта 4 секунд(ы)\n",
      "До старта 3 секунд(ы)\n",
      "До старта 2 секунд(ы)\n",
      "До старта 1 секунд(ы)\n",
      "Старт 2!!!\n"
     ]
    }
   ],
   "source": [
    "# 7\n",
    "launches_7: int = 2\n",
    "base_delay_7: int = 3\n",
    "\n",
    "for launch_idx_7 in range(launches_7):\n",
    "    for sec_7 in range(base_delay_7 + launch_idx_7, 0, -1):\n",
    "        print(f\"До старта {sec_7} секунд(ы)\")\n",
    "    print(f\"Старт {launch_idx_7 + 1}!!!\")"
   ]
  },
  {
   "cell_type": "code",
   "execution_count": 29,
   "id": "381d9c7b",
   "metadata": {},
   "outputs": [
    {
     "name": "stdout",
     "output_type": "stream",
     "text": [
      "Анна\n"
     ]
    }
   ],
   "source": [
    "# 8\n",
    "entries_8: int = 2\n",
    "names_8: list[str] = [\"Анна\", \"Денис\"]\n",
    "scores_8: list[int] = [19, 23]\n",
    "\n",
    "best_name_8: str = \"\"\n",
    "max_sum_8: int = 0\n",
    "\n",
    "for idx_8 in range(entries_8):\n",
    "    name_8: str = names_8[idx_8]\n",
    "    num_8: int = scores_8[idx_8]\n",
    "\n",
    "    digit_sum_8: int = 0\n",
    "    temp_8: int = num_8\n",
    "    while temp_8 > 0:\n",
    "        digit_sum_8 += temp_8 % 10\n",
    "        temp_8 //= 10\n",
    "\n",
    "    if digit_sum_8 >= max_sum_8:\n",
    "        max_sum_8 = digit_sum_8\n",
    "        best_name_8 = name_8\n",
    "\n",
    "print(best_name_8)"
   ]
  },
  {
   "cell_type": "code",
   "execution_count": 30,
   "id": "327401c5",
   "metadata": {},
   "outputs": [
    {
     "name": "stdout",
     "output_type": "stream",
     "text": [
      "46\n"
     ]
    }
   ],
   "source": [
    "# 9\n",
    "count_nums_9: int = 2\n",
    "input_vals_9: list[int] = [42, 65]\n",
    "\n",
    "final_num_9: int = 0\n",
    "\n",
    "for val_9 in input_vals_9:\n",
    "    max_dig_9: int = int(max(str(val_9)))\n",
    "    final_num_9 = final_num_9 * 10 + max_dig_9\n",
    "\n",
    "print(final_num_9)"
   ]
  },
  {
   "cell_type": "code",
   "execution_count": 31,
   "id": "faa3c8fa",
   "metadata": {},
   "outputs": [
    {
     "name": "stdout",
     "output_type": "stream",
     "text": [
      "А Б В\n",
      "1 1 1\n"
     ]
    }
   ],
   "source": [
    "# 10\n",
    "pieces_10: int = 3\n",
    "\n",
    "print(\"А Б В\")\n",
    "for a_10 in range(1, pieces_10 - 1):\n",
    "    for b_10 in range(1, pieces_10 - a_10):\n",
    "        c_10: int = pieces_10 - a_10 - b_10\n",
    "        print(a_10, b_10, c_10)"
   ]
  },
  {
   "cell_type": "code",
   "execution_count": 32,
   "id": "372a895a",
   "metadata": {},
   "outputs": [
    {
     "name": "stdout",
     "output_type": "stream",
     "text": [
      "3\n"
     ]
    }
   ],
   "source": [
    "# 11\n",
    "total_vals_11: int = 5\n",
    "candidates_11: list[int] = [2, 3, 4, 5, 6]\n",
    "\n",
    "prime_total_11: int = 0\n",
    "\n",
    "for num_11 in candidates_11:\n",
    "    if num_11 > 1:\n",
    "        is_prime_11: bool = True\n",
    "        div_11: int = 2\n",
    "        while div_11 <= int(num_11**0.5) and is_prime_11:\n",
    "            if num_11 % div_11 == 0:\n",
    "                is_prime_11 = False\n",
    "            else:\n",
    "                div_11 += 1\n",
    "        if is_prime_11:\n",
    "            prime_total_11 += 1\n",
    "\n",
    "print(prime_total_11)"
   ]
  },
  {
   "cell_type": "code",
   "execution_count": 33,
   "id": "8c673702",
   "metadata": {},
   "outputs": [
    {
     "name": "stdout",
     "output_type": "stream",
     "text": [
      "1 2 3 4 \n",
      "5 6 7 8 \n"
     ]
    }
   ],
   "source": [
    "# 12\n",
    "rows_12: int = 2\n",
    "cols_12: int = 4\n",
    "\n",
    "width_12: int = len(str(rows_12 * cols_12))\n",
    "counter_12: int = 1\n",
    "\n",
    "for _ in range(rows_12):\n",
    "    for _ in range(cols_12):\n",
    "        print(f\"{counter_12:>{width_12}}\", end=\" \")\n",
    "        counter_12 += 1\n",
    "    print()"
   ]
  },
  {
   "cell_type": "code",
   "execution_count": 34,
   "id": "248a4558",
   "metadata": {},
   "outputs": [
    {
     "name": "stdout",
     "output_type": "stream",
     "text": [
      " 1  3  5  7  9 \n",
      " 2  4  6  8 10 \n"
     ]
    }
   ],
   "source": [
    "# 13\n",
    "height_13: int = 2\n",
    "width_13: int = 5\n",
    "\n",
    "cell_w_13: int = len(str(width_13 * height_13))\n",
    "\n",
    "for r_13 in range(height_13):\n",
    "    num_13: int = r_13 + 1\n",
    "    for _ in range(width_13):\n",
    "        print(f\"{num_13:>{cell_w_13}}\", end=\" \")\n",
    "        num_13 += height_13\n",
    "    print()"
   ]
  },
  {
   "cell_type": "code",
   "execution_count": 35,
   "id": "1afd3795",
   "metadata": {},
   "outputs": [
    {
     "name": "stdout",
     "output_type": "stream",
     "text": [
      "1 2 3 \n",
      "6 5 4 \n"
     ]
    }
   ],
   "source": [
    "# 14\n",
    "rows_14: int = 2\n",
    "cols_14: int = 3\n",
    "\n",
    "cell_w_14: int = len(str(rows_14 * cols_14))\n",
    "\n",
    "for i_14 in range(rows_14):\n",
    "    for j_14 in range(cols_14):\n",
    "        val_14: int\n",
    "        if i_14 % 2 == 0:\n",
    "            val_14 = i_14 * cols_14 + j_14 + 1\n",
    "        else:\n",
    "            val_14 = (i_14 + 1) * cols_14 - j_14\n",
    "        print(f\"{val_14:>{cell_w_14}}\", end=\" \")\n",
    "    print()"
   ]
  },
  {
   "cell_type": "code",
   "execution_count": 36,
   "id": "bc13c7ae",
   "metadata": {},
   "outputs": [
    {
     "name": "stdout",
     "output_type": "stream",
     "text": [
      "1 4 5 \n",
      "2 3 6 \n"
     ]
    }
   ],
   "source": [
    "# 15\n",
    "height_15: int = 2\n",
    "width_15: int = 3\n",
    "\n",
    "cell_w_15: int = len(str(width_15 * height_15))\n",
    "\n",
    "for r_15 in range(height_15):\n",
    "    for c_15 in range(width_15):\n",
    "        num_15: int\n",
    "        if c_15 % 2 == 0:\n",
    "            num_15 = c_15 * height_15 + r_15 + 1\n",
    "        else:\n",
    "            num_15 = (c_15 + 1) * height_15 - r_15\n",
    "        print(f\"{num_15:>{cell_w_15}}\", end=\" \")\n",
    "    print()"
   ]
  },
  {
   "cell_type": "code",
   "execution_count": 37,
   "id": "8a90a2b0",
   "metadata": {},
   "outputs": [
    {
     "name": "stdout",
     "output_type": "stream",
     "text": [
      " 1 | 2 | 3 \n",
      "-----------\n",
      " 2 | 4 | 6 \n",
      "-----------\n",
      " 3 | 6 | 9 \n"
     ]
    }
   ],
   "source": [
    "# 16\n",
    "size_16: int = 3\n",
    "cell_w_16: int = 3\n",
    "\n",
    "row_len_16: int = size_16 * cell_w_16 + (size_16 - 1)\n",
    "\n",
    "for i_16 in range(size_16):\n",
    "    for j_16 in range(size_16):\n",
    "        cell_val_16: int = (i_16 + 1) * (j_16 + 1)\n",
    "        print(f\"{cell_val_16:^{cell_w_16}}\", end=\"\")\n",
    "        if j_16 != size_16 - 1:\n",
    "            print(\"|\", end=\"\")\n",
    "    print()\n",
    "    if i_16 != size_16 - 1:\n",
    "        print(\"-\" * row_len_16)"
   ]
  },
  {
   "cell_type": "code",
   "execution_count": 38,
   "id": "b65c9d72",
   "metadata": {},
   "outputs": [
    {
     "name": "stdout",
     "output_type": "stream",
     "text": [
      "4\n"
     ]
    }
   ],
   "source": [
    "# 17\n",
    "palin_count_17: int = 0\n",
    "test_vals_17: list[int] = [121, 123, 454, 11, 9]\n",
    "\n",
    "for num_17 in test_vals_17:\n",
    "    orig_17: int = num_17\n",
    "    rev_17: int = 0\n",
    "    temp_17: int = num_17\n",
    "    while temp_17 > 0:\n",
    "        rev_17 = rev_17 * 10 + temp_17 % 10\n",
    "        temp_17 //= 10\n",
    "    if orig_17 == rev_17:\n",
    "        palin_count_17 += 1\n",
    "\n",
    "print(palin_count_17)"
   ]
  },
  {
   "cell_type": "code",
   "execution_count": 39,
   "id": "aa076ad8",
   "metadata": {},
   "outputs": [
    {
     "name": "stdout",
     "output_type": "stream",
     "text": [
      "  1  \n",
      " 2 3 \n",
      "4 5 6\n",
      "     \n"
     ]
    }
   ],
   "source": [
    "# 18\n",
    "limit_18: int = 6\n",
    "\n",
    "curr_18: int = 0\n",
    "row_w_18: int = 1\n",
    "max_len_18: int = 0\n",
    "\n",
    "while curr_18 <= limit_18:\n",
    "    row_len_18: int = 0\n",
    "    for pos_18 in range(row_w_18):\n",
    "        curr_18 += 1\n",
    "        if curr_18 <= limit_18:\n",
    "            row_len_18 += len(str(curr_18))\n",
    "        if pos_18 < row_w_18 - 1 and curr_18 < limit_18:\n",
    "            row_len_18 += 1\n",
    "    max_len_18 = max(max_len_18, row_len_18)\n",
    "    row_w_18 += 1\n",
    "\n",
    "curr_18 = 0\n",
    "row_w_18 = 1\n",
    "\n",
    "while curr_18 <= limit_18:\n",
    "    row_str_18: str = \"\"\n",
    "    for pos_18 in range(row_w_18):\n",
    "        curr_18 += 1\n",
    "        if curr_18 <= limit_18:\n",
    "            row_str_18 += str(curr_18)\n",
    "        if pos_18 < row_w_18 - 1 and curr_18 < limit_18:\n",
    "            row_str_18 += \" \"\n",
    "    print(f\"{row_str_18:^{max_len_18}}\")\n",
    "    row_w_18 += 1"
   ]
  },
  {
   "cell_type": "code",
   "execution_count": 40,
   "id": "841a538e",
   "metadata": {},
   "outputs": [
    {
     "name": "stdout",
     "output_type": "stream",
     "text": [
      "1 1 1\n",
      "1 2 1\n",
      "1 1 1\n"
     ]
    }
   ],
   "source": [
    "# 19\n",
    "size_19: int = 3\n",
    "\n",
    "cell_w_19: int = len(str((size_19 + 1) // 2))\n",
    "\n",
    "for i_19 in range(size_19):\n",
    "    row_vals_19: list[str] = []\n",
    "    for j_19 in range(size_19):\n",
    "        val_19: int = min(\n",
    "            i_19 + 1,\n",
    "            j_19 + 1,\n",
    "            size_19 - i_19,\n",
    "            size_19 - j_19,\n",
    "        )\n",
    "        row_vals_19.append(f\"{val_19:>{cell_w_19}}\")\n",
    "    print(\" \".join(row_vals_19))"
   ]
  },
  {
   "cell_type": "code",
   "execution_count": 41,
   "id": "b6b021ba",
   "metadata": {},
   "outputs": [
    {
     "name": "stdout",
     "output_type": "stream",
     "text": [
      "6\n"
     ]
    }
   ],
   "source": [
    "# 20\n",
    "num_20: int = 10\n",
    "\n",
    "best_sum_20: int = 0\n",
    "best_base_20: int = 0\n",
    "\n",
    "for base_20 in range(10, 1, -1):\n",
    "    digit_sum_20: int = 0\n",
    "    temp_20: int = num_20\n",
    "    while temp_20 > 0:\n",
    "        digit_sum_20 += temp_20 % base_20\n",
    "        temp_20 //= base_20\n",
    "    if digit_sum_20 >= best_sum_20:\n",
    "        best_sum_20 = digit_sum_20\n",
    "        best_base_20 = base_20\n",
    "\n",
    "print(best_base_20)"
   ]
  }
 ],
 "metadata": {
  "kernelspec": {
   "display_name": "base",
   "language": "python",
   "name": "python3"
  },
  "language_info": {
   "codemirror_mode": {
    "name": "ipython",
    "version": 3
   },
   "file_extension": ".py",
   "mimetype": "text/x-python",
   "name": "python",
   "nbconvert_exporter": "python",
   "pygments_lexer": "ipython3",
   "version": "3.13.5"
  }
 },
 "nbformat": 4,
 "nbformat_minor": 5
}
