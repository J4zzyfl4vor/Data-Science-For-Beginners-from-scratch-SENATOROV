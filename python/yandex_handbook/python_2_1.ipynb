{
 "cells": [
  {
   "cell_type": "code",
   "execution_count": 7,
   "id": "9554de8f",
   "metadata": {},
   "outputs": [
    {
     "data": {
      "text/plain": [
       "'Первый блок модуля.'"
      ]
     },
     "execution_count": 7,
     "metadata": {},
     "output_type": "execute_result"
    }
   ],
   "source": [
    "\"\"\"Первый блок модуля.\"\"\""
   ]
  },
  {
   "cell_type": "code",
   "execution_count": 2,
   "id": "778d332c",
   "metadata": {},
   "outputs": [
    {
     "name": "stdout",
     "output_type": "stream",
     "text": [
      "Привет, мир!\n"
     ]
    }
   ],
   "source": [
    "# 1\n",
    "\n",
    "print(\"Привет, мир!\")"
   ]
  },
  {
   "cell_type": "code",
   "execution_count": 3,
   "id": "62b24665",
   "metadata": {},
   "outputs": [
    {
     "name": "stdout",
     "output_type": "stream",
     "text": [
      "Привет, Анна\n"
     ]
    }
   ],
   "source": [
    "# 2\n",
    "\n",
    "user_name: str = \"Анна\"\n",
    "print(f\"Привет, {user_name}\")"
   ]
  },
  {
   "cell_type": "code",
   "execution_count": 4,
   "id": "a8c3acf1",
   "metadata": {},
   "outputs": [
    {
     "name": "stdout",
     "output_type": "stream",
     "text": [
      "Привет\n",
      "Привет\n",
      "Привет\n"
     ]
    }
   ],
   "source": [
    "# 3\n",
    "\n",
    "message: str = \"Привет\"\n",
    "print(f\"{message}\\n\" * 3, end=\"\")"
   ]
  },
  {
   "cell_type": "code",
   "execution_count": 5,
   "id": "e66bd7ab",
   "metadata": {},
   "outputs": [
    {
     "name": "stdout",
     "output_type": "stream",
     "text": [
      "5\n"
     ]
    }
   ],
   "source": [
    "# 4\n",
    "\n",
    "amount_paid: int = 100\n",
    "price_per_item: float = 2.5\n",
    "quantity: int = 38\n",
    "total_cost: float = price_per_item * quantity\n",
    "change: float = amount_paid - total_cost\n",
    "print(int(change))"
   ]
  },
  {
   "cell_type": "code",
   "execution_count": 7,
   "id": "5bf01eff",
   "metadata": {},
   "outputs": [
    {
     "name": "stdout",
     "output_type": "stream",
     "text": [
      "50\n"
     ]
    }
   ],
   "source": [
    "# 5\n",
    "\n",
    "cost_per_kg: int = 50\n",
    "mass_kg: int = 3\n",
    "money_given: int = 200\n",
    "\n",
    "change_back: int = money_given - (cost_per_kg * mass_kg)\n",
    "print(int(change_back))"
   ]
  },
  {
   "cell_type": "code",
   "execution_count": 1,
   "id": "efe031b4",
   "metadata": {},
   "outputs": [
    {
     "name": "stdout",
     "output_type": "stream",
     "text": [
      "Чек\n",
      "Яблоки - 2кг - 60руб/кг\n",
      "Итого к оплате: 120руб\n",
      "Внесено: 200руб\n",
      "Сдача: 80руб\n",
      "\n"
     ]
    }
   ],
   "source": [
    "# 6\n",
    "\n",
    "product_a: str = \"Яблоки\"\n",
    "price_kg_a: int = 60\n",
    "weight_a: int = 2\n",
    "cash_a: int = 200\n",
    "\n",
    "total_a: int = price_kg_a * weight_a\n",
    "refund_a: int = max(cash_a - total_a, 0)\n",
    "\n",
    "print(\n",
    "    \"Чек\\n\"\n",
    "    f\"{product_a} - {weight_a}кг - {price_kg_a}руб/кг\\n\"\n",
    "    f\"Итого к оплате: {total_a}руб\\n\"\n",
    "    f\"Внесено: {cash_a}руб\\n\"\n",
    "    f\"Сдача: {refund_a}руб\\n\"\n",
    ")"
   ]
  },
  {
   "cell_type": "code",
   "execution_count": 9,
   "id": "89773083",
   "metadata": {},
   "outputs": [
    {
     "name": "stdout",
     "output_type": "stream",
     "text": [
      "Купи слона!\n",
      "Купи слона!\n",
      "Купи слона!\n"
     ]
    }
   ],
   "source": [
    "# 7\n",
    "\n",
    "repetitions: int = 3\n",
    "print(\"Купи слона!\\n\" * repetitions, end=\"\")"
   ]
  },
  {
   "cell_type": "code",
   "execution_count": 10,
   "id": "62c7a939",
   "metadata": {},
   "outputs": [
    {
     "name": "stdout",
     "output_type": "stream",
     "text": [
      "Я ни за что не буду выбирать \"шоколад\"!\n",
      "Я ни за что не буду выбирать \"шоколад\"!\n"
     ]
    }
   ],
   "source": [
    "# 8\n",
    "\n",
    "repeats: int = 2\n",
    "phrase: str = \"шоколад\"\n",
    "\n",
    "print(f'Я ни за что не буду выбирать \"{phrase}\"!\\n' * repeats, end=\"\")"
   ]
  },
  {
   "cell_type": "code",
   "execution_count": 11,
   "id": "e738a28c",
   "metadata": {},
   "outputs": [
    {
     "name": "stdout",
     "output_type": "stream",
     "text": [
      "200\n"
     ]
    }
   ],
   "source": [
    "# 9\n",
    "\n",
    "people_count: int = 4\n",
    "minimum_expense: int = 100\n",
    "\n",
    "ate_amount: int = (people_count * minimum_expense) // 2\n",
    "print(ate_amount)"
   ]
  },
  {
   "cell_type": "code",
   "execution_count": null,
   "id": "34b48b71",
   "metadata": {},
   "outputs": [
    {
     "name": "stdout",
     "output_type": "stream",
     "text": [
      "Группа №2.  \n",
      "4. Иван.  \n",
      "Шкафчик: 234.  \n",
      "Кроватка: 3.\n",
      "\n"
     ]
    }
   ],
   "source": [
    "# 10\n",
    "\n",
    "name: str = \"Иван\"\n",
    "locker_id: int = 234\n",
    "\n",
    "group_id: int = locker_id // 100\n",
    "bed_id: int = (locker_id // 10) % 10\n",
    "list_pos: int = locker_id % 10\n",
    "\n",
    "print(\n",
    "    f\"\"\"Группа №{group_id}.\n",
    "{list_pos}. {name}.\n",
    "Шкафчик: {locker_id}.\n",
    "Кроватка: {bed_id}.\n",
    "\"\"\"\n",
    ")"
   ]
  },
  {
   "cell_type": "code",
   "execution_count": 13,
   "id": "e95a643f",
   "metadata": {},
   "outputs": [
    {
     "name": "stdout",
     "output_type": "stream",
     "text": [
      "2143\n"
     ]
    }
   ],
   "source": [
    "# 11\n",
    "\n",
    "value: int = 1234\n",
    "\n",
    "digit4: int = value % 10\n",
    "value //= 10\n",
    "digit3: int = value % 10\n",
    "value //= 10\n",
    "digit2: int = value % 10\n",
    "value //= 10\n",
    "digit1: int = value\n",
    "\n",
    "result: int = digit2 * 1000 + digit1 * 100 + digit4 * 10 + digit3\n",
    "print(result)"
   ]
  },
  {
   "cell_type": "code",
   "execution_count": 15,
   "id": "d6998d78",
   "metadata": {},
   "outputs": [
    {
     "name": "stdout",
     "output_type": "stream",
     "text": [
      "579\n"
     ]
    }
   ],
   "source": [
    "# 12\n",
    "\n",
    "num_x: int = 123\n",
    "num_y: int = 456\n",
    "\n",
    "total: int = 0\n",
    "place: int = 1\n",
    "\n",
    "while num_x > 0 or num_y > 0:\n",
    "    digit_x: int = num_x % 10\n",
    "    digit_y: int = num_y % 10\n",
    "\n",
    "    digit_val: int = (digit_x + digit_y) % 10\n",
    "\n",
    "    total += digit_val * place\n",
    "\n",
    "    num_x //= 10\n",
    "    num_y //= 10\n",
    "    place *= 10\n",
    "\n",
    "print(total)"
   ]
  },
  {
   "cell_type": "code",
   "execution_count": 16,
   "id": "27666c36",
   "metadata": {},
   "outputs": [
    {
     "name": "stdout",
     "output_type": "stream",
     "text": [
      "2\n",
      "1\n"
     ]
    }
   ],
   "source": [
    "# 13\n",
    "\n",
    "kids_count: int = 2\n",
    "candy_amount: int = 5\n",
    "\n",
    "candies_each: int = candy_amount // kids_count\n",
    "remaining: int = candy_amount % kids_count\n",
    "\n",
    "print(candies_each)\n",
    "print(remaining)"
   ]
  },
  {
   "cell_type": "code",
   "execution_count": 17,
   "id": "b29659a9",
   "metadata": {},
   "outputs": [
    {
     "name": "stdout",
     "output_type": "stream",
     "text": [
      "8\n"
     ]
    }
   ],
   "source": [
    "# 14\n",
    "\n",
    "red_count: int = 3\n",
    "green_count: int = 2\n",
    "blue_count: int = 4\n",
    "\n",
    "attempts: int = red_count + blue_count + 1\n",
    "print(attempts)"
   ]
  },
  {
   "cell_type": "code",
   "execution_count": 18,
   "id": "5786ba3a",
   "metadata": {},
   "outputs": [
    {
     "name": "stdout",
     "output_type": "stream",
     "text": [
      "11:15\n"
     ]
    }
   ],
   "source": [
    "# 15\n",
    "\n",
    "hour: int = 10\n",
    "minutes: int = 45\n",
    "delay: int = 30\n",
    "\n",
    "total_mins: int = minutes + delay\n",
    "added_hours: int = total_mins // 60\n",
    "result_minutes: int = total_mins % 60\n",
    "\n",
    "result_hour: int = (hour + added_hours) % 24\n",
    "\n",
    "print(f\"{result_hour:02d}:{result_minutes:02d}\")"
   ]
  },
  {
   "cell_type": "code",
   "execution_count": 19,
   "id": "df40cedf",
   "metadata": {},
   "outputs": [
    {
     "name": "stdout",
     "output_type": "stream",
     "text": [
      "1.33\n"
     ]
    }
   ],
   "source": [
    "# 16\n",
    "\n",
    "initial_km: int = 10\n",
    "final_km: int = 50\n",
    "velocity: int = 30\n",
    "\n",
    "duration: float = (final_km - initial_km) / velocity\n",
    "print(f\"{duration:.2f}\")"
   ]
  },
  {
   "cell_type": "code",
   "execution_count": null,
   "id": "10ea9223",
   "metadata": {},
   "outputs": [
    {
     "name": "stdout",
     "output_type": "stream",
     "text": [
      "158\n"
     ]
    }
   ],
   "source": [
    "# 17\n",
    "\n",
    "total_prev: int = 150\n",
    "last_code: int = int(\"1000\", 2)\n",
    "\n",
    "new_sum: int = total_prev + last_code\n",
    "print(new_sum)"
   ]
  },
  {
   "cell_type": "code",
   "execution_count": 3,
   "id": "224f232c",
   "metadata": {},
   "outputs": [
    {
     "name": "stdout",
     "output_type": "stream",
     "text": [
      "5\n"
     ]
    }
   ],
   "source": [
    "# 18\n",
    "\n",
    "binary_price: int = int(\"1010\", 2)\n",
    "paid_amount: int = 15\n",
    "\n",
    "change_b: int = paid_amount - binary_price\n",
    "print(change_b)"
   ]
  },
  {
   "cell_type": "code",
   "execution_count": 4,
   "id": "6ca3f431",
   "metadata": {},
   "outputs": [
    {
     "name": "stdout",
     "output_type": "stream",
     "text": [
      "================Чек================\n",
      "Товар:                        халва\n",
      "Цена:               10кг * 15руб/кг\n",
      "Итого:                       150руб\n",
      "Внесено:                     230руб\n",
      "Сдача:                        80руб\n",
      "===================================\n"
     ]
    }
   ],
   "source": [
    "# 19\n",
    "\n",
    "item_label: str = \"халва\"\n",
    "unit_price: int = 15\n",
    "mass_kg_b: int = 10\n",
    "money_in: int = 230\n",
    "\n",
    "sum_cost: int = unit_price * mass_kg_b\n",
    "rest_money: int = money_in - sum_cost\n",
    "\n",
    "print(f\"{'Чек':=^35}\")\n",
    "print(f\"Товар:{item_label.rjust(29)}\")\n",
    "print(f\"Цена:{f'{mass_kg_b}кг * {unit_price}руб/кг':>30}\")\n",
    "print(f\"Итого:{f'{sum_cost}руб':>29}\")\n",
    "print(f\"Внесено:{f'{money_in}руб':>27}\")\n",
    "print(f\"Сдача:{f'{rest_money}руб':>29}\")\n",
    "print(\"=\" * 35)"
   ]
  },
  {
   "cell_type": "code",
   "execution_count": 5,
   "id": "7a1d59ce",
   "metadata": {},
   "outputs": [
    {
     "name": "stdout",
     "output_type": "stream",
     "text": [
      "22 18\n"
     ]
    }
   ],
   "source": [
    "# 20\n",
    "\n",
    "load_weight: int = 40\n",
    "avg_price: int = 22\n",
    "price_x: int = 25\n",
    "price_y: int = 18\n",
    "\n",
    "overall_cost: int = avg_price * load_weight\n",
    "kg_x: int = (overall_cost - price_y * load_weight) // (price_x - price_y)\n",
    "kg_y: int = load_weight - kg_x\n",
    "\n",
    "print(kg_x, kg_y)"
   ]
  }
 ],
 "metadata": {
  "kernelspec": {
   "display_name": "base",
   "language": "python",
   "name": "python3"
  },
  "language_info": {
   "codemirror_mode": {
    "name": "ipython",
    "version": 3
   },
   "file_extension": ".py",
   "mimetype": "text/x-python",
   "name": "python",
   "nbconvert_exporter": "python",
   "pygments_lexer": "ipython3",
   "version": "3.13.5"
  }
 },
 "nbformat": 4,
 "nbformat_minor": 5
}
