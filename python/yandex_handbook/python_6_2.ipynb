{
 "cells": [
  {
   "cell_type": "code",
   "execution_count": 1,
   "id": "8a3577fe",
   "metadata": {},
   "outputs": [
    {
     "data": {
      "text/plain": [
       "'Модуль pandas.'"
      ]
     },
     "execution_count": 1,
     "metadata": {},
     "output_type": "execute_result"
    }
   ],
   "source": [
    "\"\"\"Модуль pandas.\"\"\""
   ]
  },
  {
   "cell_type": "code",
   "execution_count": 84,
   "id": "05e013d7",
   "metadata": {},
   "outputs": [],
   "source": [
    "from __future__ import annotations\n",
    "\n",
    "from pathlib import Path\n",
    "from typing import Callable, Iterator\n",
    "\n",
    "import numpy as np\n",
    "import pandas as pd\n",
    "\n",
    "\n",
    "# 1\n",
    "def length_stats_1(line: str) -> pd.Series:  # type: ignore\n",
    "    \"\"\"Возвращает Series, сопоставляющий каждое уникальное слово в строке с его длиной.\"\"\"\n",
    "    clean_line = \"\".join(ch for ch in line if ch.isalpha() or ch.isspace())\n",
    "    words = sorted(set(clean_line.lower().split()))\n",
    "    return pd.Series({word: len(word) for word in words})"
   ]
  },
  {
   "cell_type": "code",
   "execution_count": 63,
   "id": "90c6adf8",
   "metadata": {},
   "outputs": [],
   "source": [
    "# 2\n",
    "\n",
    "\n",
    "def length_stats_double_2(line: str) -> tuple[pd.Series, pd.Series]:  # type: ignore\n",
    "    \"\"\"Возвращает два Series: слова с нечетной и четной длиной.\"\"\"\n",
    "    clean_line = \"\".join(ch for ch in line if ch.isalpha() or ch.isspace())\n",
    "    words = sorted(set(clean_line.lower().split()))\n",
    "    series = pd.Series({word: len(word) for word in words})\n",
    "    return series[series % 2 != 0], series[series % 2 == 0]"
   ]
  },
  {
   "cell_type": "code",
   "execution_count": 64,
   "id": "8c516a18",
   "metadata": {},
   "outputs": [],
   "source": [
    "# 3\n",
    "\n",
    "\n",
    "def cheque_3(price_list: pd.Series, **kwargs: int) -> pd.DataFrame:  # type: ignore\n",
    "    \"\"\"Возвращает DataFrame с продуктами, ценами, количествами и общей стоимостью.\"\"\"\n",
    "    products = sorted(kwargs.keys())\n",
    "    prices = [price_list.get(product, float(\"nan\")) for product in products]\n",
    "    numbers = [kwargs[product] for product in products]\n",
    "    data_frame = pd.DataFrame({\"product\": products, \"price\": prices, \"number\": numbers})\n",
    "    data_frame[\"cost\"] = data_frame[\"price\"] * data_frame[\"number\"]\n",
    "    return data_frame"
   ]
  },
  {
   "cell_type": "code",
   "execution_count": 65,
   "id": "3a522376",
   "metadata": {},
   "outputs": [],
   "source": [
    "# 4\n",
    "\n",
    "\n",
    "def discount_4(result_df: pd.DataFrame, rate: float = 0.5) -> pd.DataFrame:\n",
    "    \"\"\"Возвращает копию DataFrame со скидкой.\"\"\"\n",
    "    df_copy = result_df.copy()\n",
    "    df_copy[\"cost\"] = df_copy[\"cost\"].astype(float)\n",
    "    mask = df_copy[\"number\"] > 2\n",
    "    df_copy.loc[mask, \"cost\"] *= rate\n",
    "    return df_copy"
   ]
  },
  {
   "cell_type": "code",
   "execution_count": 66,
   "id": "64260aba",
   "metadata": {},
   "outputs": [],
   "source": [
    "# 5\n",
    "\n",
    "\n",
    "def get_long_5(data_series: pd.Series, min_length: int = 5) -> pd.Series:  # type: ignore\n",
    "    \"\"\"Возвращает Series, содержащий только определенные значения.\"\"\"\n",
    "    return data_series[data_series >= min_length]"
   ]
  },
  {
   "cell_type": "code",
   "execution_count": 67,
   "id": "7178b792",
   "metadata": {},
   "outputs": [],
   "source": [
    "# 6\n",
    "\n",
    "\n",
    "def best_6(progress_df: pd.DataFrame, threshold: int = 4) -> pd.DataFrame:\n",
    "    \"\"\"Возвращает студентов со всеми оценками >= порога.\"\"\"\n",
    "    data_copy = progress_df.copy()\n",
    "    numeric_columns = data_copy.select_dtypes(include=\"number\")\n",
    "    mask = (numeric_columns >= threshold).all(axis=1)\n",
    "    return data_copy[mask]"
   ]
  },
  {
   "cell_type": "code",
   "execution_count": 68,
   "id": "d38ea625",
   "metadata": {},
   "outputs": [],
   "source": [
    "# 7\n",
    "\n",
    "\n",
    "def need_to_work_better_7(\n",
    "    progress_df: pd.DataFrame, threshold: int = 3\n",
    ") -> pd.DataFrame:\n",
    "    \"\"\"Возвращает студентов с любой оценкой ниже порога.\"\"\"\n",
    "    data_copy = progress_df.copy()\n",
    "    numeric_columns = data_copy.select_dtypes(include=\"number\")\n",
    "    mask = (numeric_columns < threshold).any(axis=1)\n",
    "    return data_copy[mask]"
   ]
  },
  {
   "cell_type": "code",
   "execution_count": 69,
   "id": "14240aa4",
   "metadata": {},
   "outputs": [],
   "source": [
    "# 8\n",
    "\n",
    "\n",
    "def update_8(progress_df: pd.DataFrame) -> pd.DataFrame:\n",
    "    \"\"\"Возвращает DataFrame со средней оценкой, отсортированный по средней и имени.\"\"\"\n",
    "    data_copy = progress_df.copy()\n",
    "    numeric_columns = data_copy.select_dtypes(include=\"number\")\n",
    "    data_copy[\"average\"] = numeric_columns.mean(axis=1)\n",
    "    return data_copy.sort_values([\"average\", \"name\"], ascending=[False, True])"
   ]
  },
  {
   "cell_type": "code",
   "execution_count": 70,
   "id": "93f16b1a",
   "metadata": {},
   "outputs": [],
   "source": [
    "# 9\n",
    "\n",
    "\n",
    "def filter_game_data_9(\n",
    "    top_x: int, top_y: int, bottom_x: int, bottom_y: int, csv_path: Path\n",
    ") -> pd.DataFrame:\n",
    "    \"\"\"Фильтрует данные игры по координатам.\"\"\"\n",
    "    if not csv_path.exists():\n",
    "        raise FileNotFoundError(f\"CSV файл не найден: {csv_path}\")\n",
    "    game_data = pd.read_csv(csv_path)\n",
    "    mask = (game_data[\"x\"].between(top_x, bottom_x)) & (\n",
    "        game_data[\"y\"].between(bottom_y, top_y)\n",
    "    )\n",
    "    return game_data[mask]"
   ]
  },
  {
   "cell_type": "code",
   "execution_count": 86,
   "id": "cd3db50b",
   "metadata": {},
   "outputs": [],
   "source": [
    "# 10\n",
    "def values_10(\n",
    "    func: Callable[[float], float],\n",
    "    start: float,\n",
    "    end: float,\n",
    "    step: float,\n",
    ") -> Iterator[tuple[float, float]]:\n",
    "    \"\"\"Возвращает итератор пар (x, y) значений функции в точках диапазона.\"\"\"\n",
    "    if step <= 0:\n",
    "        raise ValueError(\"Шаг должен быть положительным.\")\n",
    "    x_values = np.arange(start, end + step, step)\n",
    "    for x_val in x_values:\n",
    "        yield x_val, func(x_val)\n",
    "\n",
    "\n",
    "def min_extremum_10(data: Iterator[tuple[float, float]]) -> float:\n",
    "    \"\"\"Возвращает x самого левого минимума.\"\"\"\n",
    "    data_list = list(data)\n",
    "    min_y = min(y_value for _, y_value in data_list)\n",
    "    min_points = [x_value for x_value, y_value in data_list if y_value == min_y]\n",
    "    return min(min_points)\n",
    "\n",
    "\n",
    "def max_extremum_10(data: Iterator[tuple[float, float]]) -> float:\n",
    "    \"\"\"Возвращает x самого правого максимума.\"\"\"\n",
    "    data_list = list(data)\n",
    "    max_y = max(y_value for _, y_value in data_list)\n",
    "    max_points = [x_value for x_value, y_value in data_list if y_value == max_y]\n",
    "    return max(max_points)"
   ]
  }
 ],
 "metadata": {
  "kernelspec": {
   "display_name": "base",
   "language": "python",
   "name": "python3"
  },
  "language_info": {
   "codemirror_mode": {
    "name": "ipython",
    "version": 3
   },
   "file_extension": ".py",
   "mimetype": "text/x-python",
   "name": "python",
   "nbconvert_exporter": "python",
   "pygments_lexer": "ipython3",
   "version": "3.13.5"
  }
 },
 "nbformat": 4,
 "nbformat_minor": 5
}
