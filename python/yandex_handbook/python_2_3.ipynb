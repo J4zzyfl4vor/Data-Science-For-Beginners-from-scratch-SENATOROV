{
 "cells": [
  {
   "cell_type": "code",
   "execution_count": 1,
   "id": "f69ded90",
   "metadata": {},
   "outputs": [
    {
     "data": {
      "text/plain": [
       "'Yandex handbook \"Python Basics\" answers.'"
      ]
     },
     "execution_count": 1,
     "metadata": {},
     "output_type": "execute_result"
    }
   ],
   "source": [
    "\"\"\"Yandex handbook \"Python Basics\" answers.\"\"\""
   ]
  },
  {
   "cell_type": "code",
   "execution_count": 2,
   "id": "34c72fb9",
   "metadata": {},
   "outputs": [
    {
     "name": "stdout",
     "output_type": "stream",
     "text": [
      "Режим ожидания...\n",
      "Режим ожидания...\n",
      "Ёлочка, гори!\n"
     ]
    }
   ],
   "source": [
    "# 1\n",
    "test_inputs: list[str] = [\"Раз!\", \"Два!\", \"Три!\"]\n",
    "index: int = 0\n",
    "\n",
    "while index < len(test_inputs):\n",
    "    string: str = test_inputs[index]\n",
    "    if string == \"Три!\":\n",
    "        break\n",
    "    print(\"Режим ожидания...\")\n",
    "    index += 1\n",
    "\n",
    "print(\"Ёлочка, гори!\")"
   ]
  },
  {
   "cell_type": "code",
   "execution_count": 2,
   "id": "e312df8d",
   "metadata": {},
   "outputs": [
    {
     "name": "stdout",
     "output_type": "stream",
     "text": [
      "2\n"
     ]
    }
   ],
   "source": [
    "# 2\n",
    "input_lines: list[str] = [\"зайка в лесу\", \"ёлка\", \"зайка бежит\", \"Приехали!\"]\n",
    "bunny_counter: int = 0\n",
    "loop_i_2: int = 0\n",
    "\n",
    "while loop_i_2 < len(input_lines):\n",
    "    current_line: str = input_lines[loop_i_2]\n",
    "    if current_line == \"Приехали!\":\n",
    "        break\n",
    "    if \"зайка\" in current_line:\n",
    "        bunny_counter += 1\n",
    "    loop_i_2 += 1\n",
    "\n",
    "print(bunny_counter)"
   ]
  },
  {
   "cell_type": "code",
   "execution_count": 4,
   "id": "8072030e",
   "metadata": {},
   "outputs": [
    {
     "name": "stdout",
     "output_type": "stream",
     "text": [
      "1 2 3 4 5 6 7 8 9 10 "
     ]
    }
   ],
   "source": [
    "# 3\n",
    "range_start: int = 1\n",
    "range_end: int = 10\n",
    "\n",
    "for num in range(range_start, range_end + 1):\n",
    "    print(num, end=\" \")"
   ]
  },
  {
   "cell_type": "code",
   "execution_count": 5,
   "id": "6ccec684",
   "metadata": {},
   "outputs": [
    {
     "name": "stdout",
     "output_type": "stream",
     "text": [
      "2 1 0 -1 -2 -3 -4 "
     ]
    }
   ],
   "source": [
    "# 4\n",
    "start_val: int = 2\n",
    "end_val: int = -4\n",
    "\n",
    "direction: int = -1 if end_val < start_val else 1\n",
    "\n",
    "for num in range(start_val, end_val + direction, direction):\n",
    "    print(num, end=\" \")"
   ]
  },
  {
   "cell_type": "code",
   "execution_count": 6,
   "id": "e516fbbf",
   "metadata": {},
   "outputs": [
    {
     "name": "stdout",
     "output_type": "stream",
     "text": [
      "940.0\n"
     ]
    }
   ],
   "source": [
    "# 5\n",
    "prices_list: list[float] = [600.0, 400.0, 0.0]\n",
    "total_amount: float = 0.0\n",
    "idx: int = 0\n",
    "\n",
    "while idx < len(prices_list):\n",
    "    current_price: float = prices_list[idx]\n",
    "    if current_price == 0.0:\n",
    "        break\n",
    "    if current_price >= 500:\n",
    "        current_price *= 0.9\n",
    "    total_amount += current_price\n",
    "    idx += 1\n",
    "\n",
    "print(total_amount)"
   ]
  },
  {
   "cell_type": "code",
   "execution_count": 7,
   "id": "2b208659",
   "metadata": {},
   "outputs": [
    {
     "name": "stdout",
     "output_type": "stream",
     "text": [
      "1\n"
     ]
    }
   ],
   "source": [
    "# 6\n",
    "num_x: int = 12\n",
    "num_y: int = 5\n",
    "\n",
    "while num_x != 0 and num_y != 0:\n",
    "    if num_x >= num_y:\n",
    "        num_x -= num_y\n",
    "    else:\n",
    "        num_y -= num_x\n",
    "\n",
    "print(num_x + num_y)"
   ]
  },
  {
   "cell_type": "code",
   "execution_count": 8,
   "id": "bc3a8d40",
   "metadata": {},
   "outputs": [
    {
     "name": "stdout",
     "output_type": "stream",
     "text": [
      "308\n"
     ]
    }
   ],
   "source": [
    "# 7\n",
    "val_m: int = 28\n",
    "val_n: int = 44\n",
    "temp_u: int\n",
    "temp_v: int\n",
    "temp_u, temp_v = val_m, val_n\n",
    "\n",
    "while temp_u != 0:\n",
    "    temp_u, temp_v = temp_v % temp_u, temp_u\n",
    "\n",
    "print(val_m * val_n // (temp_u + temp_v))"
   ]
  },
  {
   "cell_type": "code",
   "execution_count": 9,
   "id": "3d9f01f0",
   "metadata": {},
   "outputs": [
    {
     "name": "stdout",
     "output_type": "stream",
     "text": [
      "3 + 6 = 8\n",
      "3 + 6 = 8\n",
      "3 + 6 = 8\n",
      "3 + 6 = 8\n"
     ]
    }
   ],
   "source": [
    "# 8\n",
    "message_text: str = \"3 + 6 = 8\"\n",
    "repeat_count: int = 4\n",
    "\n",
    "for _ in range(repeat_count):\n",
    "    print(message_text)"
   ]
  },
  {
   "cell_type": "code",
   "execution_count": 11,
   "id": "4904df5a",
   "metadata": {},
   "outputs": [
    {
     "name": "stdout",
     "output_type": "stream",
     "text": [
      "24\n"
     ]
    }
   ],
   "source": [
    "# 9\n",
    "input_val: int = 4\n",
    "result_fact: int = 1\n",
    "\n",
    "for num in range(2, input_val + 1):\n",
    "    result_fact *= num\n",
    "\n",
    "print(result_fact)"
   ]
  },
  {
   "cell_type": "code",
   "execution_count": 1,
   "id": "22e4eb04",
   "metadata": {},
   "outputs": [
    {
     "name": "stdout",
     "output_type": "stream",
     "text": [
      "0\n",
      "0\n"
     ]
    }
   ],
   "source": [
    "# 10\n",
    "route_plan: list[tuple[str, int]] = [\n",
    "    (\"СЕВЕР\", 2),\n",
    "    (\"ВОСТОК\", 3),\n",
    "    (\"ЮГ\", 2),\n",
    "    (\"ЗАПАД\", 3),\n",
    "    (\"СТОП\", 0),\n",
    "]\n",
    "\n",
    "coord_x: int = 0\n",
    "coord_y: int = 0\n",
    "loop_i_11: int = 0\n",
    "\n",
    "while loop_i_11 < len(route_plan):\n",
    "    move_dir: str = route_plan[loop_i_11][0]\n",
    "    if move_dir == \"СТОП\":\n",
    "        break\n",
    "    steps_count: int = route_plan[loop_i_11][1]\n",
    "    if move_dir == \"ВОСТОК\":\n",
    "        coord_x += steps_count\n",
    "    elif move_dir == \"ЗАПАД\":\n",
    "        coord_x -= steps_count\n",
    "    elif move_dir == \"СЕВЕР\":\n",
    "        coord_y += steps_count\n",
    "    elif move_dir == \"ЮГ\":\n",
    "        coord_y -= steps_count\n",
    "    loop_i_11 += 1\n",
    "\n",
    "print(coord_y)\n",
    "print(coord_x)"
   ]
  },
  {
   "cell_type": "code",
   "execution_count": 13,
   "id": "a57cdc38",
   "metadata": {},
   "outputs": [
    {
     "name": "stdout",
     "output_type": "stream",
     "text": [
      "23\n"
     ]
    }
   ],
   "source": [
    "# 11\n",
    "value_n: int = 689\n",
    "\n",
    "digit_sum: int = 0\n",
    "\n",
    "while value_n > 0:\n",
    "    digit_sum += value_n % 10\n",
    "    value_n //= 10\n",
    "\n",
    "print(digit_sum)"
   ]
  },
  {
   "cell_type": "code",
   "execution_count": 14,
   "id": "3380bdd0",
   "metadata": {},
   "outputs": [
    {
     "name": "stdout",
     "output_type": "stream",
     "text": [
      "6\n"
     ]
    }
   ],
   "source": [
    "# 12\n",
    "number_val: int = 546\n",
    "\n",
    "largest_digit: int = max(int(d) for d in str(number_val))\n",
    "\n",
    "print(largest_digit)"
   ]
  },
  {
   "cell_type": "code",
   "execution_count": 15,
   "id": "b44af10c",
   "metadata": {},
   "outputs": [
    {
     "name": "stdout",
     "output_type": "stream",
     "text": [
      "Анна\n"
     ]
    }
   ],
   "source": [
    "# 13\n",
    "player_count: int = 3\n",
    "participant_list: list[str] = [\"Вадик\", \"Анна\", \"Борис\"]\n",
    "\n",
    "earliest_player: str = min(participant_list)\n",
    "print(earliest_player)"
   ]
  },
  {
   "cell_type": "code",
   "execution_count": 17,
   "id": "51b3dc2d",
   "metadata": {},
   "outputs": [
    {
     "name": "stdout",
     "output_type": "stream",
     "text": [
      "NO\n"
     ]
    }
   ],
   "source": [
    "# 14\n",
    "test_number: int = 121\n",
    "\n",
    "is_prime: bool = True\n",
    "\n",
    "if test_number <= 1:\n",
    "    is_prime = False\n",
    "else:\n",
    "    for divisor in range(2, int(test_number**0.5) + 1):\n",
    "        if test_number % divisor == 0:\n",
    "            is_prime = False\n",
    "            break\n",
    "\n",
    "if is_prime:\n",
    "    print(\"YES\")\n",
    "else:\n",
    "    print(\"NO\")"
   ]
  },
  {
   "cell_type": "code",
   "execution_count": 18,
   "id": "6b359a3e",
   "metadata": {},
   "outputs": [
    {
     "name": "stdout",
     "output_type": "stream",
     "text": [
      "2\n"
     ]
    }
   ],
   "source": [
    "# 15\n",
    "site_count: int = 4\n",
    "sightings: int = 0\n",
    "\n",
    "places: list[str] = [\"лес\", \"зайка в поле\", \"река\", \"зайка у куста\"]\n",
    "\n",
    "for place in places:\n",
    "    if \"зайка\" in place:\n",
    "        sightings += 1\n",
    "\n",
    "print(sightings)"
   ]
  },
  {
   "cell_type": "code",
   "execution_count": 19,
   "id": "21e1120e",
   "metadata": {},
   "outputs": [
    {
     "name": "stdout",
     "output_type": "stream",
     "text": [
      "YES\n"
     ]
    }
   ],
   "source": [
    "# 16\n",
    "input_num: int = 121\n",
    "\n",
    "original_val: int = input_num\n",
    "reversed_val: int = 0\n",
    "\n",
    "while input_num > 0:\n",
    "    digit_val: int = input_num % 10\n",
    "    reversed_val = reversed_val * 10 + digit_val\n",
    "    input_num //= 10\n",
    "\n",
    "if original_val == reversed_val:\n",
    "    print(\"YES\")\n",
    "else:\n",
    "    print(\"NO\")"
   ]
  },
  {
   "cell_type": "code",
   "execution_count": 20,
   "id": "11030e7b",
   "metadata": {},
   "outputs": [
    {
     "name": "stdout",
     "output_type": "stream",
     "text": [
      "359\n"
     ]
    }
   ],
   "source": [
    "# 17\n",
    "source_num: int = 34569\n",
    "\n",
    "result_num: int = 0\n",
    "place_val: int = 1\n",
    "\n",
    "while source_num > 0:\n",
    "    digit_last: int = source_num % 10\n",
    "    if digit_last % 2 != 0:\n",
    "        result_num += digit_last * place_val\n",
    "        place_val *= 10\n",
    "    source_num //= 10\n",
    "\n",
    "print(result_num)"
   ]
  },
  {
   "cell_type": "code",
   "execution_count": 21,
   "id": "b751153e",
   "metadata": {},
   "outputs": [
    {
     "name": "stdout",
     "output_type": "stream",
     "text": [
      "2 * 2 * 2 * 3 * 5\n"
     ]
    }
   ],
   "source": [
    "# 18\n",
    "test_val: int = 120\n",
    "\n",
    "if test_val == 1:\n",
    "    print(test_val)\n",
    "\n",
    "factor: int = 2\n",
    "\n",
    "while test_val >= 2:\n",
    "    is_prime_flag: bool = True\n",
    "\n",
    "    while factor**2 <= test_val and is_prime_flag:\n",
    "        if test_val % factor == 0:\n",
    "            is_prime_flag = False\n",
    "        else:\n",
    "            factor += 1\n",
    "    if is_prime_flag:\n",
    "        print(test_val)\n",
    "        test_val = 1\n",
    "    else:\n",
    "        print(f\"{factor}\", end=\" * \")\n",
    "        test_val //= factor"
   ]
  },
  {
   "cell_type": "code",
   "execution_count": 5,
   "id": "5cf816cd",
   "metadata": {},
   "outputs": [
    {
     "name": "stdout",
     "output_type": "stream",
     "text": [
      "501\n",
      "251\n",
      "376\n"
     ]
    }
   ],
   "source": [
    "# 19\n",
    "low_val: int = 1\n",
    "high_val: int = 1001\n",
    "attempt_num: int = 0\n",
    "\n",
    "answers_seq: list[str] = [\"Меньше\", \"Больше\", \"Угадал!\"]\n",
    "ans_idx: int = 0\n",
    "\n",
    "current_guess: int = (low_val + high_val) // 2\n",
    "print(current_guess)\n",
    "\n",
    "should_continue: bool = True\n",
    "while should_continue:\n",
    "    if ans_idx >= len(answers_seq):\n",
    "        should_continue = False\n",
    "    elif answers_seq[ans_idx] == \"Угадал!\":\n",
    "        should_continue = False\n",
    "    elif attempt_num >= 10:\n",
    "        should_continue = False\n",
    "    else:\n",
    "        reply_text: str = answers_seq[ans_idx]\n",
    "        if reply_text == \"Меньше\":\n",
    "            high_val = current_guess\n",
    "        elif reply_text == \"Больше\":\n",
    "            low_val = current_guess\n",
    "\n",
    "        current_guess = (low_val + high_val) // 2\n",
    "        print(current_guess)\n",
    "        attempt_num += 1\n",
    "        ans_idx += 1"
   ]
  },
  {
   "cell_type": "code",
   "execution_count": 23,
   "id": "05703e7b",
   "metadata": {},
   "outputs": [
    {
     "name": "stdout",
     "output_type": "stream",
     "text": [
      "0\n"
     ]
    }
   ],
   "source": [
    "# 20\n",
    "block_count: int = 3\n",
    "\n",
    "prev_hash_val: int = 0\n",
    "error_pos: int = 0\n",
    "found_error: bool = False\n",
    "\n",
    "test_blocks: list[int] = [123456, 789012, 345678]\n",
    "\n",
    "for pos in range(block_count):\n",
    "    data_val: int = test_blocks[pos]\n",
    "\n",
    "    hash_expected: int = data_val % 256\n",
    "    byte_low: int = (data_val // 256) % 256\n",
    "    payload: int = data_val // (256**2)\n",
    "\n",
    "    hash_computed: int = (37 * (payload + byte_low + prev_hash_val)) % 256\n",
    "\n",
    "    if hash_computed != hash_expected or hash_computed >= 100:\n",
    "        if not found_error:\n",
    "            error_pos = pos\n",
    "            found_error = True\n",
    "\n",
    "    prev_hash_val = hash_expected\n",
    "\n",
    "print(-1 if not found_error else error_pos)"
   ]
  }
 ],
 "metadata": {
  "kernelspec": {
   "display_name": "base",
   "language": "python",
   "name": "python3"
  },
  "language_info": {
   "codemirror_mode": {
    "name": "ipython",
    "version": 3
   },
   "file_extension": ".py",
   "mimetype": "text/x-python",
   "name": "python",
   "nbconvert_exporter": "python",
   "pygments_lexer": "ipython3",
   "version": "3.13.5"
  }
 },
 "nbformat": 4,
 "nbformat_minor": 5
}
