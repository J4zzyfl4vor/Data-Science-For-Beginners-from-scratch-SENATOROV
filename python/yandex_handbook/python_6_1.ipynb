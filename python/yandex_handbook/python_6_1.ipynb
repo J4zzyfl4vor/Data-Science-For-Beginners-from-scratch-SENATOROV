{
 "cells": [
  {
   "cell_type": "code",
   "execution_count": 1,
   "id": "3efec0bf",
   "metadata": {},
   "outputs": [
    {
     "data": {
      "text/plain": [
       "'Модули math и numpy.'"
      ]
     },
     "execution_count": 1,
     "metadata": {},
     "output_type": "execute_result"
    }
   ],
   "source": [
    "\"\"\"Модули math и numpy.\"\"\""
   ]
  },
  {
   "cell_type": "code",
   "execution_count": 26,
   "id": "5ac40001",
   "metadata": {},
   "outputs": [],
   "source": [
    "from __future__ import annotations\n",
    "\n",
    "import math\n",
    "import sys\n",
    "from math import cos, sin, sqrt\n",
    "\n",
    "import numpy as np\n",
    "\n",
    "\n",
    "# 1\n",
    "def compute_expression_1(x_val: float) -> float:\n",
    "    \"\"\"Вычисляет пользовательское математическое выражение на основе x_val.\"\"\"\n",
    "    try:\n",
    "        term1: float = math.log(x_val ** (3 / 16), 32)\n",
    "        term2: float = x_val ** math.cos((math.pi * x_val) / (2 * math.e))\n",
    "        term3: float = math.sin(x_val / math.pi) ** 2\n",
    "        return term1 + term2 - term3\n",
    "    except (ValueError, ZeroDivisionError):\n",
    "        return float(\"nan\")"
   ]
  },
  {
   "cell_type": "code",
   "execution_count": 27,
   "id": "cd93ad8c",
   "metadata": {},
   "outputs": [],
   "source": [
    "# 2\n",
    "def process_gcd_2() -> None:\n",
    "    \"\"\"Обрабатывает ввод и вычисляет НОД для каждой строки.\"\"\"\n",
    "    for line in sys.stdin:\n",
    "        line_clean = line.strip()\n",
    "        if not line_clean:\n",
    "            continue\n",
    "\n",
    "        parts = line_clean.split()\n",
    "        current_gcd = int(parts[0])\n",
    "\n",
    "        for i in range(1, len(parts)):\n",
    "            next_num = int(parts[i])\n",
    "            while next_num != 0:\n",
    "                current_gcd, next_num = next_num, current_gcd % next_num"
   ]
  },
  {
   "cell_type": "code",
   "execution_count": 28,
   "id": "20625b07",
   "metadata": {},
   "outputs": [],
   "source": [
    "# 3\n",
    "def binomial_coefficient_3(n_val: int, k_val: int) -> int:\n",
    "    \"\"\"Возвращает C(n, k) — количество комбинаций.\"\"\"\n",
    "    if 0 <= k_val <= n_val:\n",
    "        numerator = math.factorial(n_val)\n",
    "        denominator = math.factorial(k_val) * math.factorial(n_val - k_val)\n",
    "        return numerator // denominator\n",
    "    return 0"
   ]
  },
  {
   "cell_type": "code",
   "execution_count": 29,
   "id": "11a16077",
   "metadata": {},
   "outputs": [],
   "source": [
    "# 4\n",
    "def geometric_mean_4(numbers: list[float]) -> float:\n",
    "    \"\"\"Вычисляет среднее геометрическое чисел.\"\"\"\n",
    "    product = 1.0\n",
    "    for num in numbers:\n",
    "        product *= num\n",
    "\n",
    "    result: float = product ** (1 / len(numbers))\n",
    "    return result"
   ]
  },
  {
   "cell_type": "code",
   "execution_count": 30,
   "id": "6b8cd898",
   "metadata": {},
   "outputs": [],
   "source": [
    "# 5\n",
    "def polar_to_cartesian_5(radius: float, angle: float) -> tuple[float, float]:\n",
    "    \"\"\"Преобразует полярные координаты в декартовы.\"\"\"\n",
    "    x_coord = radius * cos(angle)\n",
    "    y_coord = radius * sin(angle)\n",
    "    return x_coord, y_coord\n",
    "\n",
    "\n",
    "def distance_between_points_5(x1: float, y1: float, x2: float, y2: float) -> float:\n",
    "    \"\"\"Вычисляет расстояние между двумя точками.\"\"\"\n",
    "    delta_x = x1 - x2\n",
    "    delta_y = y1 - y2\n",
    "    return sqrt(delta_x * delta_x + delta_y * delta_y)"
   ]
  },
  {
   "cell_type": "code",
   "execution_count": 31,
   "id": "4ce64235",
   "metadata": {},
   "outputs": [],
   "source": [
    "# 6\n",
    "def multiplication_matrix_6(size: int) -> np.ndarray:\n",
    "    \"\"\"Генерирует матрицу таблицы умножения размером size x size.\"\"\"\n",
    "    row_vector = np.arange(1, size + 1)\n",
    "    column_vector = row_vector[:, np.newaxis]\n",
    "    result: np.ndarray = row_vector * column_vector\n",
    "    return result"
   ]
  },
  {
   "cell_type": "code",
   "execution_count": 32,
   "id": "682ddaa4",
   "metadata": {},
   "outputs": [],
   "source": [
    "# 7\n",
    "def make_board_7(size: int) -> np.ndarray:\n",
    "    \"\"\"Генерирует шахматную доску размером n x n в виде матрицы 0 и 1.\"\"\"\n",
    "    indices = np.indices((size, size))\n",
    "    board_pattern = (indices[0] + indices[1]) % 2\n",
    "    rotated_board = np.rot90(board_pattern)\n",
    "    result: np.ndarray = rotated_board.astype(np.int8)\n",
    "    return result"
   ]
  },
  {
   "cell_type": "code",
   "execution_count": 33,
   "id": "223f30a9",
   "metadata": {},
   "outputs": [],
   "source": [
    "# 8\n",
    "def snake_8(width: int, height: int, direction: str = \"H\") -> np.ndarray:\n",
    "    \"\"\"Генерирует матрицу, заполненную в змеевидном порядке.\"\"\"\n",
    "    matrix = np.zeros((height, width), dtype=np.int16)\n",
    "\n",
    "    if direction == \"H\":\n",
    "        for row_index in range(height):\n",
    "            start_val = row_index * width + 1\n",
    "            end_val = (row_index + 1) * width + 1\n",
    "            row_values = np.arange(start_val, end_val, dtype=np.int16)\n",
    "            if row_index % 2 != 0:\n",
    "                row_values = np.ascontiguousarray(row_values[::-1])\n",
    "            matrix[row_index] = row_values\n",
    "\n",
    "    elif direction == \"V\":\n",
    "        for col_index in range(width):\n",
    "            start_val = col_index * height + 1\n",
    "            end_val = (col_index + 1) * height + 1\n",
    "            col_values = np.arange(start_val, end_val, dtype=np.int16)\n",
    "            if col_index % 2 != 0:\n",
    "                col_values = np.ascontiguousarray(col_values[::-1])\n",
    "            matrix[:, col_index] = col_values\n",
    "\n",
    "    return matrix"
   ]
  },
  {
   "cell_type": "code",
   "execution_count": 34,
   "id": "bd00c68d",
   "metadata": {},
   "outputs": [],
   "source": [
    "# 9\n",
    "def rotate_9(matrix: np.ndarray, angle: int) -> np.ndarray:\n",
    "    \"\"\"Поворачивает матрицу на заданный угол в градусах (по часовой стрелке).\"\"\"\n",
    "    rotations_count = (360 - angle) // 90\n",
    "    result: np.ndarray = np.rot90(matrix, rotations_count)\n",
    "    return result"
   ]
  },
  {
   "cell_type": "code",
   "execution_count": 35,
   "id": "7863a2f3",
   "metadata": {},
   "outputs": [],
   "source": [
    "# 10\n",
    "def stairs_10(vector: np.ndarray) -> np.ndarray:\n",
    "    \"\"\"Создает матрицу со строками как вектор, сдвинутый вправо по индексу.\"\"\"\n",
    "    size = len(vector)\n",
    "    result_matrix = np.zeros((size, size), dtype=vector.dtype)\n",
    "\n",
    "    for row_index in range(size):\n",
    "        result_matrix[row_index] = np.roll(vector, row_index)\n",
    "\n",
    "    return result_matrix"
   ]
  }
 ],
 "metadata": {
  "kernelspec": {
   "display_name": "base",
   "language": "python",
   "name": "python3"
  },
  "language_info": {
   "codemirror_mode": {
    "name": "ipython",
    "version": 3
   },
   "file_extension": ".py",
   "mimetype": "text/x-python",
   "name": "python",
   "nbconvert_exporter": "python",
   "pygments_lexer": "ipython3",
   "version": "3.13.5"
  }
 },
 "nbformat": 4,
 "nbformat_minor": 5
}
