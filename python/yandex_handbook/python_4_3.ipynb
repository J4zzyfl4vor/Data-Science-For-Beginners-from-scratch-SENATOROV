{
 "cells": [
  {
   "cell_type": "code",
   "execution_count": 1,
   "id": "b2f1d3c0",
   "metadata": {},
   "outputs": [
    {
     "data": {
      "text/plain": [
       "'Yandex handbook \"Python Basics\" answers.'"
      ]
     },
     "execution_count": 1,
     "metadata": {},
     "output_type": "execute_result"
    }
   ],
   "source": [
    "\"\"\"Yandex handbook \"Python Basics\" answers.\"\"\""
   ]
  },
  {
   "cell_type": "code",
   "execution_count": 2,
   "id": "0859ea69",
   "metadata": {},
   "outputs": [
    {
     "name": "stdout",
     "output_type": "stream",
     "text": [
      "6\n"
     ]
    }
   ],
   "source": [
    "from typing import Callable, Generator, Sequence, Union\n",
    "\n",
    "# 1\n",
    "\n",
    "\n",
    "def recursive_sum(*numbers: int) -> int:\n",
    "    \"\"\"Вычисляет сумму всех переданных аргументов.\"\"\"\n",
    "    if not numbers:\n",
    "        return 0\n",
    "    return numbers[0] + recursive_sum(*numbers[1:])\n",
    "\n",
    "\n",
    "calculation_result_1 = recursive_sum(1, 2, 3)\n",
    "\n",
    "print(calculation_result_1)"
   ]
  },
  {
   "cell_type": "code",
   "execution_count": 3,
   "id": "df45abf3",
   "metadata": {},
   "outputs": [
    {
     "name": "stdout",
     "output_type": "stream",
     "text": [
      "6\n"
     ]
    }
   ],
   "source": [
    "# 2\n",
    "def recursive_digit_sum(number: int) -> int:\n",
    "    \"\"\"Вычисляет сумму всех цифр в заданном целом числе.\"\"\"\n",
    "    if number == 0:\n",
    "        return 0\n",
    "    last_digit = number % 10\n",
    "    remaining_number = number // 10\n",
    "    return last_digit + recursive_digit_sum(remaining_number)\n",
    "\n",
    "\n",
    "calculation_result_2 = recursive_digit_sum(123)\n",
    "\n",
    "print(calculation_result_2)"
   ]
  },
  {
   "cell_type": "code",
   "execution_count": 4,
   "id": "9a64550b",
   "metadata": {},
   "outputs": [
    {
     "name": "stdout",
     "output_type": "stream",
     "text": [
      "((3) * x + 2) * x + 1\n"
     ]
    }
   ],
   "source": [
    "# 3\n",
    "def make_equation(*coefficients: int) -> str:\n",
    "    \"\"\"Строит строку, представляющую полином N-ной степени.\"\"\"\n",
    "    if len(coefficients) == 1:\n",
    "        return str(coefficients[0])\n",
    "\n",
    "    previous_terms = make_equation(*coefficients[:-1])\n",
    "    last_coefficient = coefficients[-1]\n",
    "    return f\"({previous_terms}) * x + {last_coefficient}\"\n",
    "\n",
    "\n",
    "equation_result_3 = make_equation(3, 2, 1)\n",
    "\n",
    "print(equation_result_3)"
   ]
  },
  {
   "cell_type": "code",
   "execution_count": 5,
   "id": "8ba58add",
   "metadata": {},
   "outputs": [],
   "source": [
    "# 4\n",
    "def answer(\n",
    "    function: Callable[[int | str, int | str], int | str],\n",
    ") -> Callable[[int | str, int | str], int | str]:\n",
    "    \"\"\"Обертывает вывод функции в строковое представление.\"\"\"\n",
    "\n",
    "    def inner(*args: int | str, **kwargs: int | str) -> str:\n",
    "        return f\"Результат функции: {function(*args, **kwargs)}\"\n",
    "\n",
    "    return inner"
   ]
  },
  {
   "cell_type": "code",
   "execution_count": 6,
   "id": "d5b9728c",
   "metadata": {},
   "outputs": [],
   "source": [
    "# 5\n",
    "def result_accumulator(\n",
    "    function: Callable[[int | str, int | str], int | str],\n",
    ") -> Callable[[int | str, int | str], list[int | str] | None]:\n",
    "    \"\"\"Накопляет вывод функции в списке.\"\"\"\n",
    "    accumulated_results: list[int | str] = []\n",
    "\n",
    "    def inner(\n",
    "        *args: int | str, method: str = \"accumulate\", **kwargs: int | str\n",
    "    ) -> list[int | str] | None:\n",
    "        accumulated_results.append(function(*args, **kwargs))\n",
    "\n",
    "        if method == \"drop\":\n",
    "            current_results = accumulated_results.copy()\n",
    "            accumulated_results.clear()\n",
    "            return current_results\n",
    "\n",
    "        return None\n",
    "\n",
    "    return inner"
   ]
  },
  {
   "cell_type": "code",
   "execution_count": 7,
   "id": "e531ccb4",
   "metadata": {},
   "outputs": [
    {
     "name": "stdout",
     "output_type": "stream",
     "text": [
      "[1, 2, 3]\n"
     ]
    }
   ],
   "source": [
    "# 6\n",
    "def merge(left_part: list[int], right_part: list[int]) -> list[int]:\n",
    "    \"\"\"Объединяет два списка в один отсортированный список.\"\"\"\n",
    "    merged_result: list[int] = []\n",
    "    left_index = right_index = 0\n",
    "\n",
    "    while left_index < len(left_part) and right_index < len(right_part):\n",
    "        if left_part[left_index] <= right_part[right_index]:\n",
    "            merged_result.append(left_part[left_index])\n",
    "            left_index += 1\n",
    "        else:\n",
    "            merged_result.append(right_part[right_index])\n",
    "            right_index += 1\n",
    "\n",
    "    merged_result.extend(left_part[left_index:])\n",
    "    merged_result.extend(right_part[right_index:])\n",
    "\n",
    "    return merged_result\n",
    "\n",
    "\n",
    "def merge_sort(collection: list[int]) -> list[int]:\n",
    "    \"\"\"Сортирует список, применяя специальный подход.\"\"\"\n",
    "    if len(collection) <= 1:\n",
    "        return collection\n",
    "\n",
    "    mid_point = len(collection) // 2\n",
    "    left_half = merge_sort(collection[:mid_point])\n",
    "    right_half = merge_sort(collection[mid_point:])\n",
    "\n",
    "    return merge(left_half, right_half)\n",
    "\n",
    "\n",
    "sorting_result_4 = merge_sort([3, 2, 1])\n",
    "\n",
    "print(sorting_result_4)"
   ]
  },
  {
   "cell_type": "code",
   "execution_count": 8,
   "id": "647d775d",
   "metadata": {},
   "outputs": [],
   "source": [
    "# 7\n",
    "# 7\n",
    "\n",
    "InputType = Union[int, str]\n",
    "OutputType = Union[int, str, bool]\n",
    "\n",
    "\n",
    "def same_type(\n",
    "    function: Callable[[InputType], OutputType],\n",
    ") -> Callable[[InputType], OutputType]:\n",
    "    \"\"\"Проверяет, что все аргументы функции принадлежат одному типу.\"\"\"\n",
    "\n",
    "    def inner(*args: InputType) -> OutputType:\n",
    "        argument_types = {type(arg) for arg in args}\n",
    "        if len(argument_types) > 1:\n",
    "            print(\"Обнаружены различные типы данных\")\n",
    "            return False\n",
    "        return function(*args)\n",
    "\n",
    "    return inner"
   ]
  },
  {
   "cell_type": "code",
   "execution_count": 9,
   "id": "48e8b022",
   "metadata": {},
   "outputs": [
    {
     "name": "stdout",
     "output_type": "stream",
     "text": [
      "0, 1, 1, 2, 3, 5, 8, 13, 21, 34\n"
     ]
    }
   ],
   "source": [
    "# 8\n",
    "def fibonacci(number_count: int) -> Generator[int]:\n",
    "    \"\"\"Возвращает заданное количество чисел Фибоначчи.\"\"\"\n",
    "    first_number, second_number = 0, 1\n",
    "    for _ in range(number_count):\n",
    "        yield first_number\n",
    "        first_number, second_number = second_number, first_number + second_number\n",
    "\n",
    "\n",
    "fibonacci_sequence_8 = fibonacci(10)\n",
    "\n",
    "print(*fibonacci_sequence_8, sep=\", \")"
   ]
  },
  {
   "cell_type": "code",
   "execution_count": 10,
   "id": "24ef75ab",
   "metadata": {},
   "outputs": [
    {
     "name": "stdout",
     "output_type": "stream",
     "text": [
      "1 2 3 1 2\n"
     ]
    }
   ],
   "source": [
    "# 9\n",
    "def cycle(iterable_collection: list[int]) -> Generator[int]:\n",
    "    \"\"\"Возвращает элементы из списка по циклу.\"\"\"\n",
    "    while iterable_collection:\n",
    "        yield from iterable_collection\n",
    "\n",
    "\n",
    "cycled_elements_9 = (x for _, x in zip(range(5), cycle([1, 2, 3])))\n",
    "\n",
    "print(*cycled_elements_9)"
   ]
  },
  {
   "cell_type": "code",
   "execution_count": 11,
   "id": "57adbb96",
   "metadata": {},
   "outputs": [
    {
     "name": "stdout",
     "output_type": "stream",
     "text": [
      "[1, 2, 3]\n"
     ]
    }
   ],
   "source": [
    "# 10\n",
    "def make_linear(nested_collection: Sequence[Union[int, Sequence[int]]]) -> list[int]:\n",
    "    \"\"\"Возвращает список простой структуры, выпрямляя многокомпонентный список.\"\"\"\n",
    "    linear_result: list[int] = []\n",
    "    for element in nested_collection:\n",
    "        if isinstance(element, list):\n",
    "            linear_result.extend(make_linear(element))\n",
    "        elif isinstance(element, int):\n",
    "            linear_result.append(element)\n",
    "    return linear_result\n",
    "\n",
    "\n",
    "flatten_result_5 = make_linear([1, 2, [3]])\n",
    "\n",
    "print(flatten_result_5)"
   ]
  }
 ],
 "metadata": {
  "kernelspec": {
   "display_name": "base",
   "language": "python",
   "name": "python3"
  },
  "language_info": {
   "codemirror_mode": {
    "name": "ipython",
    "version": 3
   },
   "file_extension": ".py",
   "mimetype": "text/x-python",
   "name": "python",
   "nbconvert_exporter": "python",
   "pygments_lexer": "ipython3",
   "version": "3.13.5"
  }
 },
 "nbformat": 4,
 "nbformat_minor": 5
}
