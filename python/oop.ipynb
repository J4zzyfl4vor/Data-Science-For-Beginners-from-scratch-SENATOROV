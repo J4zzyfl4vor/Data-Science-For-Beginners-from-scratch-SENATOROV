{
 "cells": [
  {
   "cell_type": "code",
   "execution_count": 1,
   "id": "35a1a57e",
   "metadata": {},
   "outputs": [
    {
     "data": {
      "text/plain": [
       "'ООП.'"
      ]
     },
     "execution_count": 1,
     "metadata": {},
     "output_type": "execute_result"
    }
   ],
   "source": [
    "\"\"\"ООП.\"\"\""
   ]
  },
  {
   "cell_type": "code",
   "execution_count": 2,
   "id": "7a6647e7",
   "metadata": {},
   "outputs": [
    {
     "name": "stdout",
     "output_type": "stream",
     "text": [
      "Ivan\n",
      "Person\n",
      "['__class__', '__delattr__', '__dict__', '__dir__', '__doc__', '__eq__', '__firstlineno__', '__format__', '__ge__', '__getattribute__', '__getstate__', '__gt__', '__hash__', '__init__', '__init_subclass__', '__le__', '__lt__', '__module__', '__ne__', '__new__', '__reduce__', '__reduce_ex__', '__repr__', '__setattr__', '__sizeof__', '__static_attributes__', '__str__', '__subclasshook__', '__weakref__', 'name']\n",
      "<class 'type'>\n",
      "<class '__main__.Person'>\n",
      "Person\n",
      "<class '__main__.Person'>\n",
      "4440487792\n",
      "4441023952\n"
     ]
    }
   ],
   "source": [
    "class Person:\n",
    "    \"\"\"A class that represents a person with a specified name.\"\"\"\n",
    "\n",
    "    name = \"Ivan\"\n",
    "\n",
    "\n",
    "print(Person.name)\n",
    "print(Person.__name__)\n",
    "print(dir(Person))\n",
    "print(Person.__class__)\n",
    "\n",
    "p_obj_1 = Person()\n",
    "print(p_obj_1.__class__)\n",
    "print(p_obj_1.__class__.__name__)\n",
    "print(type(p_obj_1))\n",
    "p_obj_2 = type(p_obj_1)()\n",
    "print(id(p_obj_1))\n",
    "print(id(p_obj_2))"
   ]
  },
  {
   "cell_type": "code",
   "execution_count": 3,
   "id": "57f09b49",
   "metadata": {},
   "outputs": [
    {
     "name": "stdout",
     "output_type": "stream",
     "text": [
      "['__class__', '__delattr__', '__dict__', '__dir__', '__doc__', '__eq__', '__firstlineno__', '__format__', '__ge__', '__getattribute__', '__getstate__', '__gt__', '__hash__', '__init__', '__init_subclass__', '__le__', '__lt__', '__module__', '__ne__', '__new__', '__reduce__', '__reduce_ex__', '__repr__', '__setattr__', '__sizeof__', '__static_attributes__', '__str__', '__subclasshook__', '__weakref__', 'name']\n",
      "{'__module__': '__main__', '__firstlineno__': 1, '__doc__': 'A class that represents a person and stores their name.', 'name': 'Ivan', '__static_attributes__': (), '__dict__': <attribute '__dict__' of 'Person2' objects>, '__weakref__': <attribute '__weakref__' of 'Person2' objects>}\n",
      "Ivan\n",
      "{'__module__': '__main__', '__firstlineno__': 1, '__doc__': 'A class that represents a person and stores their name.', 'name': 'Ivan', '__static_attributes__': (), '__dict__': <attribute '__dict__' of 'Person2' objects>, '__weakref__': <attribute '__weakref__' of 'Person2' objects>, 'dob': '123'}\n",
      "{'__module__': '__main__', '__firstlineno__': 1, '__doc__': 'A class that represents a person and stores their name.', 'name': 'Ivan', '__static_attributes__': (), '__dict__': <attribute '__dict__' of 'Person2' objects>, '__weakref__': <attribute '__weakref__' of 'Person2' objects>}\n",
      "{'__module__': '__main__', '__firstlineno__': 25, '__doc__': 'A class that represents a person with a name and a method to greet.', 'name': 'Ivan', 'hello': <function Person3.hello at 0x108bc1260>, '__static_attributes__': (), '__dict__': <attribute '__dict__' of 'Person3' objects>, '__weakref__': <attribute '__weakref__' of 'Person3' objects>}\n"
     ]
    }
   ],
   "source": [
    "class Person2:\n",
    "    \"\"\"A class that represents a person and stores their name.\"\"\"\n",
    "\n",
    "    name = \"Ivan\"\n",
    "\n",
    "\n",
    "print(dir(Person2))\n",
    "print(Person2.__dict__)\n",
    "\n",
    "\n",
    "# Person.__dict__['name'] = 'asdfsdf'  # Error\n",
    "print(Person.name)\n",
    "\n",
    "# Person2.age = 234324\n",
    "# print(Person2.__dict__)\n",
    "\n",
    "\n",
    "getattr(Person2, \"name\")\n",
    "setattr(Person2, \"dob\", \"123\")\n",
    "print(Person2.__dict__)\n",
    "delattr(Person2, \"dob\")\n",
    "print(Person2.__dict__)\n",
    "\n",
    "\n",
    "class Person3:\n",
    "    \"\"\"A class that represents a person with a name and a method to greet.\"\"\"\n",
    "\n",
    "    name = \"Ivan\"\n",
    "\n",
    "    def hello(self: \"Person3\") -> None:\n",
    "        \"\"\"Print a greeting message.\"\"\"\n",
    "        print(\"Hello\")\n",
    "\n",
    "\n",
    "print(Person3.__dict__)"
   ]
  },
  {
   "cell_type": "code",
   "execution_count": 4,
   "id": "fe446325",
   "metadata": {},
   "outputs": [
    {
     "name": "stdout",
     "output_type": "stream",
     "text": [
      "{'__module__': '__main__', '__firstlineno__': 1, '__annotations__': {'name': <class 'str'>}, '__doc__': 'A class that represents a person and stores their name.', 'name': 'Ivan', '__static_attributes__': (), '__dict__': <attribute '__dict__' of 'Person4' objects>, '__weakref__': <attribute '__weakref__' of 'Person4' objects>}\n",
      "False\n",
      "Ivan\n",
      "Ivan\n",
      "4441399696\n",
      "4441399696\n",
      "4441399696\n",
      "{}\n",
      "{}\n",
      "{'__module__': '__main__', '__firstlineno__': 1, '__annotations__': {'name': <class 'str'>}, '__doc__': 'A class that represents a person and stores their name.', 'name': 'Ivan', '__static_attributes__': (), '__dict__': <attribute '__dict__' of 'Person4' objects>, '__weakref__': <attribute '__weakref__' of 'Person4' objects>}\n",
      "Ivan\n",
      "Ivan\n"
     ]
    }
   ],
   "source": [
    "class Person4:\n",
    "    \"\"\"A class that represents a person and stores their name.\"\"\"\n",
    "\n",
    "    name: str = \"Ivan\"\n",
    "\n",
    "\n",
    "print(Person4.__dict__)\n",
    "\n",
    "p1 = Person4()\n",
    "p2 = Person4()\n",
    "\n",
    "print(id(p1) == id(p2))\n",
    "\n",
    "print(p1.name)\n",
    "print(p2.name)\n",
    "\n",
    "print(id(p1.name))\n",
    "print(id(p2.name))\n",
    "print(id(Person4.name))\n",
    "\n",
    "print(p1.__dict__)\n",
    "print(p2.__dict__)\n",
    "print(Person4.__dict__)\n",
    "\n",
    "p1.name = \"Oleg\"\n",
    "\n",
    "p2.name = \"Dima\"\n",
    "# p2.age = 123\n",
    "\n",
    "p1 = Person4()\n",
    "p2 = Person4()\n",
    "Person.name = \"asdfsdf\"\n",
    "\n",
    "print(p1.name)\n",
    "print(p2.name)"
   ]
  },
  {
   "cell_type": "code",
   "execution_count": 5,
   "id": "9d1d88da",
   "metadata": {},
   "outputs": [
    {
     "name": "stdout",
     "output_type": "stream",
     "text": [
      "<function Person5.hello at 0x108bc13a0>\n",
      "0x108ac7a10\n",
      "Hello\n",
      "<class 'function'>\n",
      "<class 'method'>\n",
      "4441510816\n",
      "4441596096\n",
      "Hello\n",
      "0x108ac7a10\n"
     ]
    }
   ],
   "source": [
    "class Person5:\n",
    "    \"\"\"A class that represents a person with a method to greet.\"\"\"\n",
    "\n",
    "    def hello(self: \"Person5\") -> None:\n",
    "        \"\"\"Print a greeting message.\"\"\"\n",
    "        print(\"Hello\")\n",
    "\n",
    "\n",
    "print(Person5.hello)\n",
    "\n",
    "\n",
    "p3 = Person5()\n",
    "print(hex(id(p3)))\n",
    "\n",
    "p3.hello()\n",
    "\n",
    "print(type(Person5.hello))\n",
    "print(type(p3.hello))\n",
    "\n",
    "print(id(Person5.hello))\n",
    "print(id(p3.hello))\n",
    "\n",
    "dir(Person5.hello)\n",
    "dir(p3.hello)\n",
    "\n",
    "p3.__dict__\n",
    "Person5.__dict__\n",
    "\n",
    "\n",
    "Person5.hello(p3)\n",
    "# print(p3.hello.__self__)\n",
    "print(hex(id(p3)))\n",
    "\n",
    "# p3.hello.__func__"
   ]
  },
  {
   "cell_type": "code",
   "execution_count": 7,
   "id": "bb181e35",
   "metadata": {},
   "outputs": [
    {
     "name": "stdout",
     "output_type": "stream",
     "text": [
      "Ivan\n"
     ]
    }
   ],
   "source": [
    "class Person6:\n",
    "    \"\"\"A class that defines a person with create and display functions.\"\"\"\n",
    "\n",
    "    def create(self: \"Person6\") -> None:\n",
    "        \"\"\"Set the person's name.\"\"\"\n",
    "        self.name = \"Ivan\"  # pylint: disable=attribute-defined-outside-init\n",
    "\n",
    "    def display(self: \"Person6\") -> None:\n",
    "        \"\"\"Print the person's name.\"\"\"\n",
    "        print(self.name)\n",
    "\n",
    "\n",
    "p4 = Person6()\n",
    "# p4.display()  # Error\n",
    "\n",
    "\n",
    "class Person7:\n",
    "    \"\"\"A class that represents a person and stores their name.\"\"\"\n",
    "\n",
    "    def __init__(self: \"Person7\") -> None:\n",
    "        \"\"\"Set the person's name.\"\"\"\n",
    "        self.name = \"Ivan\"\n",
    "\n",
    "    def display(self: \"Person7\") -> None:\n",
    "        \"\"\"Print the person's name.\"\"\"\n",
    "        print(self.name)\n",
    "\n",
    "\n",
    "p5 = Person7()\n",
    "p5.display()"
   ]
  },
  {
   "cell_type": "code",
   "execution_count": 8,
   "id": "0e99bf13",
   "metadata": {},
   "outputs": [
    {
     "name": "stdout",
     "output_type": "stream",
     "text": [
      "Goodbye\n",
      "Goodbye\n",
      "4531514880\n",
      "4532059392\n",
      "4531751008\n",
      "4531751008\n"
     ]
    }
   ],
   "source": [
    "class Person8:\n",
    "    \"\"\"A class that represents a person with a method to greet.\"\"\"\n",
    "\n",
    "    def hello(self: \"Person8\") -> None:\n",
    "        \"\"\"Print a hello greeting.\"\"\"\n",
    "        print(\"Hello\")\n",
    "\n",
    "    @staticmethod\n",
    "    def goodbye() -> None:\n",
    "        \"\"\"Print a goodbye message.\"\"\"\n",
    "        print(\"Goodbye\")\n",
    "\n",
    "\n",
    "p6 = Person8()\n",
    "p6.goodbye()\n",
    "\n",
    "p7 = Person8()\n",
    "p7.goodbye()\n",
    "\n",
    "print(id(p7.hello))\n",
    "print(id(p6.hello))\n",
    "\n",
    "print(id(p7.goodbye))\n",
    "print(id(p6.goodbye))"
   ]
  }
 ],
 "metadata": {
  "kernelspec": {
   "display_name": "base",
   "language": "python",
   "name": "python3"
  },
  "language_info": {
   "codemirror_mode": {
    "name": "ipython",
    "version": 3
   },
   "file_extension": ".py",
   "mimetype": "text/x-python",
   "name": "python",
   "nbconvert_exporter": "python",
   "pygments_lexer": "ipython3",
   "version": "3.13.5"
  }
 },
 "nbformat": 4,
 "nbformat_minor": 5
}
