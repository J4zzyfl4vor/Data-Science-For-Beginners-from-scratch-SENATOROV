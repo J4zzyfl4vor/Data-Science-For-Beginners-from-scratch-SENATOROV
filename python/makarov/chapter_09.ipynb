{
 "cells": [
  {
   "cell_type": "code",
   "execution_count": 31,
   "id": "18ce24a0",
   "metadata": {},
   "outputs": [
    {
     "data": {
      "text/plain": [
       "'Словарь.'"
      ]
     },
     "execution_count": 31,
     "metadata": {},
     "output_type": "execute_result"
    }
   ],
   "source": [
    "\"\"\"Словарь.\"\"\""
   ]
  },
  {
   "cell_type": "code",
   "execution_count": 32,
   "id": "cfec6a18",
   "metadata": {},
   "outputs": [],
   "source": [
    "# dict_1, dict_2 = {}, dict()\n",
    "# print(dict_1, dict_2)"
   ]
  },
  {
   "cell_type": "code",
   "execution_count": 33,
   "id": "3d572880",
   "metadata": {},
   "outputs": [],
   "source": [
    "# company = {'name': 'Toyota', 'founded' : 1937, 'founder': 'Kiichiro Toyoda'}\n",
    "# company"
   ]
  },
  {
   "cell_type": "code",
   "execution_count": 34,
   "id": "cf78bd8c",
   "metadata": {},
   "outputs": [],
   "source": [
    "# tickers = dict([['TYO', 'Toyota'], ['TSLA', 'Tesla'], ['F', 'Ford']])\n",
    "# tickers"
   ]
  },
  {
   "cell_type": "code",
   "execution_count": 35,
   "id": "56fc9664",
   "metadata": {},
   "outputs": [],
   "source": [
    "# # ключи мы поместим в кортеж\n",
    "# keys = ('k1', 'k2', 'k3')\n",
    "\n",
    "# # значением каждого ключа будет 0,\n",
    "# # если ничего не указывать, ключи получат значение None\n",
    "# value = 0\n",
    "\n",
    "# empty_k = dict.fromkeys(keys, value)\n",
    "# empty_k"
   ]
  },
  {
   "cell_type": "code",
   "execution_count": 36,
   "id": "b5a49f12",
   "metadata": {},
   "outputs": [],
   "source": [
    "# import numpy as np\n",
    "\n",
    "# value_types = {'k1' : 123,\n",
    "#                'k2' : 'string',\n",
    "#                'k3' : np.NaN, # тип \"Пропущенное значение\"\n",
    "#                'k4' : True, # логическое значение\n",
    "#                'k5' : None,\n",
    "#                'k6' : [1, 2, 3],\n",
    "#                'k7' : np.array([1, 2, 3]),\n",
    "#                'k8' : {1 : 'v1', 2 : 'v2', 3 : 'v3'}}\n",
    "\n",
    "# value_types"
   ]
  },
  {
   "cell_type": "code",
   "execution_count": 37,
   "id": "2bc6269e",
   "metadata": {},
   "outputs": [],
   "source": [
    "# person = {'first name' : 'Иван',\n",
    "#           'last name' : 'Иванов',\n",
    "#           'born' : 1980,\n",
    "#           'dept' : 'IT'}"
   ]
  },
  {
   "cell_type": "code",
   "execution_count": 38,
   "id": "b6636cc5",
   "metadata": {},
   "outputs": [],
   "source": [
    "# # обратите внимание, в данном случае новое значение - это список\n",
    "# person['languages'] = ['Python', 'C++']\n",
    "# person"
   ]
  },
  {
   "cell_type": "code",
   "execution_count": 39,
   "id": "d5896dbf",
   "metadata": {},
   "outputs": [],
   "source": [
    "# # значение - это по-прежнему список, но из одного элемента\n",
    "# person['languages'] = ['Python']\n",
    "# person"
   ]
  },
  {
   "cell_type": "code",
   "execution_count": 40,
   "id": "baf63259",
   "metadata": {},
   "outputs": [],
   "source": [
    "# # возьмем еще один словарь\n",
    "# new_elements = {'job' : 'программист', 'experience' : 7}\n",
    "\n",
    "# # и присоединим его к существующему словарю с помощью метода .update()\n",
    "# person.update(new_elements)\n",
    "# person"
   ]
  },
  {
   "cell_type": "code",
   "execution_count": 41,
   "id": "898ac63e",
   "metadata": {},
   "outputs": [],
   "source": [
    "# # удаляемое значение не выводится\n",
    "# del(person['born'])"
   ]
  },
  {
   "cell_type": "code",
   "execution_count": 42,
   "id": "31d5894a",
   "metadata": {},
   "outputs": [],
   "source": [
    "# # возьмем несложный словарь\n",
    "# dict_to_sort = {'k2' : 30, 'k1' : 20, 'k3' : 10}"
   ]
  },
  {
   "cell_type": "code",
   "execution_count": 43,
   "id": "360411b0",
   "metadata": {},
   "outputs": [],
   "source": [
    "# sorted(dict_to_sort)"
   ]
  },
  {
   "cell_type": "code",
   "execution_count": 44,
   "id": "148de0fa",
   "metadata": {},
   "outputs": [],
   "source": [
    "# # создадим исходный словарь с\n",
    "# количеством студентов на первом и втором курсах университета\n",
    "# original = {'Первый курс' : 174, 'Второй курс' : 131}"
   ]
  },
  {
   "cell_type": "code",
   "execution_count": 45,
   "id": "c78d869d",
   "metadata": {},
   "outputs": [],
   "source": [
    "# # создадим копию исходного словаря с помощью метода .copy()\n",
    "# new_1 = original.copy()\n",
    "\n",
    "# # добавим информацию о третьем курсе в новый словарь\n",
    "# new_1['Третий курс'] = 117\n",
    "\n",
    "# # выведем исходный и новый словари\n",
    "# print(original)\n",
    "# print(new_1)"
   ]
  },
  {
   "cell_type": "code",
   "execution_count": 46,
   "id": "91ca08eb",
   "metadata": {},
   "outputs": [],
   "source": [
    "# # создадим словарь,\n",
    "# some_dict = {'k': 1}\n",
    "\n",
    "# # передадим его в функцию dir() и\n",
    "# # выведем первые 11 элементов\n",
    "# dir(some_dict)"
   ]
  },
  {
   "cell_type": "code",
   "execution_count": 47,
   "id": "c440d748",
   "metadata": {},
   "outputs": [],
   "source": [
    "# # создадим еще один словарь\n",
    "# source_dict = {'k1' : 2, 'k2' : 4, 'k3' : 6}"
   ]
  },
  {
   "cell_type": "code",
   "execution_count": 48,
   "id": "6461c738",
   "metadata": {},
   "outputs": [],
   "source": [
    "# {k : v * 2 for (k, v) in source_dict.items()}"
   ]
  },
  {
   "cell_type": "code",
   "execution_count": 49,
   "id": "7c1f3854",
   "metadata": {},
   "outputs": [],
   "source": [
    "# new_dict = {}\n",
    "\n",
    "# for k, v in source_dict.items():\n",
    "#   if v > 2 and v < 6:\n",
    "\n",
    "#     # если условия верны, записываем ключ и значение в новый словарь\n",
    "#     new_dict[k] = v\n",
    "\n",
    "# new_dict"
   ]
  },
  {
   "cell_type": "code",
   "execution_count": 50,
   "id": "7ca67ce0",
   "metadata": {},
   "outputs": [],
   "source": [
    "# # один фут равен 0,3048 метра\n",
    "# metres = list(map(lambda m: m * 0.3048, height_feet.values()))\n",
    "# metres"
   ]
  },
  {
   "cell_type": "code",
   "execution_count": 51,
   "id": "419ad0fe",
   "metadata": {},
   "outputs": [],
   "source": [
    "# dict(zip(height_feet.keys(), np.round(metres, 2)))"
   ]
  },
  {
   "cell_type": "code",
   "execution_count": 52,
   "id": "883a7c6d",
   "metadata": {},
   "outputs": [],
   "source": [
    "# # мы просто преобразуем значения словаря в метры\n",
    "# {k : np.round(v * 0.3048, 2) for (k, v) in height_feet.items()}"
   ]
  },
  {
   "cell_type": "code",
   "execution_count": 53,
   "id": "19ebaa81",
   "metadata": {},
   "outputs": [],
   "source": [
    "# employees = {\n",
    "#     'id1': {\n",
    "#         'first name': 'Александр',\n",
    "#     'last name' : 'Иванов',\n",
    "#         'age': 30,\n",
    "#         'job':'программист'\n",
    "#             },\n",
    "#     'id2': {\n",
    "#         'first name': 'Ольга',\n",
    "#     'last name' : 'Петрова',\n",
    "#         'age': 35,\n",
    "#         'job':'ML-engineer'\n",
    "#             }\n",
    "# }"
   ]
  },
  {
   "cell_type": "code",
   "execution_count": 54,
   "id": "5e201386",
   "metadata": {},
   "outputs": [],
   "source": [
    "# for v in employees.values():\n",
    "#   print(v)"
   ]
  },
  {
   "cell_type": "code",
   "execution_count": 55,
   "id": "9726f7ef",
   "metadata": {},
   "outputs": [],
   "source": [
    "# # добавим информацию о новом сотруднике\n",
    "# employees['id3'] = {'first name':\n",
    "# 'Дарья', 'last name' : 'Некрасова',\n",
    "# 'age': 27, 'job' : 'веб-дизайнер' }\n",
    "\n",
    "# # и выведем обновленный словарь с помощью функции pprint()\n",
    "# pprint(employees)"
   ]
  },
  {
   "cell_type": "code",
   "execution_count": 56,
   "id": "aa92e9a0",
   "metadata": {},
   "outputs": [],
   "source": [
    "# employees['id3']['age'] = 26\n",
    "# pprint(employees)"
   ]
  },
  {
   "cell_type": "code",
   "execution_count": 57,
   "id": "663f0bdf",
   "metadata": {},
   "outputs": [],
   "source": [
    "# # для этого вначале пройдемся по вложенным словарям,\n",
    "# # т.е. по значениям info внешнего словаря employees\n",
    "# for info in employees.values():\n",
    "\n",
    "#   # затем по ключам и значениям вложенного словаря info\n",
    "#   for k, v in info.items():\n",
    "\n",
    "#     # если ключ совпадет со словом 'age'\n",
    "#     if k == 'age':\n",
    "\n",
    "#       # преобразуем значение в тип float\n",
    "#       info[k] = float(v)\n",
    "\n",
    "# pprint(employees)"
   ]
  },
  {
   "cell_type": "code",
   "execution_count": 58,
   "id": "f5ceef21",
   "metadata": {},
   "outputs": [],
   "source": [
    "# # создадим пустой словарь для мешка слов bow\n",
    "# bow_1 = {}\n",
    "\n",
    "# # пройдемся по словам текста\n",
    "# for word in words:\n",
    "\n",
    "#   # если нам встретилось слово, которое уже есть в словаре\n",
    "#   if word in bow_1:\n",
    "\n",
    "#     # увеличим его значение (частоту) на 1\n",
    "#     bow_1[word] = bow_1[word] + 1\n",
    "\n",
    "#   # в противном случае, если слово встречается впервые\n",
    "#   else:\n",
    "\n",
    "#     # зададим ему значение 1\n",
    "#     bow_1[word] = 1\n",
    "\n",
    "# # отсортируем словарь по значению в убываюем порядке (reverse = True)\n",
    "# # и выведем шесть наиболее частотных слов\n",
    "# sorted(bow_1.items(), key = lambda x : x[1], reverse = True)[:6]"
   ]
  },
  {
   "cell_type": "code",
   "execution_count": 59,
   "id": "640f2934",
   "metadata": {},
   "outputs": [],
   "source": [
    "# bow_2 = {}\n",
    "\n",
    "# for word in words:\n",
    "#   bow_2[word] = bow_2.get(word, 0) + 1\n",
    "\n",
    "# sorted(bow_2.items(), key = lambda x : x[1], reverse = True)[:6]"
   ]
  },
  {
   "cell_type": "code",
   "execution_count": 60,
   "id": "ff6d081c",
   "metadata": {},
   "outputs": [],
   "source": [
    "# # импортируем класс Counter\n",
    "# from collections import Counter\n",
    "\n",
    "# # создадим объект этого класса, передав ему список слов\n",
    "# bow_3 = Counter(words)\n",
    "\n",
    "# # выведем шесть наиболее часто встречающихся слов с помощью метода .most_common()\n",
    "# bow_3.most_common(6)"
   ]
  },
  {
   "cell_type": "code",
   "execution_count": null,
   "id": "f176aa99",
   "metadata": {},
   "outputs": [],
   "source": []
  }
 ],
 "metadata": {
  "kernelspec": {
   "display_name": "base",
   "language": "python",
   "name": "python3"
  },
  "language_info": {
   "codemirror_mode": {
    "name": "ipython",
    "version": 3
   },
   "file_extension": ".py",
   "mimetype": "text/x-python",
   "name": "python",
   "nbconvert_exporter": "python",
   "pygments_lexer": "ipython3",
   "version": "3.13.5"
  }
 },
 "nbformat": 4,
 "nbformat_minor": 5
}
