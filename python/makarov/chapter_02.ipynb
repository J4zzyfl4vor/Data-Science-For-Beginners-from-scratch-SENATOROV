{
 "cells": [
  {
   "cell_type": "code",
   "execution_count": 1,
   "id": "2c552e91",
   "metadata": {},
   "outputs": [
    {
     "data": {
      "text/plain": [
       "'Типы данных.'"
      ]
     },
     "execution_count": 1,
     "metadata": {},
     "output_type": "execute_result"
    }
   ],
   "source": [
    "\"\"\"Типы данных.\"\"\""
   ]
  },
  {
   "cell_type": "code",
   "execution_count": 2,
   "id": "c05e4564",
   "metadata": {},
   "outputs": [],
   "source": [
    "a_1: int = 25  # целое число (int)\n",
    "b_1: float = 2.5  # число с плавающей точкой (float)\n",
    "c_1: complex = 3 + 25j  # комплексное число (complex)"
   ]
  },
  {
   "cell_type": "code",
   "execution_count": null,
   "id": "fc9c7afd",
   "metadata": {},
   "outputs": [
    {
     "name": "stdout",
     "output_type": "stream",
     "text": [
      "2000.0\n",
      "<class 'float'>\n"
     ]
    }
   ],
   "source": [
    "d_2: float = 2e3  # 2 умножить на 10 в степени 3\n",
    "print(d_2)\n",
    "print(type(d_2))"
   ]
  },
  {
   "cell_type": "code",
   "execution_count": 4,
   "id": "95a422e9",
   "metadata": {},
   "outputs": [
    {
     "name": "stdout",
     "output_type": "stream",
     "text": [
      "4 2 4 2.0 8\n"
     ]
    }
   ],
   "source": [
    "# сложение, вычитание, умножение, деление, возведение в степень\n",
    "print(2 + 2, 4 - 2, 2 * 2, 4 / 2, 2**3)"
   ]
  },
  {
   "cell_type": "code",
   "execution_count": 5,
   "id": "24d9177f",
   "metadata": {},
   "outputs": [
    {
     "name": "stdout",
     "output_type": "stream",
     "text": [
      "3\n",
      "1\n"
     ]
    }
   ],
   "source": [
    "# разделим 7 на 2, и найдем целую часть и остаток\n",
    "\n",
    "# целая часть\n",
    "print(7 // 2)\n",
    "\n",
    "# остаток от деления\n",
    "print(7 % 2)"
   ]
  },
  {
   "cell_type": "code",
   "execution_count": null,
   "id": "77194e32",
   "metadata": {},
   "outputs": [
    {
     "name": "stdout",
     "output_type": "stream",
     "text": [
      "True False True False\n"
     ]
    }
   ],
   "source": [
    "# больше, меньше, больше или равно и меньше или равно\n",
    "# print(4 > 2, 4 < 2, 4 >= 2, 4 <= 2)"
   ]
  },
  {
   "cell_type": "code",
   "execution_count": null,
   "id": "d6d5eea5",
   "metadata": {},
   "outputs": [
    {
     "name": "stdout",
     "output_type": "stream",
     "text": [
      "False\n",
      "True\n"
     ]
    }
   ],
   "source": [
    "# равенство\n",
    "# print(2 == 4)\n",
    "\n",
    "# и новый для нас оператор неравенства\n",
    "# print(2 != 4)"
   ]
  },
  {
   "cell_type": "code",
   "execution_count": 32,
   "id": "70b69b2e",
   "metadata": {},
   "outputs": [],
   "source": [
    "# логическое И, обе операции должны быть истинны\n",
    "# print(4 > 2 and 2 != 3)\n",
    "\n",
    "# логическое ИЛИ, хотя бы одна из операций должна быть истинна\n",
    "# print(4 < 2 or 2 == 2)\n",
    "#\n",
    "# логическое НЕ, перевод истинного значения в ложное и наоборот\n",
    "# print(not (4 == 4))"
   ]
  },
  {
   "cell_type": "code",
   "execution_count": 10,
   "id": "96684139",
   "metadata": {},
   "outputs": [
    {
     "name": "stdout",
     "output_type": "stream",
     "text": [
      "0b11001\n",
      "25\n"
     ]
    }
   ],
   "source": [
    "# создадим число в десятичной системе\n",
    "d_1: int = 25\n",
    "\n",
    "# переведем в двоичную (binary)\n",
    "bin_d: str = bin(d_1)\n",
    "print(bin_d)\n",
    "\n",
    "# переведем обратно в десятичную\n",
    "print(int(bin_d, 2))"
   ]
  },
  {
   "cell_type": "code",
   "execution_count": 11,
   "id": "a5738b87",
   "metadata": {},
   "outputs": [],
   "source": [
    "string_1: str = \"это строка\"\n",
    "string_2: str = \"это тоже строка\""
   ]
  },
  {
   "cell_type": "code",
   "execution_count": 15,
   "id": "5cc53a8c",
   "metadata": {},
   "outputs": [],
   "source": [
    "multi_string: str = \"\"\"Мы все учились понемногу\n",
    "Чему-нибудь и как-нибудь,\n",
    "Так воспитаньем, слава богу,\n",
    "У нас немудрено блеснуть.\"\"\""
   ]
  },
  {
   "cell_type": "code",
   "execution_count": 13,
   "id": "d37b7661",
   "metadata": {},
   "outputs": [
    {
     "data": {
      "text/plain": [
       "105"
      ]
     },
     "execution_count": 13,
     "metadata": {},
     "output_type": "execute_result"
    }
   ],
   "source": [
    "len(multi_string)"
   ]
  },
  {
   "cell_type": "code",
   "execution_count": 18,
   "id": "fe516fd8",
   "metadata": {},
   "outputs": [
    {
     "data": {
      "text/plain": [
       "'Программирование на Питоне'"
      ]
     },
     "execution_count": 18,
     "metadata": {},
     "output_type": "execute_result"
    }
   ],
   "source": [
    "# создадим три строки\n",
    "a_5: str\n",
    "b_5: str\n",
    "c_5: str\n",
    "a_5, b_5, c_5 = \"Программирование\", \"на\", \"Питоне\"\n",
    "\n",
    "# соединим с помощью + и добавим пробелы ' '\n",
    "a_5 + \" \" + b_5 + \" \" + c_5"
   ]
  },
  {
   "cell_type": "code",
   "execution_count": 19,
   "id": "90076f6d",
   "metadata": {},
   "outputs": [
    {
     "name": "stdout",
     "output_type": "stream",
     "text": [
      "М\n",
      ".\n"
     ]
    }
   ],
   "source": [
    "# выведем первый элемент строки multi_string\n",
    "print(multi_string[0])\n",
    "\n",
    "# теперь выведем последний элемент\n",
    "print(multi_string[-1])"
   ]
  },
  {
   "cell_type": "code",
   "execution_count": 20,
   "id": "ba0b0ceb",
   "metadata": {},
   "outputs": [
    {
     "name": "stdout",
     "output_type": "stream",
     "text": [
      "все\n"
     ]
    }
   ],
   "source": [
    "# выберем элементы с четвертого по шестой\n",
    "print(multi_string[3:6])"
   ]
  },
  {
   "cell_type": "code",
   "execution_count": 21,
   "id": "66f60a51",
   "metadata": {},
   "outputs": [
    {
     "name": "stdout",
     "output_type": "stream",
     "text": [
      "Мы\n",
      "все учились понемногу\n",
      "Чему-нибудь и как-нибудь,\n",
      "Так воспитаньем, слава богу,\n",
      "У нас немудрено блеснуть.\n"
     ]
    }
   ],
   "source": [
    "# выведем все элементы вплоть до второго\n",
    "print(multi_string[:2])\n",
    "\n",
    "# а также все элементы, начиная с четвертого\n",
    "print(multi_string[3:])"
   ]
  },
  {
   "cell_type": "code",
   "execution_count": 22,
   "id": "81e61b89",
   "metadata": {},
   "outputs": [
    {
     "name": "stdout",
     "output_type": "stream",
     "text": [
      "П\n",
      "и\n",
      "т\n",
      "о\n",
      "н\n"
     ]
    }
   ],
   "source": [
    "# выведем буквы в слове Питон\n",
    "for char in \"Питон\":\n",
    "    print(char)"
   ]
  },
  {
   "cell_type": "code",
   "execution_count": 23,
   "id": "06edeb4c",
   "metadata": {},
   "outputs": [
    {
     "name": "stdout",
     "output_type": "stream",
     "text": [
      "15 849 302\n",
      "15 849 302\n"
     ]
    }
   ],
   "source": [
    "# применим метод .strip(), чтобы удалить *\n",
    "print(\"***15 849 302*****\".strip(\"*\"))\n",
    "\n",
    "# если ничего не указать в качестве аргумента, то удаляются пробелы по краям строки\n",
    "print(\" 15 849 302 \".strip())"
   ]
  },
  {
   "cell_type": "code",
   "execution_count": 24,
   "id": "243ad179",
   "metadata": {},
   "outputs": [
    {
     "name": "stdout",
     "output_type": "stream",
     "text": [
      "['Мы', 'все', 'учились', 'понемногу', 'Чему-нибудь', 'и', 'как-нибудь,', 'Так', 'воспитаньем,', 'слава', 'богу,', 'У', 'нас', 'немудрено', 'блеснуть.']\n"
     ]
    }
   ],
   "source": [
    "# применим метод .split(), чтобы разделить строку на части\n",
    "print(multi_string.split())"
   ]
  },
  {
   "cell_type": "code",
   "execution_count": 34,
   "id": "331d4fc8",
   "metadata": {},
   "outputs": [
    {
     "name": "stdout",
     "output_type": "stream",
     "text": [
      "20.25\n",
      "<class 'float'>\n"
     ]
    }
   ],
   "source": [
    "# предположим данные содержатся вот в таком формате\n",
    "data: str = \"20,25\"\n",
    "\n",
    "# теперь заменим ',' на '.'\n",
    "data_1: str = data.replace(\",\", \".\")\n",
    "\n",
    "# и преобразуем в число\n",
    "data_3 = float(data_1)\n",
    "print(data_3)\n",
    "print(type(data_3))"
   ]
  },
  {
   "cell_type": "code",
   "execution_count": 37,
   "id": "b1511e85",
   "metadata": {},
   "outputs": [
    {
     "data": {
      "text/plain": [
       "bool"
      ]
     },
     "execution_count": 37,
     "metadata": {},
     "output_type": "execute_result"
    }
   ],
   "source": [
    "# создадим переменную и запишем в нее логическое значение True\n",
    "# (обязательно с большой буквы)\n",
    "var_1: bool = True\n",
    "type(var_1)"
   ]
  },
  {
   "cell_type": "code",
   "execution_count": 38,
   "id": "87a11f08",
   "metadata": {},
   "outputs": [
    {
     "name": "stdout",
     "output_type": "stream",
     "text": [
      "Значение переменной истинно\n"
     ]
    }
   ],
   "source": [
    "# напишем небольшую программу, которая будет показывать,\n",
    "# какое значение содержится в переменной var\n",
    "\n",
    "if var_1:\n",
    "    print(\"Значение переменной истинно\")\n",
    "else:\n",
    "    print(\"Значение переменной ложно\")"
   ]
  },
  {
   "cell_type": "code",
   "execution_count": 28,
   "id": "b309e546",
   "metadata": {},
   "outputs": [
    {
     "data": {
      "text/plain": [
       "'[1, 2, 3]'"
      ]
     },
     "execution_count": 28,
     "metadata": {},
     "output_type": "execute_result"
    }
   ],
   "source": [
    "# возьмем простой список\n",
    "list_: list[int] = [1, 2, 3]\n",
    "\n",
    "# использовать только функцию str() нельзя\n",
    "str(list_)"
   ]
  },
  {
   "cell_type": "code",
   "execution_count": 31,
   "id": "bc5dfe00",
   "metadata": {},
   "outputs": [
    {
     "data": {
      "text/plain": [
       "['1', '2', '3']"
      ]
     },
     "execution_count": 31,
     "metadata": {},
     "output_type": "execute_result"
    }
   ],
   "source": [
    "list_str: list[str] = []\n",
    "\n",
    "for elem in list_:\n",
    "    list_str.append(str(elem))\n",
    "\n",
    "list_str"
   ]
  }
 ],
 "metadata": {
  "kernelspec": {
   "display_name": "base",
   "language": "python",
   "name": "python3"
  },
  "language_info": {
   "codemirror_mode": {
    "name": "ipython",
    "version": 3
   },
   "file_extension": ".py",
   "mimetype": "text/x-python",
   "name": "python",
   "nbconvert_exporter": "python",
   "pygments_lexer": "ipython3",
   "version": "3.13.5"
  }
 },
 "nbformat": 4,
 "nbformat_minor": 5
}
