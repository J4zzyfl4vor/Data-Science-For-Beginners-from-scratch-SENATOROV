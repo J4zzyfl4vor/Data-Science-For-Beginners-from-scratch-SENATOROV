{
 "cells": [
  {
   "cell_type": "code",
   "execution_count": 63,
   "id": "702f8496",
   "metadata": {},
   "outputs": [
    {
     "data": {
      "text/plain": [
       "'Дата и время в Питоне.'"
      ]
     },
     "execution_count": 63,
     "metadata": {},
     "output_type": "execute_result"
    }
   ],
   "source": [
    "\"\"\"Дата и время в Питоне.\"\"\""
   ]
  },
  {
   "cell_type": "code",
   "execution_count": 64,
   "id": "b9cafee6",
   "metadata": {},
   "outputs": [],
   "source": [
    "# импортируем весь модуль\n",
    "# import datetime\n",
    "# чтобы получить доступ к функции now(), сначала обратимся\n",
    "# к модулю, потом к классу\n",
    "# print(datetime.datetime.now())\n",
    "\n",
    "# часто из модуля datetime удобнее импортировать только класс datetime"
   ]
  },
  {
   "cell_type": "code",
   "execution_count": 103,
   "id": "9c213e2a",
   "metadata": {},
   "outputs": [],
   "source": [
    "# импортируем весь модуль\n",
    "from datetime import datetime\n",
    "\n",
    "import pytz"
   ]
  },
  {
   "cell_type": "code",
   "execution_count": 66,
   "id": "e5f78138",
   "metadata": {},
   "outputs": [
    {
     "name": "stdout",
     "output_type": "stream",
     "text": [
      "2025-10-26 19:44:22.552074\n"
     ]
    }
   ],
   "source": [
    "# чтобы получить доступ к функции now(), сначала обратимся к модулю, потом к классу\n",
    "print(datetime.now())"
   ]
  },
  {
   "cell_type": "code",
   "execution_count": 67,
   "id": "b4bd300e",
   "metadata": {},
   "outputs": [
    {
     "name": "stdout",
     "output_type": "stream",
     "text": [
      "2025-10-26 19:44:22.556827\n"
     ]
    }
   ],
   "source": [
    "# поместим созданный с помощью функции now() объект datetime в переменную cur_dt\n",
    "cur_dt: datetime = datetime.now()\n",
    "print(cur_dt)"
   ]
  },
  {
   "cell_type": "code",
   "execution_count": 68,
   "id": "0320f197",
   "metadata": {},
   "outputs": [
    {
     "name": "stdout",
     "output_type": "stream",
     "text": [
      "2025 10 26 19 44 22 556827\n"
     ]
    }
   ],
   "source": [
    "# с помощью соответствующих атрибутов выведем каждый из компонентов объекта\n",
    "print(\n",
    "    cur_dt.year,\n",
    "    cur_dt.month,\n",
    "    cur_dt.day,\n",
    "    cur_dt.hour,\n",
    "    cur_dt.minute,\n",
    "    cur_dt.second,\n",
    "    cur_dt.microsecond,\n",
    ")"
   ]
  },
  {
   "cell_type": "code",
   "execution_count": 69,
   "id": "2259b1be",
   "metadata": {},
   "outputs": [
    {
     "name": "stdout",
     "output_type": "stream",
     "text": [
      "6 7\n"
     ]
    }
   ],
   "source": [
    "print(cur_dt.weekday(), cur_dt.isoweekday())"
   ]
  },
  {
   "cell_type": "code",
   "execution_count": 70,
   "id": "13e62275",
   "metadata": {},
   "outputs": [
    {
     "name": "stdout",
     "output_type": "stream",
     "text": [
      "None\n"
     ]
    }
   ],
   "source": [
    "# посмотрим на часовой пояс с помощью атрибута tzinfo\n",
    "print(cur_dt.tzinfo)"
   ]
  },
  {
   "cell_type": "code",
   "execution_count": 71,
   "id": "942ebd35",
   "metadata": {},
   "outputs": [
    {
     "name": "stdout",
     "output_type": "stream",
     "text": [
      "2025-10-27 05:44:22.575423+03:00\n"
     ]
    }
   ],
   "source": [
    "# выведем текущее время в Москве\n",
    "dt_moscow = datetime.now(pytz.timezone(\"Europe/Moscow\"))\n",
    "print(dt_moscow)"
   ]
  },
  {
   "cell_type": "code",
   "execution_count": 72,
   "id": "de64c0f6",
   "metadata": {},
   "outputs": [
    {
     "name": "stdout",
     "output_type": "stream",
     "text": [
      "Europe/Moscow\n"
     ]
    }
   ],
   "source": [
    "print(dt_moscow.tzinfo)"
   ]
  },
  {
   "cell_type": "code",
   "execution_count": 73,
   "id": "1196f334",
   "metadata": {},
   "outputs": [],
   "source": [
    "# получим timestamp текущего времени с помощью метода .timestamp()\n",
    "timestamp = datetime.now().timestamp()"
   ]
  },
  {
   "cell_type": "code",
   "execution_count": 74,
   "id": "dee14993",
   "metadata": {},
   "outputs": [
    {
     "name": "stdout",
     "output_type": "stream",
     "text": [
      "1761533062.582627\n"
     ]
    }
   ],
   "source": [
    "print(timestamp)"
   ]
  },
  {
   "cell_type": "code",
   "execution_count": 75,
   "id": "fe4a076f",
   "metadata": {},
   "outputs": [
    {
     "name": "stdout",
     "output_type": "stream",
     "text": [
      "2025-10-26 19:44:22.582627\n"
     ]
    }
   ],
   "source": [
    "# для этого воспользуемся методом .fromtimestamp()\n",
    "print(datetime.fromtimestamp(timestamp))"
   ]
  },
  {
   "cell_type": "code",
   "execution_count": 76,
   "id": "70abf485",
   "metadata": {},
   "outputs": [
    {
     "name": "stdout",
     "output_type": "stream",
     "text": [
      "1991-02-20 00:00:00\n"
     ]
    }
   ],
   "source": [
    "# передадим объекту datetime 20 февраля 1991 года\n",
    "hb: datetime = datetime(1991, 2, 20)\n",
    "print(hb)"
   ]
  },
  {
   "cell_type": "code",
   "execution_count": 77,
   "id": "657136a9",
   "metadata": {},
   "outputs": [
    {
     "name": "stdout",
     "output_type": "stream",
     "text": [
      "1991\n"
     ]
    }
   ],
   "source": [
    "# извлечем год с помощью атрибута year\n",
    "print(hb.year)"
   ]
  },
  {
   "cell_type": "code",
   "execution_count": 78,
   "id": "cd08d822",
   "metadata": {},
   "outputs": [
    {
     "name": "stdout",
     "output_type": "stream",
     "text": [
      "667036800.0\n"
     ]
    }
   ],
   "source": [
    "# создадим timestamp\n",
    "print(datetime.timestamp(hb))"
   ]
  },
  {
   "cell_type": "code",
   "execution_count": 79,
   "id": "9d116c5c",
   "metadata": {},
   "outputs": [
    {
     "data": {
      "text/plain": [
       "str"
      ]
     },
     "execution_count": 79,
     "metadata": {},
     "output_type": "execute_result"
    }
   ],
   "source": [
    "# дана строка с датой 2 декабря 2007 года и временем 12 часов 30 минут и 45 секунд\n",
    "str_to_dt: str = \"2007-12-02 12:30:45\"\n",
    "type(str_to_dt)"
   ]
  },
  {
   "cell_type": "code",
   "execution_count": 80,
   "id": "f2524ffa",
   "metadata": {},
   "outputs": [
    {
     "name": "stdout",
     "output_type": "stream",
     "text": [
      "2007-12-02 12:30:45\n",
      "<class 'datetime.datetime'>\n"
     ]
    }
   ],
   "source": [
    "res_dt: datetime = datetime.strptime(str_to_dt, \"%Y-%m-%d %H:%M:%S\")\n",
    "\n",
    "print(res_dt)\n",
    "print(type(res_dt))"
   ]
  },
  {
   "cell_type": "code",
   "execution_count": 81,
   "id": "22b153cb",
   "metadata": {},
   "outputs": [
    {
     "data": {
      "text/plain": [
       "datetime.datetime"
      ]
     },
     "execution_count": 81,
     "metadata": {},
     "output_type": "execute_result"
    }
   ],
   "source": [
    "# вначале создадим объект datetime и передадим ему 19 ноября 2002 года\n",
    "dt_to_str: datetime = datetime(2002, 11, 19)\n",
    "type(dt_to_str)"
   ]
  },
  {
   "cell_type": "code",
   "execution_count": 82,
   "id": "07e05912",
   "metadata": {},
   "outputs": [],
   "source": [
    "# преобразуем объект в строку в формате \"день недели, месяц число, год\"\n",
    "# res_str: datetime = datetime.strftime(dt_to_str, '%A, %B %d, %Y')\n",
    "#\n",
    "# print(res_str)\n",
    "# print(type(res_str))"
   ]
  },
  {
   "cell_type": "code",
   "execution_count": 83,
   "id": "c4a897e0",
   "metadata": {},
   "outputs": [
    {
     "data": {
      "text/plain": [
       "'Tuesday, November 19, 2002'"
      ]
     },
     "execution_count": 83,
     "metadata": {},
     "output_type": "execute_result"
    }
   ],
   "source": [
    "dt_to_str.strftime(\"%A, %B %d, %Y\")"
   ]
  },
  {
   "cell_type": "code",
   "execution_count": 84,
   "id": "a193bcfb",
   "metadata": {},
   "outputs": [],
   "source": [
    "date1: datetime = datetime(1905, 6, 30)  # \"К электродинамике движущихся тел\"\n",
    "date2: datetime = datetime(1916, 5, 11)  # Общая теория относительности"
   ]
  },
  {
   "cell_type": "code",
   "execution_count": 85,
   "id": "1b6dfadf",
   "metadata": {},
   "outputs": [
    {
     "data": {
      "text/plain": [
       "True"
      ]
     },
     "execution_count": 85,
     "metadata": {},
     "output_type": "execute_result"
    }
   ],
   "source": [
    "date1 < date2"
   ]
  },
  {
   "cell_type": "code",
   "execution_count": 86,
   "id": "03ee8855",
   "metadata": {},
   "outputs": [
    {
     "data": {
      "text/plain": [
       "False"
      ]
     },
     "execution_count": 86,
     "metadata": {},
     "output_type": "execute_result"
    }
   ],
   "source": [
    "date1 > date2"
   ]
  },
  {
   "cell_type": "code",
   "execution_count": 87,
   "id": "29e43b87",
   "metadata": {},
   "outputs": [],
   "source": [
    "# вначале запишем даты в виде строки и сравним их\n",
    "# '2007-12-02' > '2002-11-19'"
   ]
  },
  {
   "cell_type": "code",
   "execution_count": 88,
   "id": "32b12b3f",
   "metadata": {},
   "outputs": [],
   "source": [
    "# теперь в виде объекта datetime\n",
    "# datetime(2007, 12, 2) > datetime(2002, 11, 19)"
   ]
  },
  {
   "cell_type": "code",
   "execution_count": 89,
   "id": "18c8c43c",
   "metadata": {},
   "outputs": [
    {
     "name": "stdout",
     "output_type": "stream",
     "text": [
      "3968 days, 0:00:00\n"
     ]
    }
   ],
   "source": [
    "diff = date2 - date1\n",
    "print(diff)"
   ]
  },
  {
   "cell_type": "code",
   "execution_count": 90,
   "id": "91e36507",
   "metadata": {},
   "outputs": [
    {
     "data": {
      "text/plain": [
       "datetime.timedelta"
      ]
     },
     "execution_count": 90,
     "metadata": {},
     "output_type": "execute_result"
    }
   ],
   "source": [
    "type(diff)"
   ]
  },
  {
   "cell_type": "code",
   "execution_count": 91,
   "id": "cfe11785",
   "metadata": {},
   "outputs": [],
   "source": [
    "# datetime.timedelta"
   ]
  },
  {
   "cell_type": "code",
   "execution_count": 92,
   "id": "1d68e2a4",
   "metadata": {},
   "outputs": [
    {
     "name": "stdout",
     "output_type": "stream",
     "text": [
      "3968\n"
     ]
    }
   ],
   "source": [
    "print(diff.days)"
   ]
  },
  {
   "cell_type": "code",
   "execution_count": 93,
   "id": "6c0852ef",
   "metadata": {},
   "outputs": [],
   "source": [
    "# а затем создадим объект timedelta продолжительностью 1 день\n",
    "# timedelta(days=1)"
   ]
  },
  {
   "cell_type": "code",
   "execution_count": 94,
   "id": "57e72d67",
   "metadata": {},
   "outputs": [],
   "source": [
    "# допустим сейчас 1 января 2070 года\n",
    "future: datetime = datetime(2070, 1, 1)"
   ]
  },
  {
   "cell_type": "code",
   "execution_count": 95,
   "id": "bb65ce93",
   "metadata": {},
   "outputs": [],
   "source": [
    "# сначала просто умножим 365 дней на 170\n",
    "# time_travel = timedelta(days=365) * 170\n",
    "#\n",
    "# а потом переместимся из будущего в прошлое\n",
    "# past = future - time_travel\n",
    "#\n",
    "# к сожалению, мы немного \"не долетим\",\n",
    "# потому что не учли високосные годы, в # # которых 366 дней\n",
    "# past"
   ]
  },
  {
   "cell_type": "code",
   "execution_count": 96,
   "id": "c240a15d",
   "metadata": {},
   "outputs": [],
   "source": [
    "# time_travel: timedelta = timedelta(days=62092)\n",
    "#\n",
    "# past = future - time_travel\n",
    "# past"
   ]
  },
  {
   "cell_type": "code",
   "execution_count": 97,
   "id": "158295a0",
   "metadata": {},
   "outputs": [],
   "source": [
    "# cur_date: datetime = datetime(2021, 1, 1)\n",
    "# эту дату мы будем выводить\n",
    "# end_date: datetime = datetime(2021, 1, 10)\n",
    "# это граница (условие в цикле # # while)\n",
    "#\n",
    "#  пока верно условие\n",
    "# while cur_date <= end_date:\n",
    "#\n",
    "#     # выведем cur_date в формате \"месяц число, год\"\n",
    "#     print(cur_date.strftime(\"%b %d, %Y\"))\n",
    "#\n",
    "#     # прибавим к выводимой дате один день\n",
    "#     cur_date += timedelta(days=1)"
   ]
  },
  {
   "cell_type": "code",
   "execution_count": 98,
   "id": "cc1e53e3",
   "metadata": {},
   "outputs": [
    {
     "data": {
      "text/plain": [
       "40"
      ]
     },
     "execution_count": 98,
     "metadata": {},
     "output_type": "execute_result"
    }
   ],
   "source": [
    "# пусть дан список чисел в строковом формате, и мы хотим посчитать их сумму\n",
    "# предположим, буква \"а\" попала в список случайно\n",
    "numbers: list[str] = [\"5\", \"10\", \"a\", \"15\", \"10\"]\n",
    "\n",
    "# объявим переменную суммы\n",
    "total: int = 0\n",
    "\n",
    "# пройдемся по числам\n",
    "for number in numbers:\n",
    "\n",
    "    # попробуем прибавить число к переменной total\n",
    "    try:\n",
    "        total += int(number)\n",
    "\n",
    "    # если же этого сделать не удастся\n",
    "    except ValueError:\n",
    "        # перейдем к следующему числу\n",
    "        pass\n",
    "\n",
    "# выведем сумму\n",
    "total"
   ]
  },
  {
   "cell_type": "code",
   "execution_count": 99,
   "id": "df3725de",
   "metadata": {},
   "outputs": [],
   "source": [
    "# temp_1 = pd.read_csv('temperature.csv')\n",
    "# print(temp_1)"
   ]
  },
  {
   "cell_type": "code",
   "execution_count": 100,
   "id": "414e4688",
   "metadata": {},
   "outputs": [],
   "source": [
    "# # создадим список с известными нам шаблонами\n",
    "# formats: list[str] = ['%Y-%m-%d', '%Y-%m-%-d', '%Y-%m']\n",
    "#\n",
    "# # создадим счетчик для записей, которые не обработались\n",
    "# counter_9 = 0\n",
    "#\n",
    "# # пройдемся в цикле по столбцу Date\n",
    "# for d in temp.Date:\n",
    "#\n",
    "#   # затем пройдемся по известным нам форматам\n",
    "#   for format in formats:\n",
    "#\n",
    "#     # попробуем, применив каждый из форматов,\n",
    "#     # преобразовать строку с датой в объект datetime\n",
    "#     try:\n",
    "#       print(datetime.strptime(d, format))\n",
    "#       counter_9 += 1\n",
    "#\n",
    "#     # если что-то пошло не так\n",
    "#     except:\n",
    "#       # перейдем к следующему формату (второй цикл for) или записи (первый цикл # for)\n",
    "#       pass\n",
    "#\n",
    "# # посмотрим, сколько записей не обработалось\n",
    "# print('Не обработалось записей:', len(temp) - counter_9)"
   ]
  },
  {
   "cell_type": "code",
   "execution_count": 101,
   "id": "302dfd14",
   "metadata": {},
   "outputs": [],
   "source": [
    "# temp_parsed = pd.read_csv('temperature.csv',\n",
    "# index_col = 'Date', parse_dates = True)\n",
    "# temp_parsed"
   ]
  },
  {
   "cell_type": "code",
   "execution_count": 102,
   "id": "a8afb66a",
   "metadata": {},
   "outputs": [],
   "source": [
    "# индекс превратился в объект datetime\n",
    "# type(temp_parsed.index)"
   ]
  }
 ],
 "metadata": {
  "kernelspec": {
   "display_name": "base",
   "language": "python",
   "name": "python3"
  },
  "language_info": {
   "codemirror_mode": {
    "name": "ipython",
    "version": 3
   },
   "file_extension": ".py",
   "mimetype": "text/x-python",
   "name": "python",
   "nbconvert_exporter": "python",
   "pygments_lexer": "ipython3",
   "version": "3.13.5"
  }
 },
 "nbformat": 4,
 "nbformat_minor": 5
}
