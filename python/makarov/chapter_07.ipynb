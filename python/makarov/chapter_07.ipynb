{
 "cells": [
  {
   "cell_type": "code",
   "execution_count": 1,
   "id": "89f178f9",
   "metadata": {},
   "outputs": [
    {
     "data": {
      "text/plain": [
       "'ООП. Классы и объекты.'"
      ]
     },
     "execution_count": 1,
     "metadata": {},
     "output_type": "execute_result"
    }
   ],
   "source": [
    "\"\"\"ООП. Классы и объекты.\"\"\""
   ]
  },
  {
   "cell_type": "code",
   "execution_count": 2,
   "id": "f27e3350",
   "metadata": {},
   "outputs": [],
   "source": [
    "# # создадим класс CatClass\n",
    "# class CatClass:\n",
    "\n",
    "#   # и пропишем метод .__init__()\n",
    "#   def __init__(self):\n",
    "#     pass"
   ]
  },
  {
   "cell_type": "code",
   "execution_count": 3,
   "id": "8dd79fe7",
   "metadata": {},
   "outputs": [],
   "source": [
    "# # создадим объект Matroskin класса CatClass()\n",
    "# Matroskin: class = CatClass()\n",
    "\n",
    "# # проверим тип данных созданной переменной\n",
    "# type(Matroskin)"
   ]
  },
  {
   "cell_type": "code",
   "execution_count": 4,
   "id": "c5eddf71",
   "metadata": {},
   "outputs": [],
   "source": [
    "# # вновь создадим класс CatClass\n",
    "# class CatClass:\n",
    "\n",
    "#   # метод .__init__() на этот раз принимает еще и параметр color\n",
    "#   def __init__(self, color):\n",
    "\n",
    "#     # этот параметр будет записан в переменную атрибута с таким же названием\n",
    "#     self.color = color\n",
    "\n",
    "#     # значение атрибута type_ задается внутри класса\n",
    "#     self.type_ = 'cat'"
   ]
  },
  {
   "cell_type": "code",
   "execution_count": 5,
   "id": "c4fc77a9",
   "metadata": {},
   "outputs": [],
   "source": [
    "# # повторно создадим объект класса CatClass, передав ему параметр цвета шерсти\n",
    "# Matroskin = CatClass('gray')\n",
    "\n",
    "# # и выведем атрибуты класса\n",
    "# Matroskin.color, Matroskin.type_"
   ]
  },
  {
   "cell_type": "code",
   "execution_count": 6,
   "id": "40da2510",
   "metadata": {},
   "outputs": [],
   "source": [
    "# # изменим атрибут type_ объекта Matroskin на dog\n",
    "# Matroskin.type_ = 'dog'\n",
    "\n",
    "# # выведем этот атрибут\n",
    "# Matroskin.type_"
   ]
  },
  {
   "cell_type": "code",
   "execution_count": 7,
   "id": "b4ad9b20",
   "metadata": {},
   "outputs": [],
   "source": [
    "# class CatClass:\n",
    "\n",
    "#   def __init__(self, color):\n",
    "#     self.color = color\n",
    "#     # символ подчеркивания ПЕРЕД названием атрибута указывает,\n",
    "#     # что это частный атрибут и изменять его не стоит\n",
    "#     self._type_ = 'cat'"
   ]
  },
  {
   "cell_type": "code",
   "execution_count": 8,
   "id": "e4a51a37",
   "metadata": {},
   "outputs": [],
   "source": [
    "# # вновь создадим объект класса CatClass\n",
    "# Matroskin = CatClass('gray')\n",
    "\n",
    "# # и изменим значение атрибута _type_\n",
    "# Matroskin._type_ = 'dog'\n",
    "# Matroskin._type_"
   ]
  },
  {
   "cell_type": "code",
   "execution_count": 9,
   "id": "ebcdb131",
   "metadata": {},
   "outputs": [],
   "source": [
    "# class CatClass:\n",
    "\n",
    "#   def __init__(self, color):\n",
    "#     self.color = color\n",
    "#     # символ двойного подчеркивания предотвратит доступ извне\n",
    "#     self.__type_ = 'cat'"
   ]
  },
  {
   "cell_type": "code",
   "execution_count": 10,
   "id": "8ce2eea2",
   "metadata": {},
   "outputs": [],
   "source": [
    "# Matroskin = CatClass('gray')\n",
    "\n",
    "# # теперь при вызове этого атрибута Питон выдаст ошибку\n",
    "# Matroskin.__type_"
   ]
  },
  {
   "cell_type": "code",
   "execution_count": 11,
   "id": "777bfeaf",
   "metadata": {},
   "outputs": [],
   "source": [
    "# # поставим _CatClass перед __type_,\n",
    "# # изменим значение атрибута и\n",
    "# Matroskin._CatClass__type_ = 'dog'\n",
    "\n",
    "# # выведем его\n",
    "# Matroskin._CatClass__type_"
   ]
  },
  {
   "cell_type": "code",
   "execution_count": 12,
   "id": "16f2e3bc",
   "metadata": {},
   "outputs": [],
   "source": [
    "# # создадим класс Animal\n",
    "# class Animal:\n",
    "\n",
    "#   # пропишем метод .__init__() с двумя параметрами: вес (кг) и длина (см)\n",
    "#   def __init__(self, weight, length):\n",
    "\n",
    "#     # поместим аргументы этих параметров в соответствующие переменные\n",
    "#     self.weight = weight\n",
    "#     self.length = length\n",
    "\n",
    "#   # объявим методы .eat()\n",
    "#   def eat(self):\n",
    "#     print('Eating')\n",
    "\n",
    "#   # и .sleep()\n",
    "#   def sleep(self):\n",
    "#     print('Sleeping')"
   ]
  },
  {
   "cell_type": "code",
   "execution_count": 13,
   "id": "97999e55",
   "metadata": {},
   "outputs": [],
   "source": [
    "# # создадим класс Bird\n",
    "# # родительский класс Animal пропишем в скобках\n",
    "# class Bird(Animal):\n",
    "\n",
    "#   # внутри класса Bird объявим новый метод .move()\n",
    "#   def move(self):\n",
    "\n",
    "#     # для птиц .move() будет означать \"летать\"\n",
    "#     print('Flying')"
   ]
  },
  {
   "cell_type": "code",
   "execution_count": 14,
   "id": "0175fa63",
   "metadata": {},
   "outputs": [],
   "source": [
    "# # создадим объект pigeon и передадим ему значения веса и длины\n",
    "# pigeon = Bird(0.3, 30)"
   ]
  },
  {
   "cell_type": "code",
   "execution_count": 15,
   "id": "c7f9a10d",
   "metadata": {},
   "outputs": [],
   "source": [
    "# # посмотрим на унаследованные у класса Animal атрибуты\n",
    "# pigeon.weight, pigeon.length"
   ]
  },
  {
   "cell_type": "code",
   "execution_count": 16,
   "id": "86c77b10",
   "metadata": {},
   "outputs": [],
   "source": [
    "# # снова создадим класс Bird\n",
    "# class Bird(Animal):\n",
    "\n",
    "#   # в метод .__init__() добавим параметр скорости полета (км/ч)\n",
    "#   def __init__(self, weight, length, flying_speed):\n",
    "\n",
    "#     # с помощью функции super() вызовем метод .__init__() родительского класса Animal\n",
    "#     super().__init__(weight, length)\n",
    "#     self.flying_speed = flying_speed\n",
    "\n",
    "#   # вновь пропишем метод .move()\n",
    "#   def move(self):\n",
    "#     print('Flying')"
   ]
  },
  {
   "cell_type": "code",
   "execution_count": 17,
   "id": "aac49d64",
   "metadata": {},
   "outputs": [],
   "source": [
    "# # вновь создадим объект pigeon класса Bird, но уже с тремя параметрами\n",
    "# pigeon = Bird(0.3, 30, 100)"
   ]
  },
  {
   "cell_type": "code",
   "execution_count": 18,
   "id": "70417c31",
   "metadata": {},
   "outputs": [],
   "source": [
    "# # вызовем как унаследованные, так и собственные атрибуты класса Bird\n",
    "# pigeon.weight, pigeon.length, pigeon.flying_speed"
   ]
  },
  {
   "cell_type": "code",
   "execution_count": 19,
   "id": "616f083f",
   "metadata": {},
   "outputs": [],
   "source": [
    "# # вызовем унаследованный метод .sleep()\n",
    "# pigeon.sleep()"
   ]
  },
  {
   "cell_type": "code",
   "execution_count": 20,
   "id": "5cd0652c",
   "metadata": {},
   "outputs": [],
   "source": [
    "# # и собственный метод .move()\n",
    "# pigeon.move()"
   ]
  },
  {
   "cell_type": "code",
   "execution_count": 21,
   "id": "20cc8c2b",
   "metadata": {},
   "outputs": [],
   "source": [
    "# # создадим подкласс Flightless класса Bird\n",
    "# class Flightless(Bird):\n",
    "\n",
    "#   # метод .__init__() этого подкласса \"стирает\" .__init__() родительского класса\n",
    "#   def __init__(self, running_speed):\n",
    "\n",
    "#     # таким образом, у нас остается только один атрибут\n",
    "#     self.running_speed = running_speed\n",
    "\n",
    "#   # кроме того, результатом метода .move() будет 'Running'\n",
    "#   def move(self):\n",
    "#     print('Running')"
   ]
  },
  {
   "cell_type": "code",
   "execution_count": 22,
   "id": "078cf787",
   "metadata": {},
   "outputs": [],
   "source": [
    "# ostrich = Flightless(60)"
   ]
  },
  {
   "cell_type": "code",
   "execution_count": 23,
   "id": "5e269c79",
   "metadata": {},
   "outputs": [],
   "source": [
    "# # страусы бегают довольно быстро\n",
    "# ostrich.running_speed"
   ]
  },
  {
   "cell_type": "code",
   "execution_count": 24,
   "id": "ae9d0caf",
   "metadata": {},
   "outputs": [],
   "source": [
    "# ostrich.move()"
   ]
  },
  {
   "cell_type": "code",
   "execution_count": 25,
   "id": "a66f8374",
   "metadata": {},
   "outputs": [],
   "source": [
    "# # применим метод .eat() класса Animal\n",
    "# ostrich.eat()"
   ]
  },
  {
   "cell_type": "code",
   "execution_count": 26,
   "id": "07f8aa7e",
   "metadata": {},
   "outputs": [],
   "source": [
    "# # создадим родительский класс Fish\n",
    "# class Fish:\n",
    "\n",
    "#   # и метод .swim()\n",
    "#   def swim(self):\n",
    "#     print('Swimming')"
   ]
  },
  {
   "cell_type": "code",
   "execution_count": 27,
   "id": "4a05b63c",
   "metadata": {},
   "outputs": [],
   "source": [
    "# # и еще один родительский класс Bird\n",
    "# class Bird:\n",
    "\n",
    "#   # и метод .fly()\n",
    "#   def fly(self):\n",
    "#     print('Flying')"
   ]
  },
  {
   "cell_type": "code",
   "execution_count": 28,
   "id": "26a8fb91",
   "metadata": {},
   "outputs": [],
   "source": [
    "# # родительские классы мы перечисляем в скобках через зяпятую\n",
    "# class SwimmingBird(Bird, Fish):\n",
    "#   pass"
   ]
  },
  {
   "cell_type": "code",
   "execution_count": 29,
   "id": "9d8a8d5f",
   "metadata": {},
   "outputs": [],
   "source": [
    "# duck = SwimmingBird()"
   ]
  },
  {
   "cell_type": "code",
   "execution_count": 30,
   "id": "fe7f3798",
   "metadata": {},
   "outputs": [],
   "source": [
    "# # для чисел '+' является оператором сложения\n",
    "# 2 + 2"
   ]
  },
  {
   "cell_type": "code",
   "execution_count": 31,
   "id": "3f562b13",
   "metadata": {},
   "outputs": [],
   "source": [
    "# # для строк - оператором объединения\n",
    "# 'классы' + ' и ' + 'объекты'"
   ]
  },
  {
   "cell_type": "code",
   "execution_count": 32,
   "id": "6dc83e53",
   "metadata": {},
   "outputs": [],
   "source": [
    "# len('Программирование на Питоне')\n",
    "# 26\n",
    "# len(['Программирование', 'на', 'Питоне'])\n",
    "# 3\n",
    "# len({0 : 'Программирование', 1 : 'на', 2 : 'Питоне'})\n",
    "# 3\n",
    "# import numpy as np\n",
    "# len(np.array([1, 2, 3]))"
   ]
  },
  {
   "cell_type": "code",
   "execution_count": 33,
   "id": "306ef6e4",
   "metadata": {},
   "outputs": [],
   "source": [
    "# # создадим класс котов\n",
    "# class CatClass:\n",
    "\n",
    "#   # определим атрибуты клички, типа и цвета шерсти\n",
    "#   def __init__(self, name, color):\n",
    "#     self.name = name\n",
    "#     self._type_ = 'кот'\n",
    "#     self.color = color\n",
    "\n",
    "#   # создадим метод .info() для вывода этих атрибутов\n",
    "#   def info(self):\n",
    "#     print(f'Меня зовут {self.name}, я {self._type_}, цвет моей шерсти {self.color}')\n",
    "\n",
    "#   # и метод .sound(), показывающий, что коты умеют мяукать\n",
    "#   def sound(self):\n",
    "#     print('Я умею мяукать')"
   ]
  },
  {
   "cell_type": "code",
   "execution_count": 34,
   "id": "78859dd7",
   "metadata": {},
   "outputs": [],
   "source": [
    "# # создадим класс собак\n",
    "# class DogClass:\n",
    "\n",
    "#   # с такими же атрибутами\n",
    "#   def __init__(self, name, color):\n",
    "#     self.name = name\n",
    "#     self._type_ = 'пес'\n",
    "#     self.color = color\n",
    "\n",
    "#   # и методами\n",
    "#   def info(self):\n",
    "#     print(f'Меня зовут {self.name}, я {self._type_}, цвет моей шерсти {self.color}')\n",
    "\n",
    "#   # хотя, обратите внимание, действия внутри методов отличаются\n",
    "#   def sound(self):\n",
    "#     print('Я умею лаять')"
   ]
  },
  {
   "cell_type": "code",
   "execution_count": 35,
   "id": "53e59be4",
   "metadata": {},
   "outputs": [],
   "source": [
    "# cat = CatClass('Бегемот', 'черный')\n",
    "# dog = DogClass('Барбос', 'серый')"
   ]
  },
  {
   "cell_type": "code",
   "execution_count": 36,
   "id": "053029ca",
   "metadata": {},
   "outputs": [],
   "source": [
    "# for animal in (cat, dog):\n",
    "#   animal.info()\n",
    "#   animal.sound()\n",
    "#   print()"
   ]
  },
  {
   "cell_type": "code",
   "execution_count": 37,
   "id": "50986668",
   "metadata": {},
   "outputs": [],
   "source": [
    "# patients = [{'name': 'Николай', 'height': 178},\n",
    "#             {'name': 'Иван', 'height': 182},\n",
    "#             {'name': 'Алексей', 'height': 190}]"
   ]
  },
  {
   "cell_type": "code",
   "execution_count": 38,
   "id": "d58172a4",
   "metadata": {},
   "outputs": [],
   "source": [
    "# # создадим переменные для общего роста и количества пациентов\n",
    "# total, count = 0, 0\n",
    "\n",
    "# # в цикле for пройдемся по пациентам (отдельным словарям)\n",
    "# for patient in patients:\n",
    "#   # достанем значение роста и прибавим к текущему значению переменной total\n",
    "#   total += patient['height']\n",
    "#   # на каждой итерации будем увеличивать счетчик пациентов на один\n",
    "#   count += 1\n",
    "\n",
    "# # разделим общий рост на количество пациентов,\n",
    "# # чтобы получить среднее значение\n",
    "# total / count"
   ]
  },
  {
   "cell_type": "code",
   "execution_count": 39,
   "id": "1ead8cc6",
   "metadata": {},
   "outputs": [],
   "source": [
    "# # создадим класс для работы с данными DataClass\n",
    "# class DataClass:\n",
    "\n",
    "#   # при создании объекта будем передавать ему данные для анализа\n",
    "#   def __init__(self, data):\n",
    "#     self.data = data\n",
    "\n",
    "#   # кроме того, создадим метод для расчета среднего значения\n",
    "#   def count_average(self, metric):\n",
    "\n",
    "#     # параметр metric определит, по какому столбцу считать среднее\n",
    "#     self.metric = metric\n",
    "\n",
    "#     # объявим два частных атрибута\n",
    "#     self.__total = 0\n",
    "#     self.__count = 0\n",
    "\n",
    "#     # в цикле for пройдемся по списку словарей\n",
    "#     for item in self.data:\n",
    "\n",
    "#       # рассчитем общую сумму по указанному в metric\n",
    "#       # значению каждого словаря\n",
    "#       self.__total += item[self.metric]\n",
    "\n",
    "#       # и количество таких записей\n",
    "#       self.__count += 1\n",
    "\n",
    "#     # разделим общую сумму показателя на количество записей\n",
    "#     return self.__total / self.__count"
   ]
  },
  {
   "cell_type": "code",
   "execution_count": 40,
   "id": "9efde1fb",
   "metadata": {},
   "outputs": [],
   "source": [
    "# # создадим объект класса DataClass и передадим ему данные о пациентах\n",
    "# data_object = DataClass(patients)\n",
    "\n",
    "# # вызовем метод .count_average() с метрикой 'height'\n",
    "# data_object.count_average('height')"
   ]
  },
  {
   "cell_type": "code",
   "execution_count": 41,
   "id": "a4636b44",
   "metadata": {},
   "outputs": [],
   "source": [
    "# # lambda-функция достанет значение по ключу height\n",
    "# # функция map() применит lambda-функцию к каждому вложенному в patients словарю\n",
    "# # функция list() преобразует результат в список\n",
    "# heights = list(map(lambda x: x['height'], patients))\n",
    "# heights"
   ]
  },
  {
   "cell_type": "code",
   "execution_count": 42,
   "id": "85276fab",
   "metadata": {},
   "outputs": [],
   "source": [
    "# # возьмем два двумерных массива\n",
    "# a = np.array([[0, 1, 2],\n",
    "#               [3, 4, 5]])\n",
    "\n",
    "# b = np.array([[5, 4],\n",
    "#               [3, 2],\n",
    "#               [1, 0]])"
   ]
  },
  {
   "cell_type": "code",
   "execution_count": 43,
   "id": "bad9912e",
   "metadata": {},
   "outputs": [],
   "source": [
    "# # перемножим a и b по индексу j через функцию np.einsum()\n",
    "# np.einsum('ij, jk -> ik', a, b)"
   ]
  },
  {
   "cell_type": "code",
   "execution_count": 44,
   "id": "1b64f694",
   "metadata": {},
   "outputs": [],
   "source": [
    "# sum(select(filter(babynames, sex == \"M\", name == \"Taylor\"), n))"
   ]
  },
  {
   "cell_type": "code",
   "execution_count": 45,
   "id": "c28275b6",
   "metadata": {},
   "outputs": [],
   "source": [
    "# # в таком виде последовательность становится еще более наглядной\n",
    "# babynames %>% filter(sex == \"M\", name == \"Taylor\") %>%\n",
    "#               select(n) %>%\n",
    "#               sum"
   ]
  }
 ],
 "metadata": {
  "kernelspec": {
   "display_name": "base",
   "language": "python",
   "name": "python3"
  },
  "language_info": {
   "codemirror_mode": {
    "name": "ipython",
    "version": 3
   },
   "file_extension": ".py",
   "mimetype": "text/x-python",
   "name": "python",
   "nbconvert_exporter": "python",
   "pygments_lexer": "ipython3",
   "version": "3.13.5"
  }
 },
 "nbformat": 4,
 "nbformat_minor": 5
}
