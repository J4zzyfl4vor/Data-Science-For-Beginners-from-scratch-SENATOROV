{
 "cells": [
  {
   "cell_type": "code",
   "execution_count": 1,
   "id": "abd12d97",
   "metadata": {},
   "outputs": [
    {
     "data": {
      "text/plain": [
       "'Функции в Питоне.'"
      ]
     },
     "execution_count": 1,
     "metadata": {},
     "output_type": "execute_result"
    }
   ],
   "source": [
    "\"\"\"Функции в Питоне.\"\"\""
   ]
  },
  {
   "cell_type": "code",
   "execution_count": null,
   "id": "e236f3a0",
   "metadata": {},
   "outputs": [],
   "source": [
    "# # import matplotlib.pyplot as plt\n",
    "# import numpy as np"
   ]
  },
  {
   "cell_type": "code",
   "execution_count": 3,
   "id": "3046a8fa",
   "metadata": {},
   "outputs": [],
   "source": [
    "# данные в этой функции обозначаются через x\n",
    "# plt.hist(bins = 10, x = height)\n",
    "# plt.show()"
   ]
  },
  {
   "cell_type": "code",
   "execution_count": 4,
   "id": "bdbba81c",
   "metadata": {},
   "outputs": [],
   "source": [
    "# у параметра bins есть аргумент по умолчанию (как раз 10 интервалов)\n",
    "# а значит, этот параметр можно не указывать\n",
    "# plt.hist(height)\n",
    "# plt.show()"
   ]
  },
  {
   "cell_type": "code",
   "execution_count": null,
   "id": "72d9e18a",
   "metadata": {},
   "outputs": [
    {
     "name": "stdout",
     "output_type": "stream",
     "text": [
      "Первая строка\n",
      "\n",
      "Третья строка\n"
     ]
    }
   ],
   "source": [
    "# print(\"Первая строка\")\n",
    "# print()\n",
    "# print(\"Третья строка\")"
   ]
  },
  {
   "cell_type": "code",
   "execution_count": null,
   "id": "6269cb11",
   "metadata": {},
   "outputs": [
    {
     "name": "stdout",
     "output_type": "stream",
     "text": [
      "machine learning\n"
     ]
    }
   ],
   "source": [
    "# # создаем строковый объект и\n",
    "# some_string: str = \"machine learning\"\n",
    "\n",
    "# # применяем к нему метод .title()\n",
    "# some_string.title()\n",
    "# print(some_string)"
   ]
  },
  {
   "cell_type": "code",
   "execution_count": null,
   "id": "2b04c857",
   "metadata": {},
   "outputs": [
    {
     "name": "stdout",
     "output_type": "stream",
     "text": [
      "['machine', 'learning']\n"
     ]
    }
   ],
   "source": [
    "# some_list: list[str] = [\"machine\", \"learning\"]\n",
    "# # some_list.title()\n",
    "# print(some_list)"
   ]
  },
  {
   "cell_type": "code",
   "execution_count": null,
   "id": "dd3135f3",
   "metadata": {},
   "outputs": [
    {
     "name": "stdout",
     "output_type": "stream",
     "text": [
      "4\n"
     ]
    }
   ],
   "source": [
    "# # создадим функцию, которая удваивает\n",
    "# # любое передаваемое ей значение\n",
    "# def double(x_1: int) -> int:\n",
    "#     \"\"\"Удваиваем значение\"\"\"\n",
    "#     res_1 = x_1 * 2\n",
    "#     return res_1\n",
    "\n",
    "\n",
    "# print(double(2))"
   ]
  },
  {
   "cell_type": "code",
   "execution_count": 13,
   "id": "b69dbdfb",
   "metadata": {},
   "outputs": [],
   "source": [
    "# тело функции не может быть пустым\n",
    "# def only_return():\n",
    "#\n",
    "#\n",
    "# нужно либо указать ключевое слово return\n",
    "#  return"
   ]
  },
  {
   "cell_type": "code",
   "execution_count": 14,
   "id": "146a59b6",
   "metadata": {},
   "outputs": [],
   "source": [
    "# only_return()"
   ]
  },
  {
   "cell_type": "code",
   "execution_count": null,
   "id": "69f27f55",
   "metadata": {},
   "outputs": [],
   "source": [
    "# # либо оператор pass\n",
    "# def only_pass() -> None:\n",
    "#     \"\"\"pass.\"\"\"\n",
    "#     pass"
   ]
  },
  {
   "cell_type": "code",
   "execution_count": 17,
   "id": "84751de4",
   "metadata": {},
   "outputs": [],
   "source": [
    "# print(only_return())"
   ]
  },
  {
   "cell_type": "code",
   "execution_count": null,
   "id": "5e344aec",
   "metadata": {},
   "outputs": [],
   "source": [
    "# # объявим функцию с параметрами x и y,\n",
    "# def calc_sum(x_2: int, y_2: int) -> int:\n",
    "#     \"\"\"возвращает сумму.\"\"\"\n",
    "#     return x_2 + y_2"
   ]
  },
  {
   "cell_type": "code",
   "execution_count": null,
   "id": "7966b96b",
   "metadata": {},
   "outputs": [
    {
     "name": "stdout",
     "output_type": "stream",
     "text": [
      "3\n"
     ]
    }
   ],
   "source": [
    "# print(calc_sum(1, y_2=2))"
   ]
  },
  {
   "cell_type": "code",
   "execution_count": null,
   "id": "f09150a4",
   "metadata": {},
   "outputs": [
    {
     "name": "stdout",
     "output_type": "stream",
     "text": [
      "3\n"
     ]
    }
   ],
   "source": [
    "# def calc_sum_default(x_3: int = 1, y_3: int = 2) -> int:\n",
    "#     \"\"\"Сумма двух.\"\"\"\n",
    "#     return x_3 + y_3\n",
    "\n",
    "\n",
    "# print(calc_sum_default())"
   ]
  },
  {
   "cell_type": "code",
   "execution_count": null,
   "id": "592c8ca0",
   "metadata": {},
   "outputs": [
    {
     "name": "stdout",
     "output_type": "stream",
     "text": [
      "Some string\n"
     ]
    }
   ],
   "source": [
    "# # эта функция просто выводит текст 'Some string'\n",
    "# def print_string() -> None:\n",
    "#     \"\"\"эта функция просто выводит текст 'Some string'.\"\"\"\n",
    "#     print(\"Some string\")\n",
    "\n",
    "\n",
    "# print_string()"
   ]
  },
  {
   "cell_type": "code",
   "execution_count": null,
   "id": "3227ecfe",
   "metadata": {},
   "outputs": [],
   "source": [
    "# # укажем, что на входе функция принимает тип float, а возвращает int\n",
    "# # значение 3,5 - это значение параметра x по умолчанию\n",
    "# def f_4(x_4: float = 3.5) -> int:\n",
    "#     \"\"\"Возвращаем целое число.\"\"\"\n",
    "#     return int(x_4)"
   ]
  },
  {
   "cell_type": "code",
   "execution_count": null,
   "id": "2be01bbd",
   "metadata": {},
   "outputs": [
    {
     "data": {
      "text/plain": [
       "{'x_4': float, 'return': int}"
      ]
     },
     "execution_count": 31,
     "metadata": {},
     "output_type": "execute_result"
    }
   ],
   "source": [
    "# # желаемый тип данных можно посмотреть через атрибут __annotations__\n",
    "# f_4.__annotations__"
   ]
  },
  {
   "cell_type": "code",
   "execution_count": 32,
   "id": "d876a541",
   "metadata": {},
   "outputs": [],
   "source": [
    "# сохраним аннотации, но изменим суть функции\n",
    "# def f_5(x_5: float) -> int:\n",
    "#    \"\"\"теперь вместо int она будет возвращать float.\"\"\"\n",
    "#    return float(x)"
   ]
  },
  {
   "cell_type": "code",
   "execution_count": null,
   "id": "65d03f59",
   "metadata": {},
   "outputs": [
    {
     "name": "stdout",
     "output_type": "stream",
     "text": [
      "6\n"
     ]
    }
   ],
   "source": [
    "# # вызовем объявленную выше функцию и умножим ее вывод на два\n",
    "# print(calc_sum(1, 2) * 2)"
   ]
  },
  {
   "cell_type": "code",
   "execution_count": 35,
   "id": "a3422a4b",
   "metadata": {},
   "outputs": [],
   "source": [
    "# def first_letter():\n",
    "#  return 'Python'\n",
    "#\n",
    "# обратимся к первой букве слова Python\n",
    "# first_letter()[0]"
   ]
  },
  {
   "cell_type": "code",
   "execution_count": null,
   "id": "7eefe9c5",
   "metadata": {},
   "outputs": [
    {
     "name": "stdout",
     "output_type": "stream",
     "text": [
      "12321\n"
     ]
    }
   ],
   "source": [
    "# def use_input() -> int:\n",
    "#     \"\"\"запросим у пользователя число и переведем его в тип данных int.\"\"\"\n",
    "#     user_inp = int(input(\"Введите число: \"))\n",
    "\n",
    "#     # возведем число в квадрат\n",
    "#     result_5: int = user_inp**2\n",
    "\n",
    "#     # вернем результат\n",
    "#     return result_5\n",
    "\n",
    "\n",
    "# # вызовем функцию\n",
    "# print(use_input())"
   ]
  },
  {
   "cell_type": "code",
   "execution_count": null,
   "id": "1d424f36",
   "metadata": {},
   "outputs": [
    {
     "name": "stdout",
     "output_type": "stream",
     "text": [
      "[0, 1, 2, 3, 4]\n"
     ]
    }
   ],
   "source": [
    "# # объявим функцию, которая на входе получает число,\n",
    "# # а на выходе формирует список чисел от 0 до числа,\n",
    "# # предшествующего заданному\n",
    "# def create_list(x_6: int) -> list[int]:\n",
    "#     \"\"\"на выходе формирует список чисел от 0 до числа\"\"\"\n",
    "\n",
    "#     # создадим пустой список\n",
    "#     l_6: list[int] = []\n",
    "\n",
    "#     # в цикле for создадим последовательность\n",
    "#     for i_6 in range(x_6):\n",
    "#         # и поместим ее в список\n",
    "#         l_6.append(i_6)\n",
    "\n",
    "#     return l_6\n",
    "\n",
    "\n",
    "# # результатом вызова этой функции будет список\n",
    "# print(create_list(5))"
   ]
  },
  {
   "cell_type": "code",
   "execution_count": null,
   "id": "31949d10",
   "metadata": {},
   "outputs": [
    {
     "name": "stdout",
     "output_type": "stream",
     "text": [
      "('Python', 42)\n"
     ]
    }
   ],
   "source": [
    "# def tuple_f() -> tuple[str, int]:\n",
    "#     \"\"\"Кортеж строка/число.\"\"\"\n",
    "#     string_8: str = \"Python\"\n",
    "#     x_8: int = 42\n",
    "#     return string_8, x_8\n",
    "\n",
    "\n",
    "# print(tuple_f())"
   ]
  },
  {
   "cell_type": "code",
   "execution_count": null,
   "id": "ab9dd29a",
   "metadata": {},
   "outputs": [
    {
     "name": "stdout",
     "output_type": "stream",
     "text": [
      "Python 42\n",
      "<class 'str'> <class 'int'>\n"
     ]
    }
   ],
   "source": [
    "# a_9, b_9 = tuple_f()\n",
    "# print(a_9, b_9)\n",
    "# print(type(a_9), type(b_9))"
   ]
  },
  {
   "cell_type": "code",
   "execution_count": null,
   "id": "ceeff336",
   "metadata": {},
   "outputs": [
    {
     "name": "stdout",
     "output_type": "stream",
     "text": [
      "('Python', 42)\n",
      "<class 'tuple'>\n"
     ]
    }
   ],
   "source": [
    "# c_10 = tuple_f()\n",
    "# print(c_10)\n",
    "# print(type(c_10))"
   ]
  },
  {
   "cell_type": "code",
   "execution_count": null,
   "id": "f3dea94f",
   "metadata": {},
   "outputs": [
    {
     "name": "stdout",
     "output_type": "stream",
     "text": [
      "True\n"
     ]
    }
   ],
   "source": [
    "# # проверим равен ли нулю остаток от деления на два\n",
    "# def if_divisible(x_11: int) -> bool:\n",
    "#     \"\"\"Остаток от деления на 2.\"\"\"\n",
    "#     if x_11 % 2 == 0:\n",
    "#         return True\n",
    "#     return False\n",
    "\n",
    "\n",
    "# # попробуем с числом 10\n",
    "# print(if_divisible(10))"
   ]
  },
  {
   "cell_type": "code",
   "execution_count": null,
   "id": "2e40ca07",
   "metadata": {},
   "outputs": [
    {
     "name": "stdout",
     "output_type": "stream",
     "text": [
      "3.0\n"
     ]
    }
   ],
   "source": [
    "# # на входе функция примет список или массив x,\n",
    "# def mean_f(x_12: list[int] = [1, 2, 3]) -> np.float64:\n",
    "#     \"\"\"СА.\"\"\"\n",
    "\n",
    "#     # рассчитает среднее арифметическое и прибавит единицу\n",
    "#     return np.mean(x_12) + 1\n",
    "\n",
    "\n",
    "# print(mean_f([1, 2, 3]))"
   ]
  },
  {
   "cell_type": "code",
   "execution_count": null,
   "id": "d5150137",
   "metadata": {},
   "outputs": [
    {
     "name": "stdout",
     "output_type": "stream",
     "text": [
      "Петр\n"
     ]
    }
   ],
   "source": [
    "# # создадим глобальную переменную ВНЕ функции\n",
    "# global_name: str = \"Петр\"\n",
    "\n",
    "# # а затем используем ее внутри новой функции\n",
    "\n",
    "\n",
    "# def show_name() -> None:\n",
    "#     \"\"\"Выводим глобальную переменную.\"\"\"\n",
    "#     print(global_name)\n",
    "\n",
    "\n",
    "# show_name()"
   ]
  },
  {
   "cell_type": "code",
   "execution_count": null,
   "id": "5bd0fd91",
   "metadata": {},
   "outputs": [
    {
     "name": "stdout",
     "output_type": "stream",
     "text": [
      "Алена\n"
     ]
    }
   ],
   "source": [
    "# # а теперь вначале создадим функцию,\n",
    "# # внутри которой объявим локальную переменную\n",
    "# def show_local_name() -> None:\n",
    "#     \"\"\"Локальная переменная.\"\"\"\n",
    "#     local_name: str = \"Алена\"\n",
    "#     print(local_name)\n",
    "\n",
    "\n",
    "# show_local_name()"
   ]
  },
  {
   "cell_type": "code",
   "execution_count": 50,
   "id": "bfa99478",
   "metadata": {},
   "outputs": [],
   "source": [
    "# def make_global():\n",
    "#  global local_name\n",
    "#  local_name = 'Алена'\n",
    "#  print(local_name)"
   ]
  },
  {
   "cell_type": "code",
   "execution_count": null,
   "id": "aaea6bf4",
   "metadata": {},
   "outputs": [
    {
     "name": "stdout",
     "output_type": "stream",
     "text": [
      "Local number: 10\n"
     ]
    }
   ],
   "source": [
    "# # объявим глобальную переменную\n",
    "# global_number_10: int = 5\n",
    "\n",
    "\n",
    "# def print_number() -> None:\n",
    "#     \"\"\"Принтуем переменную global_number_10.\"\"\"\n",
    "#     # затем объявим локальную переменную\n",
    "#     local_number: int = 10\n",
    "#     print(\"Local number:\", local_number)\n",
    "\n",
    "\n",
    "# print_number()"
   ]
  },
  {
   "cell_type": "code",
   "execution_count": null,
   "id": "f6162497",
   "metadata": {},
   "outputs": [
    {
     "data": {
      "text/plain": [
       "6"
      ]
     },
     "execution_count": 53,
     "metadata": {},
     "output_type": "execute_result"
    }
   ],
   "source": [
    "# создадим функцию, которая принимает два числа и перемножает их\n",
    "# lf_20 = lambda a, b: a * b\n",
    "\n",
    "# вызовем функцию и передадим ей числа 2 и 3\n",
    "# lf_20(2, 3)"
   ]
  },
  {
   "cell_type": "code",
   "execution_count": null,
   "id": "71b68e78",
   "metadata": {},
   "outputs": [],
   "source": [
    "# nums_21: list[int] = [15, 27, 9, 18, 3, 1, 4]"
   ]
  },
  {
   "cell_type": "code",
   "execution_count": null,
   "id": "7319fa83",
   "metadata": {},
   "outputs": [],
   "source": [
    "# # буквально мы пишем:\n",
    "# # \"для каждого n, выдай True, если число больше 10, иначе - False\"\n",
    "# criterion = lambda n_20: True if (n_20 > 10) else False"
   ]
  },
  {
   "cell_type": "code",
   "execution_count": null,
   "id": "92b71331",
   "metadata": {},
   "outputs": [
    {
     "name": "stdout",
     "output_type": "stream",
     "text": [
      "[15, 27, 18]\n"
     ]
    }
   ],
   "source": [
    "# print(list(filter(criterion, nums_21)))"
   ]
  },
  {
   "cell_type": "code",
   "execution_count": null,
   "id": "83ecb24d",
   "metadata": {},
   "outputs": [
    {
     "name": "stdout",
     "output_type": "stream",
     "text": [
      "[15, 27, 18]\n"
     ]
    }
   ],
   "source": [
    "# print(list(filter(lambda n_21: True if (n_21 > 10) else False, nums_21)))"
   ]
  },
  {
   "cell_type": "code",
   "execution_count": null,
   "id": "daecaa29",
   "metadata": {},
   "outputs": [
    {
     "name": "stdout",
     "output_type": "stream",
     "text": [
      "100\n"
     ]
    }
   ],
   "source": [
    "# # обратите внимание на использование скобок\n",
    "# print((lambda x: x * x)(10))"
   ]
  },
  {
   "cell_type": "code",
   "execution_count": null,
   "id": "cf2eb6e2",
   "metadata": {},
   "outputs": [
    {
     "name": "stdout",
     "output_type": "stream",
     "text": [
      "1.5\n"
     ]
    }
   ],
   "source": [
    "# # объявим функцию\n",
    "# def mean_22(a_22: int, b_22: int) -> float:\n",
    "#     \"\"\"СА 2.\"\"\"\n",
    "\n",
    "#     return (a_22 + b_22) / 2\n",
    "\n",
    "\n",
    "# # и передадим ей числа 1 и 2\n",
    "# print(mean_22(1, 2))"
   ]
  },
  {
   "cell_type": "code",
   "execution_count": 68,
   "id": "766d1849",
   "metadata": {},
   "outputs": [],
   "source": [
    "# объявим функцию, которой нужно передать список\n",
    "# def mean(list_):\n",
    "#\n",
    "#  # зададим переменную для суммы,\n",
    "#  total = 0\n",
    "#\n",
    "#  # в цикле сложим все числа из списка\n",
    "#  for i in list_:\n",
    "#    total += i\n",
    "\n",
    "# и разделим на количество элементов\n",
    "#  return total / len(list_)"
   ]
  },
  {
   "cell_type": "code",
   "execution_count": 69,
   "id": "6b3fafef",
   "metadata": {},
   "outputs": [],
   "source": [
    "# создадим список\n",
    "# list_ = [1, 2, 3, 4]\n",
    "\n",
    "# и передадим его в новую функцию\n",
    "# mean(list_)"
   ]
  },
  {
   "cell_type": "code",
   "execution_count": 70,
   "id": "9eb62e61",
   "metadata": {},
   "outputs": [],
   "source": [
    "# объявим функцию с *args\n",
    "# def mean(*nums):\n",
    "#  total = 0\n",
    "#  for i in nums:\n",
    "#    total += i\n",
    "#  return total / len(nums)"
   ]
  },
  {
   "cell_type": "code",
   "execution_count": 71,
   "id": "1910ad97",
   "metadata": {},
   "outputs": [],
   "source": [
    "# def f(**kwargs):\n",
    "#  return kwargs.items()"
   ]
  },
  {
   "cell_type": "code",
   "execution_count": null,
   "id": "1ac92525",
   "metadata": {},
   "outputs": [],
   "source": []
  }
 ],
 "metadata": {
  "kernelspec": {
   "display_name": "base",
   "language": "python",
   "name": "python3"
  },
  "language_info": {
   "codemirror_mode": {
    "name": "ipython",
    "version": 3
   },
   "file_extension": ".py",
   "mimetype": "text/x-python",
   "name": "python",
   "nbconvert_exporter": "python",
   "pygments_lexer": "ipython3",
   "version": "3.13.5"
  }
 },
 "nbformat": 4,
 "nbformat_minor": 5
}
