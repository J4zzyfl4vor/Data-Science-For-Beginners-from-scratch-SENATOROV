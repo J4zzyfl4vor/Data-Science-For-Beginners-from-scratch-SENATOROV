{
 "cells": [
  {
   "cell_type": "code",
   "execution_count": 1,
   "id": "d90df6e4",
   "metadata": {},
   "outputs": [
    {
     "data": {
      "text/plain": [
       "'Условия и циклы. Продолжение.'"
      ]
     },
     "execution_count": 1,
     "metadata": {},
     "output_type": "execute_result"
    }
   ],
   "source": [
    "\"\"\"Условия и циклы. Продолжение.\"\"\""
   ]
  },
  {
   "cell_type": "code",
   "execution_count": 20,
   "id": "ad191a59",
   "metadata": {},
   "outputs": [
    {
     "name": "stdout",
     "output_type": "stream",
     "text": [
      "Medium\n"
     ]
    }
   ],
   "source": [
    "from typing import Iterable, Union\n",
    "\n",
    "import numpy as np\n",
    "\n",
    "x_1: int = 42  # зададим число\n",
    "\n",
    "# и пропишем условия (не забывайте про двоеточие и отступ)\n",
    "if x_1 < 10:\n",
    "    print(\"Small\")\n",
    "elif x_1 < 100:\n",
    "    print(\"Medium\")\n",
    "else:\n",
    "    print(\"Large\")"
   ]
  },
  {
   "cell_type": "code",
   "execution_count": 4,
   "id": "f1772ae9",
   "metadata": {},
   "outputs": [
    {
     "name": "stdout",
     "output_type": "stream",
     "text": [
      "Medium\n"
     ]
    }
   ],
   "source": [
    "# запросим число у пользователя\n",
    "x_2: str = input(\"Введите число: \")\n",
    "\n",
    "# преобразуем в тип int\n",
    "x_3: int = int(x_2)\n",
    "\n",
    "# и наконец классифицируем\n",
    "if x_3 < 10:\n",
    "    print(\"Small\")\n",
    "elif x_3 < 100:\n",
    "    print(\"Medium\")\n",
    "else:\n",
    "    print(\"Large\")"
   ]
  },
  {
   "cell_type": "code",
   "execution_count": 7,
   "id": "3d4b83a9",
   "metadata": {},
   "outputs": [
    {
     "name": "stdout",
     "output_type": "stream",
     "text": [
      "Medium\n"
     ]
    }
   ],
   "source": [
    "# запрашиваем число\n",
    "y_1: str = input(\"Введите число: \")\n",
    "\n",
    "# проверяем первое условие (не пустая ли строка), если оно выполняется\n",
    "if len(y_1) != 0:\n",
    "\n",
    "    # преобразуем в тип int\n",
    "    y_2: int = int(y_1)\n",
    "\n",
    "    # и классифицируем\n",
    "    if y_2 < 10:\n",
    "        print(\"Small\")\n",
    "    elif y_2 < 100:\n",
    "        print(\"Medium\")\n",
    "    else:\n",
    "        print(\"Large\")\n",
    "\n",
    "# в противном, говорим, что ввод пустой\n",
    "else:\n",
    "    print(\"Ввод пустой\")"
   ]
  },
  {
   "cell_type": "code",
   "execution_count": null,
   "id": "56504a84",
   "metadata": {},
   "outputs": [
    {
     "name": "stdout",
     "output_type": "stream",
     "text": [
      "Medium\n"
     ]
    }
   ],
   "source": [
    "z_1: int = 42\n",
    "\n",
    "# если z больше 10 и одновременно меньше 100\n",
    "if 10 < z_1 < 100:\n",
    "\n",
    "    # у нас среднее число\n",
    "    print(\"Medium\")\n",
    "\n",
    "# в противном случае оно либо маленькое либо большое\n",
    "else:\n",
    "    print(\"Small or Large\")"
   ]
  },
  {
   "cell_type": "code",
   "execution_count": 10,
   "id": "a6b251ab",
   "metadata": {},
   "outputs": [
    {
     "name": "stdout",
     "output_type": "stream",
     "text": [
      "Small or Large\n"
     ]
    }
   ],
   "source": [
    "z_2: int = 2\n",
    "\n",
    "# если z меньше 10 или больше 100\n",
    "if z_2 < 10 or z_2 > 100:\n",
    "\n",
    "    # оно либо маленькое либо большое\n",
    "    print(\"Small or Large\")\n",
    "\n",
    "# в противном случае оно среднее\n",
    "else:\n",
    "    print(\"Medium\")"
   ]
  },
  {
   "cell_type": "code",
   "execution_count": 11,
   "id": "51691f59",
   "metadata": {},
   "outputs": [
    {
     "name": "stdout",
     "output_type": "stream",
     "text": [
      "Слово найдено\n"
     ]
    }
   ],
   "source": [
    "# можно проверить вхождение слова в строку\n",
    "sentence: str = \"To be, or not to be, that is the question\"\n",
    "word: str = \"question\"\n",
    "\n",
    "if word in sentence:\n",
    "    print(\"Слово найдено\")"
   ]
  },
  {
   "cell_type": "code",
   "execution_count": 12,
   "id": "5c2e7377",
   "metadata": {},
   "outputs": [
    {
     "name": "stdout",
     "output_type": "stream",
     "text": [
      "Такого числа в списке нет\n"
     ]
    }
   ],
   "source": [
    "# или отсутствие элемента в списке\n",
    "number_list: list[int] = [2, 3, 4, 6, 7]\n",
    "number: int = 5\n",
    "\n",
    "if number not in number_list:\n",
    "    print(\"Такого числа в списке нет\")"
   ]
  },
  {
   "cell_type": "code",
   "execution_count": 13,
   "id": "9b190301",
   "metadata": {},
   "outputs": [],
   "source": [
    "# возьмем очень простой словарь\n",
    "d_5: dict[str, int] = {\"apple\": 3, \"tomato\": 6, \"carrot\": 2}"
   ]
  },
  {
   "cell_type": "code",
   "execution_count": 14,
   "id": "cc828306",
   "metadata": {},
   "outputs": [
    {
     "name": "stdout",
     "output_type": "stream",
     "text": [
      "Нашлись\n"
     ]
    }
   ],
   "source": [
    "# вначале поищем яблоки среди ключей словаря\n",
    "if \"apple\" in d_5:\n",
    "    print(\"Нашлись\")"
   ]
  },
  {
   "cell_type": "code",
   "execution_count": 15,
   "id": "5ae219cf",
   "metadata": {},
   "outputs": [
    {
     "name": "stdout",
     "output_type": "stream",
     "text": [
      "Есть\n"
     ]
    }
   ],
   "source": [
    "# а затем посмотрим, нет ли числа 6 среди его значений\n",
    "# с помощью метода .values()\n",
    "if 6 in d_5.values():\n",
    "    print(\"Есть\")"
   ]
  },
  {
   "cell_type": "code",
   "execution_count": 16,
   "id": "e97b58b7",
   "metadata": {},
   "outputs": [
    {
     "name": "stdout",
     "output_type": "stream",
     "text": [
      "1\n",
      "2\n",
      "3\n"
     ]
    }
   ],
   "source": [
    "# поочередно выведем элементы списка\n",
    "number_list_6: list[int] = [1, 2, 3]\n",
    "\n",
    "# не забывая про двоеточие и отступ\n",
    "for number in number_list_6:\n",
    "    print(number)"
   ]
  },
  {
   "cell_type": "code",
   "execution_count": 18,
   "id": "78d13e10",
   "metadata": {},
   "outputs": [
    {
     "name": "stdout",
     "output_type": "stream",
     "text": [
      "apple [3, 'kg']\n",
      "tomato [6, 'pcs']\n",
      "carrot [2, 'kg']\n"
     ]
    }
   ],
   "source": [
    "# создадим словарь, значениями которого будут списки из двух элементов\n",
    "d_7: dict[str, list[Union[int, str]]] = {\n",
    "    \"apple\": [3, \"kg\"],\n",
    "    \"tomato\": [6, \"pcs\"],\n",
    "    \"carrot\": [2, \"kg\"],\n",
    "}\n",
    "\n",
    "# затем создадим две переменные-контейнера и применим метод .items()\n",
    "for key_1, value_1 in d_7.items():\n",
    "    print(key_1, value_1)"
   ]
  },
  {
   "cell_type": "code",
   "execution_count": 19,
   "id": "36bc9879",
   "metadata": {},
   "outputs": [
    {
     "name": "stdout",
     "output_type": "stream",
     "text": [
      "3\n",
      "6\n",
      "2\n"
     ]
    },
    {
     "data": {
      "text/plain": [
       "3"
      ]
     },
     "execution_count": 19,
     "metadata": {},
     "output_type": "execute_result"
    }
   ],
   "source": [
    "# возьмем только одну переменную и применим метод .values()\n",
    "for value_2 in d_7.values():\n",
    "    # значение представляет собой список, выведем его первый элемент с индексом [0]\n",
    "    print(value_2[0])\n",
    "3"
   ]
  },
  {
   "cell_type": "code",
   "execution_count": 21,
   "id": "e77d3fe2",
   "metadata": {},
   "outputs": [
    {
     "name": "stdout",
     "output_type": "stream",
     "text": [
      "1\n",
      "2\n",
      "3\n"
     ]
    }
   ],
   "source": [
    "# создадим массив и поместим в переменную number_array\n",
    "number_array: Iterable[int] = np.array([1, 2, 3])\n",
    "\n",
    "# пройдемся по нему с помощью цикла for\n",
    "for number in number_array:\n",
    "    print(number)"
   ]
  },
  {
   "cell_type": "code",
   "execution_count": 22,
   "id": "6bf4f2e6",
   "metadata": {},
   "outputs": [],
   "source": [
    "# предположим, что у нас есть следующая база данных клиентов\n",
    "clients_5: dict[int, dict[str, Union[str, int]]] = {\n",
    "    1: {\"name\": \"Анна\", \"age\": 24, \"sex\": \"male\", \"revenue\": 12000},\n",
    "    2: {\"name\": \"Илья\", \"age\": 18, \"sex\": \"female\", \"revenue\": 8000},\n",
    "}"
   ]
  },
  {
   "cell_type": "code",
   "execution_count": 23,
   "id": "84d5ec1b",
   "metadata": {},
   "outputs": [
    {
     "name": "stdout",
     "output_type": "stream",
     "text": [
      "client ID: 1\n",
      "name: Анна\n",
      "age: 24\n",
      "sex: male\n",
      "revenue: 12000\n",
      "\n",
      "client ID: 2\n",
      "name: Илья\n",
      "age: 18\n",
      "sex: female\n",
      "revenue: 8000\n",
      "\n"
     ]
    }
   ],
   "source": [
    "# в первом цикле for поместим id и информацию о клиентах в переменные id и info\n",
    "for client_id, info in clients_5.items():\n",
    "\n",
    "    # выведем id клиента\n",
    "    print(\"client ID: \" + str(client_id))\n",
    "\n",
    "    # во втором цикле возьмем информацию об этом клиенте (это тоже словарь)\n",
    "    for key_s, value_s in info.items():\n",
    "\n",
    "        # и выведем каждый ключ (название поля) и значение (саму информацию)\n",
    "        print(key_s + \": \" + str(value_s))\n",
    "\n",
    "    # добавим пустую строку после того, как выведем информацию об одном клиенте\n",
    "    print()"
   ]
  },
  {
   "cell_type": "code",
   "execution_count": 24,
   "id": "8c4e0bac",
   "metadata": {},
   "outputs": [
    {
     "name": "stdout",
     "output_type": "stream",
     "text": [
      "0\n",
      "1\n",
      "2\n",
      "3\n",
      "4\n"
     ]
    }
   ],
   "source": [
    "# создадим последовательность от 0 до 4\n",
    "for i in range(5):\n",
    "    print(i)"
   ]
  },
  {
   "cell_type": "code",
   "execution_count": 25,
   "id": "178c907b",
   "metadata": {},
   "outputs": [
    {
     "name": "stdout",
     "output_type": "stream",
     "text": [
      "1\n",
      "2\n",
      "3\n",
      "4\n",
      "5\n"
     ]
    }
   ],
   "source": [
    "# от 1 до 5\n",
    "for i in range(1, 6):\n",
    "    print(i)"
   ]
  },
  {
   "cell_type": "code",
   "execution_count": 26,
   "id": "022e4417",
   "metadata": {},
   "outputs": [
    {
     "name": "stdout",
     "output_type": "stream",
     "text": [
      "0\n",
      "2\n",
      "4\n"
     ]
    }
   ],
   "source": [
    "# и от 0 до 5 с шагом 2 (то есть будем выводить числа через одно)\n",
    "for i in range(0, 6, 2):\n",
    "    print(i)"
   ]
  },
  {
   "cell_type": "code",
   "execution_count": null,
   "id": "9006f1b0",
   "metadata": {},
   "outputs": [
    {
     "name": "stdout",
     "output_type": "stream",
     "text": [
      "Январь 47\n",
      "Февраль 75\n",
      "Март 79\n",
      "Апрель 94\n",
      "Май 123\n",
      "Июнь 209\n",
      "Июль 233\n",
      "Август 214\n",
      "Сентябрь 197\n",
      "Октябрь 130\n",
      "Ноябрь 87\n",
      "Декабрь 55\n"
     ]
    }
   ],
   "source": [
    "# # возьмем месяцы года\n",
    "# months: list[str] = [\n",
    "#     \"Январь\",\n",
    "#     \"Февраль\",\n",
    "#     \"Март\",\n",
    "#     \"Апрель\",\n",
    "#     \"Май\",\n",
    "#     \"Июнь\",\n",
    "#     \"Июль\",\n",
    "#     \"Август\",\n",
    "#     \"Сентябрь\",\n",
    "#     \"Октябрь\",\n",
    "#     \"Ноябрь\",\n",
    "#     \"Декабрь\",\n",
    "# ]\n",
    "#\n",
    "# # и продажи мороженого в тыс. рублей в каждый из месяцев\n",
    "# sales: list[int] = [47, 75, 79, 94, 123, 209, 233, 214, 197, 130, 87, 55]\n",
    "\n",
    "# задав последовательность через range(len()),\n",
    "# for i in range(len(months)):\n",
    "#\n",
    "#     # мы можем вывести каждый из элементов обоих списков в одном цикле\n",
    "#     print(months[i], sales[i])"
   ]
  },
  {
   "cell_type": "code",
   "execution_count": 28,
   "id": "aa196f8e",
   "metadata": {},
   "outputs": [
    {
     "name": "stdout",
     "output_type": "stream",
     "text": [
      "4\n",
      "3\n",
      "2\n",
      "1\n",
      "0\n"
     ]
    }
   ],
   "source": [
    "# создадим список\n",
    "my_list: list[int] = [0, 1, 2, 3, 4]\n",
    "\n",
    "# передадим его функции reversed() и\n",
    "# выведем каждый из элементов списка с помощью цикла for\n",
    "for i in reversed(my_list):\n",
    "    print(i)"
   ]
  },
  {
   "cell_type": "code",
   "execution_count": 29,
   "id": "b8f60f0a",
   "metadata": {},
   "outputs": [
    {
     "name": "stdout",
     "output_type": "stream",
     "text": [
      "4\n",
      "3\n",
      "2\n",
      "1\n",
      "0\n"
     ]
    }
   ],
   "source": [
    "for i in reversed(range(5)):\n",
    "    print(i)"
   ]
  },
  {
   "cell_type": "code",
   "execution_count": 30,
   "id": "b7f65fd7",
   "metadata": {},
   "outputs": [
    {
     "name": "stdout",
     "output_type": "stream",
     "text": [
      "4\n",
      "3\n",
      "2\n",
      "1\n"
     ]
    }
   ],
   "source": [
    "for i in range(4, 0, -1):\n",
    "    print(i)"
   ]
  },
  {
   "cell_type": "code",
   "execution_count": 31,
   "id": "da0d526b",
   "metadata": {},
   "outputs": [
    {
     "name": "stdout",
     "output_type": "stream",
     "text": [
      "4\n",
      "3\n",
      "2\n",
      "1\n",
      "0\n"
     ]
    }
   ],
   "source": [
    "for i in range(4, -1, -1):\n",
    "    print(i)"
   ]
  },
  {
   "cell_type": "code",
   "execution_count": 32,
   "id": "2199a731",
   "metadata": {},
   "outputs": [
    {
     "name": "stdout",
     "output_type": "stream",
     "text": [
      "4\n",
      "3\n",
      "2\n",
      "1\n",
      "0\n"
     ]
    }
   ],
   "source": [
    "# создадим последовательность от 0 до 4\n",
    "r_1: range = range(5)\n",
    "\n",
    "# отсортируем ее по убыванию\n",
    "sorted_values = sorted(r_1, reverse=True)\n",
    "\n",
    "# выведем элементы отсортированной последовательности\n",
    "for i in sorted_values:\n",
    "    print(i)"
   ]
  },
  {
   "cell_type": "code",
   "execution_count": 33,
   "id": "bd98c99c",
   "metadata": {},
   "outputs": [
    {
     "name": "stdout",
     "output_type": "stream",
     "text": [
      "0 Понедельник\n",
      "1 Вторник\n",
      "2 Среда\n",
      "3 Четверг\n",
      "4 Пятница\n",
      "5 Суббота\n",
      "6 Воскресенье\n"
     ]
    }
   ],
   "source": [
    "# пусть дан список с днями недели\n",
    "days_11: list[str] = [\n",
    "    \"Понедельник\",\n",
    "    \"Вторник\",\n",
    "    \"Среда\",\n",
    "    \"Четверг\",\n",
    "    \"Пятница\",\n",
    "    \"Суббота\",\n",
    "    \"Воскресенье\",\n",
    "]\n",
    "\n",
    "# выведем индекс (i) и сами элементы списка (day)\n",
    "for i, day in enumerate(days_11):\n",
    "    print(i, day)"
   ]
  },
  {
   "cell_type": "code",
   "execution_count": 34,
   "id": "7440b91a",
   "metadata": {},
   "outputs": [
    {
     "name": "stdout",
     "output_type": "stream",
     "text": [
      "1 Понедельник\n",
      "2 Вторник\n",
      "3 Среда\n",
      "4 Четверг\n",
      "5 Пятница\n",
      "6 Суббота\n",
      "7 Воскресенье\n"
     ]
    }
   ],
   "source": [
    "# так же выведем индекс и элементы списка, но начнем с 1\n",
    "for i, day in enumerate(days_11, 1):\n",
    "    print(i, day)"
   ]
  },
  {
   "cell_type": "code",
   "execution_count": 35,
   "id": "db2cf761",
   "metadata": {},
   "outputs": [
    {
     "name": "stdout",
     "output_type": "stream",
     "text": [
      "Текущее значение счетчика:  0\n",
      "Новое значение счетчика:    1\n",
      "\n",
      "Текущее значение счетчика:  1\n",
      "Новое значение счетчика:    2\n",
      "\n",
      "Текущее значение счетчика:  2\n",
      "Новое значение счетчика:    3\n",
      "\n"
     ]
    }
   ],
   "source": [
    "# зададим начальное значение счетчика\n",
    "i_12: int = 0\n",
    "\n",
    "# пока счетчик меньше трех\n",
    "while i_12 < 3:\n",
    "\n",
    "    # в каждом цикле будем выводить его текущее значение\n",
    "    print(\"Текущее значение счетчика:  \" + str(i_12))\n",
    "\n",
    "    # внутри цикла не забудем \"нарастить\" счетчик\n",
    "    i_12 += 1\n",
    "\n",
    "    # и выведем новое значение\n",
    "    print(\"Новое значение счетчика:    \" + str(i_12))\n",
    "\n",
    "    # добавим пустую строку\n",
    "    print()"
   ]
  },
  {
   "cell_type": "code",
   "execution_count": 36,
   "id": "ae1a7134",
   "metadata": {},
   "outputs": [
    {
     "name": "stdout",
     "output_type": "stream",
     "text": [
      "0\n",
      "1\n",
      "2\n"
     ]
    }
   ],
   "source": [
    "i_13: int = 0\n",
    "\n",
    "while i_13 < 3:\n",
    "    print(i_13)\n",
    "    i_13 += 1"
   ]
  },
  {
   "cell_type": "code",
   "execution_count": 37,
   "id": "9b904794",
   "metadata": {},
   "outputs": [
    {
     "name": "stdout",
     "output_type": "stream",
     "text": [
      "1 {'name': 'Анна', 'age': 24, 'sex': 'male', 'revenue': 12000}\n"
     ]
    }
   ],
   "source": [
    "# вновь возьмем словарь clients\n",
    "clients_14: dict[int, dict[str, Union[str, int]]] = {\n",
    "    1: {\"name\": \"Анна\", \"age\": 24, \"sex\": \"male\", \"revenue\": 12000},\n",
    "    2: {\"name\": \"Илья\", \"age\": 18, \"sex\": \"female\", \"revenue\": 8000},\n",
    "}\n",
    "\n",
    "# в цикле пройдемся по ключам и значениям словаря\n",
    "for client_id, info in clients_14.items():\n",
    "\n",
    "    # и выведем их\n",
    "    print(client_id, info)\n",
    "\n",
    "    # однако уже после первого исполнения цикла, прервем его\n",
    "    break"
   ]
  },
  {
   "cell_type": "code",
   "execution_count": 38,
   "id": "2a50b342",
   "metadata": {},
   "outputs": [
    {
     "name": "stdout",
     "output_type": "stream",
     "text": [
      "6\n",
      "5\n",
      "4\n"
     ]
    }
   ],
   "source": [
    "# зададим начальное значение счетчика\n",
    "x_15: int = 6\n",
    "\n",
    "# будем исполнять цикл пока x не равен нулю\n",
    "while x_15 != 0:\n",
    "\n",
    "    # выведем текущее значение счетчика\n",
    "    print(x_15)\n",
    "\n",
    "    # и уменьшим (!) его на 1\n",
    "    x_15 -= 1\n",
    "\n",
    "    # если значение счетчика станет равным 3, прервем цикл\n",
    "    if x_15 == 3:\n",
    "        break"
   ]
  },
  {
   "cell_type": "code",
   "execution_count": 42,
   "id": "ac0a0bf2",
   "metadata": {},
   "outputs": [
    {
     "name": "stdout",
     "output_type": "stream",
     "text": [
      "2\n",
      "4\n",
      "6\n",
      "8\n",
      "10\n"
     ]
    }
   ],
   "source": [
    "# с помощью функции range создадим последовательность от 1 до 10\n",
    "for i in range(1, 11):\n",
    "\n",
    "    # если остаток от деления на два не равен нулю (то есть число нечетное)\n",
    "    if i % 2 != 0:\n",
    "\n",
    "        # идем к следующему числу последовательности\n",
    "        continue\n",
    "    # в противном случае выводим число\n",
    "    print(i)"
   ]
  },
  {
   "cell_type": "code",
   "execution_count": 41,
   "id": "643dbe35",
   "metadata": {},
   "outputs": [
    {
     "name": "stdout",
     "output_type": "stream",
     "text": [
      "Понедельник - день тяжелый\n"
     ]
    }
   ],
   "source": [
    "# снова возьмем список с днями недели\n",
    "days_16: list[str] = [\n",
    "    \"Понедельник\",\n",
    "    \"Вторник\",\n",
    "    \"Среда\",\n",
    "    \"Четверг\",\n",
    "    \"Пятница\",\n",
    "    \"Суббота\",\n",
    "    \"Воскресенье\",\n",
    "]\n",
    "\n",
    "# и для простоты поместим слово \"Понедельник\" в переменную Monday\n",
    "Monday = days_16[0]\n",
    "print(f\"{Monday} - день тяжелый\")"
   ]
  }
 ],
 "metadata": {
  "kernelspec": {
   "display_name": "base",
   "language": "python",
   "name": "python3"
  },
  "language_info": {
   "codemirror_mode": {
    "name": "ipython",
    "version": 3
   },
   "file_extension": ".py",
   "mimetype": "text/x-python",
   "name": "python",
   "nbconvert_exporter": "python",
   "pygments_lexer": "ipython3",
   "version": "3.13.5"
  }
 },
 "nbformat": 4,
 "nbformat_minor": 5
}
