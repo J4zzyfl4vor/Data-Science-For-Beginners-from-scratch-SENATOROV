{
 "cells": [
  {
   "cell_type": "code",
   "execution_count": 1,
   "id": "5fe10526",
   "metadata": {},
   "outputs": [
    {
     "data": {
      "text/plain": [
       "'Переменные в Питоне.'"
      ]
     },
     "execution_count": 1,
     "metadata": {},
     "output_type": "execute_result"
    }
   ],
   "source": [
    "\"\"\"Переменные в Питоне.\"\"\""
   ]
  },
  {
   "cell_type": "code",
   "execution_count": 5,
   "id": "46e69c50",
   "metadata": {},
   "outputs": [
    {
     "name": "stdout",
     "output_type": "stream",
     "text": [
      "15\n"
     ]
    }
   ],
   "source": [
    "# можно создать переменную, присвоив ей числовое значение\n",
    "number_1: int = 15\n",
    "print(number_1)"
   ]
  },
  {
   "cell_type": "code",
   "execution_count": 4,
   "id": "9ff317a0",
   "metadata": {},
   "outputs": [
    {
     "name": "stdout",
     "output_type": "stream",
     "text": [
      "Я программирую на Питоне\n"
     ]
    }
   ],
   "source": [
    "# кроме того, переменной можно задать строковое (текстовое) значение\n",
    "string_1: str = \"Я программирую на Питоне\"\n",
    "print(string_1)"
   ]
  },
  {
   "cell_type": "code",
   "execution_count": 6,
   "id": "1d05e62d",
   "metadata": {},
   "outputs": [
    {
     "name": "stdout",
     "output_type": "stream",
     "text": [
      "Питон C++ PHP\n"
     ]
    }
   ],
   "source": [
    "# присваиваем разные значения сразу нескольким переменным\n",
    "a_3: str\n",
    "b_3: str\n",
    "c_3: str\n",
    "a_3, b_3, c_3 = \"Питон\", \"C++\", \"PHP\"\n",
    "print(a_3, b_3, c_3)"
   ]
  },
  {
   "cell_type": "code",
   "execution_count": 8,
   "id": "133e4921",
   "metadata": {},
   "outputs": [
    {
     "name": "stdout",
     "output_type": "stream",
     "text": [
      "То же самое значение То же самое значение То же самое значение\n"
     ]
    }
   ],
   "source": [
    "# задаем одно и то же значение нескольким переменным\n",
    "x_4: str\n",
    "y_4: str\n",
    "z_4: str\n",
    "x_4 = y_4 = z_4 = \"То же самое значение\"\n",
    "print(x_4, y_4, z_4)"
   ]
  },
  {
   "cell_type": "code",
   "execution_count": 9,
   "id": "8a46ba87",
   "metadata": {},
   "outputs": [
    {
     "name": "stdout",
     "output_type": "stream",
     "text": [
      "помидоры огурцы картофель\n"
     ]
    }
   ],
   "source": [
    "my_list_5: list[str] = [\"помидоры\", \"огурцы\", \"картофель\"]\n",
    "a_5: str\n",
    "b_5: str\n",
    "c_5: str\n",
    "a_5, b_5, c_5 = my_list_5\n",
    "print(a_5, b_5, c_5)"
   ]
  },
  {
   "cell_type": "code",
   "execution_count": 11,
   "id": "5ad82290",
   "metadata": {},
   "outputs": [],
   "source": [
    "x_6: float = (\n",
    "    256  # в этом случае переменной x присваивается тип int (целочисленное значение)\n",
    ")\n",
    "y_6: float = 0.25  # y становится float (десятичной дробью)\n",
    "z_6: str = \"Просто текст\"  # z становится str (строкой)"
   ]
  },
  {
   "cell_type": "code",
   "execution_count": 12,
   "id": "72cc2a05",
   "metadata": {},
   "outputs": [
    {
     "name": "stdout",
     "output_type": "stream",
     "text": [
      "<class 'int'> <class 'float'> <class 'str'>\n"
     ]
    }
   ],
   "source": [
    "# узнаем тип переменных из предыдущего примера\n",
    "print(type(x_6), type(y_6), type(z_6))"
   ]
  },
  {
   "cell_type": "code",
   "execution_count": 13,
   "id": "38ae6f82",
   "metadata": {},
   "outputs": [
    {
     "name": "stdout",
     "output_type": "stream",
     "text": [
      "<class 'str'> <class 'int'> <class 'float'>\n"
     ]
    }
   ],
   "source": [
    "x_7: str = str(25)  # число 25 превратится в строку\n",
    "y_7: int = int(25)  # число 25 останется целочисленным значением\n",
    "z_7: float = float(25)  # число 25 превратится в десятичную дробь\n",
    "\n",
    "print(type(x_7), type(y_7), type(z_7))"
   ]
  },
  {
   "cell_type": "code",
   "execution_count": 14,
   "id": "cae4bfd0",
   "metadata": {},
   "outputs": [
    {
     "name": "stdout",
     "output_type": "stream",
     "text": [
      "<class 'int'>\n"
     ]
    }
   ],
   "source": [
    "# преобразуем строку, похожую на целое число, в целое число\n",
    "print(type(int(\"25\")))"
   ]
  },
  {
   "cell_type": "code",
   "execution_count": 15,
   "id": "b8a133dc",
   "metadata": {},
   "outputs": [
    {
     "name": "stdout",
     "output_type": "stream",
     "text": [
      "<class 'float'>\n"
     ]
    }
   ],
   "source": [
    "# или строку, похожую на дробь, в настоящую десятичную дробь\n",
    "print(type(float(\"2.5\")))"
   ]
  },
  {
   "cell_type": "code",
   "execution_count": 16,
   "id": "9d5c1fc8",
   "metadata": {},
   "outputs": [
    {
     "name": "stdout",
     "output_type": "stream",
     "text": [
      "36\n",
      "<class 'int'>\n"
     ]
    }
   ],
   "source": [
    "# преобразуем дробь в целочисленное значение\n",
    "# обратите внимание, что округления в большую сторону не происходит\n",
    "print(int(36.6))\n",
    "print(type(int(36.6)))"
   ]
  },
  {
   "cell_type": "code",
   "execution_count": 18,
   "id": "3e03a652",
   "metadata": {},
   "outputs": [
    {
     "name": "stdout",
     "output_type": "stream",
     "text": [
      "<class 'str'>\n",
      "<class 'str'>\n"
     ]
    }
   ],
   "source": [
    "# конечно, и целое число, и дробь можно преобразовать в строку\n",
    "print(type(str(25)))\n",
    "print(type(str(36.6)))"
   ]
  },
  {
   "cell_type": "code",
   "execution_count": null,
   "id": "682aadac",
   "metadata": {},
   "outputs": [],
   "source": [
    "# допустимые имена переменных\n",
    "#\n",
    "# variable: str = \"Просто переменная\"\n",
    "#\n",
    "# _variable: str = \"Просто переменная\"\n",
    "#\n",
    "# variable_: str = \"Просто переменная\"\n",
    "#\n",
    "# my_variable: str = \"Просто переменная\"\n",
    "#\n",
    "# My_variable_123: str = \"Просто переменная\""
   ]
  },
  {
   "cell_type": "code",
   "execution_count": 21,
   "id": "ed03b773",
   "metadata": {},
   "outputs": [],
   "source": [
    "# можно применить так называемый верблюжий регистр, camelCase\n",
    "# все слова кроме первого начинаются с заглавной буквы и пишутся слитно\n",
    "camelCaseVariable: str = \"Верблюжий регистр\"  # noqa: N816\n",
    "\n",
    "# нотацию Паскаль, PascalCase (аналогично)\n",
    "PascalCaseVariable: str = \"Нотация Паскаль\"\n",
    "\n",
    "# змеиный стиль, snake_case (с нижними подчеркиваниями)\n",
    "snake_case_variable: str = \"Змеиная нотация\""
   ]
  },
  {
   "cell_type": "code",
   "execution_count": 22,
   "id": "d46ec8c8",
   "metadata": {},
   "outputs": [],
   "source": [
    "# my-variable: str = \"Так делать нельзя\"\n",
    "# 123variable: str = \"Так делать нельзя\"\n",
    "# my variable: str = \"Так делать нельзя\""
   ]
  },
  {
   "cell_type": "code",
   "execution_count": null,
   "id": "16cbd3c9",
   "metadata": {},
   "outputs": [],
   "source": []
  }
 ],
 "metadata": {
  "kernelspec": {
   "display_name": "base",
   "language": "python",
   "name": "python3"
  },
  "language_info": {
   "codemirror_mode": {
    "name": "ipython",
    "version": 3
   },
   "file_extension": ".py",
   "mimetype": "text/x-python",
   "name": "python",
   "nbconvert_exporter": "python",
   "pygments_lexer": "ipython3",
   "version": "3.13.5"
  }
 },
 "nbformat": 4,
 "nbformat_minor": 5
}
