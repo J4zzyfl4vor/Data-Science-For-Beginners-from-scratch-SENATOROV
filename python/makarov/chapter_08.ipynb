{
 "cells": [
  {
   "cell_type": "code",
   "execution_count": 1,
   "id": "63677d65",
   "metadata": {},
   "outputs": [
    {
     "data": {
      "text/plain": [
       "'Списки, кортежи и множества.'"
      ]
     },
     "execution_count": 1,
     "metadata": {},
     "output_type": "execute_result"
    }
   ],
   "source": [
    "\"\"\"Списки, кортежи и множества.\"\"\""
   ]
  },
  {
   "cell_type": "code",
   "execution_count": 2,
   "id": "5a7b8be1",
   "metadata": {},
   "outputs": [],
   "source": [
    "# some_list_1 = []\n",
    "# some_list_2 = list()\n",
    "\n",
    "# print(some_list_1, some_list_2)"
   ]
  },
  {
   "cell_type": "code",
   "execution_count": 3,
   "id": "733877de",
   "metadata": {},
   "outputs": [],
   "source": [
    "# number_three = [3, 'число три', ['число', 'три'], {'число': 3}]\n",
    "# number_three"
   ]
  },
  {
   "cell_type": "code",
   "execution_count": 4,
   "id": "7d12e766",
   "metadata": {},
   "outputs": [],
   "source": [
    "# len(number_three)"
   ]
  },
  {
   "cell_type": "code",
   "execution_count": 5,
   "id": "a3b2c3d1",
   "metadata": {},
   "outputs": [],
   "source": [
    "# # создадим список из букв\n",
    "# abc_list = ['a', 'b', 'c', 'd', 'e']\n",
    "\n",
    "# # выведем первый и последний элементы\n",
    "# print(abc_list[0], abc_list[-1])"
   ]
  },
  {
   "cell_type": "code",
   "execution_count": 6,
   "id": "83e2f7c5",
   "metadata": {},
   "outputs": [],
   "source": [
    "# salary_list = [['Анна', 90000], ['Игорь', 85000], ['Алексей', 95000]]\n",
    "# salary_list[1][0]"
   ]
  },
  {
   "cell_type": "code",
   "execution_count": 7,
   "id": "b16db1b3",
   "metadata": {},
   "outputs": [],
   "source": [
    "# days_list = ['Пн', 'Вт', 'Ср', 'Чт', 'Пт', 'Сб', 'Вс']\n",
    "# days_list[1:5]"
   ]
  },
  {
   "cell_type": "code",
   "execution_count": 8,
   "id": "ad18796a",
   "metadata": {},
   "outputs": [],
   "source": [
    "# weekdays = ['Понедельник', 'Вторник']\n",
    "\n",
    "# weekdays.append('Четверг')\n",
    "# weekdays"
   ]
  },
  {
   "cell_type": "code",
   "execution_count": 9,
   "id": "cac77c52",
   "metadata": {},
   "outputs": [],
   "source": [
    "# # для этого методу .insert() мы передаем желаемый индекс нового элемента\n",
    "# # и сам этот элемент\n",
    "# weekdays.insert(2, 'Среда')\n",
    "# weekdays"
   ]
  },
  {
   "cell_type": "code",
   "execution_count": 10,
   "id": "69f61f9c",
   "metadata": {},
   "outputs": [],
   "source": [
    "# weekdays[3] = 'Пятница'\n",
    "# weekdays"
   ]
  },
  {
   "cell_type": "code",
   "execution_count": 11,
   "id": "8213edb3",
   "metadata": {},
   "outputs": [],
   "source": [
    "# # добавим к списку, в котором есть только понедельник, остальные дни\n",
    "# more_weekdays = ['Вторник', 'Среда', 'Четверг', 'Пятница']\n",
    "\n",
    "# weekdays.extend(more_weekdays)\n",
    "# weekdays"
   ]
  },
  {
   "cell_type": "code",
   "execution_count": 12,
   "id": "6bc27a51",
   "metadata": {},
   "outputs": [],
   "source": [
    "# # отсортируем список по возрастанию\n",
    "# nums = [25, 10, 30, 20, 5, 15]\n",
    "# sorted(nums)"
   ]
  },
  {
   "cell_type": "code",
   "execution_count": 13,
   "id": "d63203d3",
   "metadata": {},
   "outputs": [],
   "source": [
    "# # с помощью параметра reverse = True сортируем список по убыванию\n",
    "# nums.sort(reverse = True)\n",
    "# nums"
   ]
  },
  {
   "cell_type": "code",
   "execution_count": 14,
   "id": "a3e9f24a",
   "metadata": {},
   "outputs": [],
   "source": [
    "# joined_str = ''.join(str_list)\n",
    "# joined_str"
   ]
  },
  {
   "cell_type": "code",
   "execution_count": 15,
   "id": "1e37ab32",
   "metadata": {},
   "outputs": [],
   "source": [
    "# # создадим пустой список a_names\n",
    "# a_names = []\n",
    "\n",
    "# # пройдемся по списку имен\n",
    "# for name in names:\n",
    "\n",
    "#   # если имя начинается с 'А'\n",
    "#   if name.startswith('А'):\n",
    "\n",
    "#     # добавим его в список a_names\n",
    "#     a_names.append(name)\n",
    "\n",
    "# # посмотрим на результат\n",
    "# a_names"
   ]
  },
  {
   "cell_type": "code",
   "execution_count": 16,
   "id": "a553cb4f",
   "metadata": {},
   "outputs": [],
   "source": [
    "# a_names = [name for name in names if name.startswith('А')]\n",
    "# a_names"
   ]
  },
  {
   "cell_type": "code",
   "execution_count": 17,
   "id": "39f539ee",
   "metadata": {},
   "outputs": [],
   "source": [
    "# lower_names = [name.lower() for name in names]\n",
    "# lower_names"
   ]
  },
  {
   "cell_type": "code",
   "execution_count": 18,
   "id": "e7b5b9e3",
   "metadata": {},
   "outputs": [],
   "source": [
    "# # импортируем класс стеммера Портера\n",
    "# from nltk.stem import PorterStemmer\n",
    "\n",
    "# # и создаем объект этого класса\n",
    "# porter = PorterStemmer()\n",
    "\n",
    "# # применяем метод .stem() к каждому слову с помощью list comprehension\n",
    "# stemmed_p = [porter.stem(s) for s in lemmatized]\n",
    "# print(stemmed_p)"
   ]
  },
  {
   "cell_type": "code",
   "execution_count": 19,
   "id": "09b08ab3",
   "metadata": {},
   "outputs": [],
   "source": [
    "# # создадим кортеж\n",
    "# letters = ('a', 'b', 'c')\n",
    "\n",
    "# # и выведем его первый элемент\n",
    "# letters[0]"
   ]
  },
  {
   "cell_type": "code",
   "execution_count": 20,
   "id": "d12edfe4",
   "metadata": {},
   "outputs": [],
   "source": [
    "# # преобразуем кортеж в список через функцию list()\n",
    "# letters = list(letters)\n",
    "\n",
    "# # теперь элементы можно изменять\n",
    "# letters[0] = 'd'\n",
    "# letters"
   ]
  },
  {
   "cell_type": "code",
   "execution_count": 21,
   "id": "e1914465",
   "metadata": {},
   "outputs": [],
   "source": [
    "# # создадим список с названием трех компаний\n",
    "# companies = ['Microsoft', 'Apple', 'Tesla']\n",
    "\n",
    "# # и в цикле поместим результат работы функции enumerate()\n",
    "# # в одну переменную company\n",
    "# for company in enumerate(companies):\n",
    "#   print(company, type(company))"
   ]
  },
  {
   "cell_type": "code",
   "execution_count": 22,
   "id": "a15ef4c6",
   "metadata": {},
   "outputs": [],
   "source": [
    "# # снова возьмем список компаний\n",
    "# companies = ['Microsoft', 'Apple', 'Tesla']\n",
    "\n",
    "# # однако с функцией enumerate() используем две переменные\n",
    "# for i, company in enumerate(companies):\n",
    "#   print(i, company)"
   ]
  },
  {
   "cell_type": "code",
   "execution_count": 23,
   "id": "2685e196",
   "metadata": {},
   "outputs": [],
   "source": [
    "# shopping_dict = {'огурцы': 2, 'помидоры': 3, 'лук': 1, 'картофель': 2}\n",
    "\n",
    "# # используем две переменные с методом .items()\n",
    "# for k, v in shopping_dict.items():\n",
    "#   print(k, v)"
   ]
  },
  {
   "cell_type": "code",
   "execution_count": 24,
   "id": "6acdd4ff",
   "metadata": {},
   "outputs": [],
   "source": [
    "# # создадим одно пустое\n",
    "# set_1 = set()\n",
    "\n",
    "# # и два непустых множества с повторяющимся элементом 'c'\n",
    "# set_2 = set(['a', 'b', 'c', 'c'])\n",
    "# set_3 = {'a', 'b', 'c', 'c'}\n",
    "\n",
    "# print(set_1, set_2, set_3)"
   ]
  },
  {
   "cell_type": "code",
   "execution_count": 25,
   "id": "25bbef0b",
   "metadata": {},
   "outputs": [],
   "source": [
    "# set_A = {'a', 'b', 'c'}\n",
    "# set_B = {'a', 'b', 'c', 'd', 'e', 'f'}\n",
    "\n",
    "# set_A.issubset(set_B)"
   ]
  },
  {
   "cell_type": "code",
   "execution_count": 26,
   "id": "7d0faf6e",
   "metadata": {},
   "outputs": [],
   "source": [
    "# nlp = set(['Анна', 'Николай', 'Павел', 'Оксана'])\n",
    "# cv = set(['Николай', 'Евгений', 'Ольга', 'Оксана'])"
   ]
  }
 ],
 "metadata": {
  "kernelspec": {
   "display_name": "base",
   "language": "python",
   "name": "python3"
  },
  "language_info": {
   "codemirror_mode": {
    "name": "ipython",
    "version": 3
   },
   "file_extension": ".py",
   "mimetype": "text/x-python",
   "name": "python",
   "nbconvert_exporter": "python",
   "pygments_lexer": "ipython3",
   "version": "3.13.5"
  }
 },
 "nbformat": 4,
 "nbformat_minor": 5
}
