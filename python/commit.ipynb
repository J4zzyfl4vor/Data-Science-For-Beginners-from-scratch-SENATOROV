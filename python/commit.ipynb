{
 "cells": [
  {
   "cell_type": "code",
   "execution_count": 1,
   "id": "e89f34dd",
   "metadata": {},
   "outputs": [
    {
     "data": {
      "text/plain": [
       "'Issue commits.'"
      ]
     },
     "execution_count": 1,
     "metadata": {},
     "output_type": "execute_result"
    }
   ],
   "source": [
    "\"\"\"Issue commits.\"\"\""
   ]
  },
  {
   "cell_type": "markdown",
   "id": "3b770587",
   "metadata": {},
   "source": [
    "1) Опишите своими словами назначение каждого из этих типов коммитов:\n",
    "feat, fix, docs, style, refactor, test, build, ci, perf, chore.\n",
    "feat — добавление новой функциональности, которая приносит пользу пользователю. Например, новая кнопка, API-метод или возможность.\n",
    "fix — исправление ошибки в коде, которая влияла на работу программы. Устранение багов, некорректного поведения.\n",
    "docs — изменения в документации: README, комментарии в коде, руководства пользователя, API-документация.\n",
    "style — изменения форматирования кода без влияния на логику: отступы, пробелы, точки с запятой, порядок импортов.\n",
    "refactor — переработка кода для улучшения его структуры без изменения функциональности. Оптимизация, упрощение.\n",
    "test — добавление или изменение тестов: unit-тесты, интеграционные тесты, исправление существующих тестов.\n",
    "build — изменения в системе сборки проекта: настройки webpack, package.json, Dockerfile, скрипты сборки.\n",
    "ci — изменения в настройках непрерывной интеграции: GitHub Actions, Travis CI, Jenkins, pipeline конфигурации.\n",
    "perf — улучшения производительности кода без изменения внешней функциональности.\n",
    "chore — рутинные задачи, не связанные с кодом: обновление зависимостей, настройка инструментов разработки\n",
    "\n",
    "2) Представьте, что вы исправили баг в функции, которая некорректно округляет числа. Сделайте фиктивный коммит и напишите для него сообщение в соответствии с Conventional Commits (используя тип fix).\n",
    "git commit -m \"fix: correct number rounding in calculation function\n",
    "\n",
    "3) Добавление новой функциональности:\n",
    "Допустим, вы реализовали новую функцию generateReport в проекте. Сделайте фиктивный коммит с типом feat, отражающий добавление этой функциональности\n",
    "git commit -m \"feat: add generateReport function for data export\n",
    "\n",
    "4) Модификация формата кода или стилей:\n",
    "Представьте, что вы поправили отступы и форматирование во всём проекте, не меняя логики кода. Сделайте фиктивный коммит с типом style\n",
    "git commit -m \"style: standardize code formatting across project\n",
    "5) Документация и тестирование:\n",
    "Сделайте фиктивный коммит с типом docs, добавляющий или улучшающий документацию для вашей новой функции.\n",
    "git commit -m \"docs: add comprehensive documentation for generateReport function\n",
    "\n",
    "Сделайте фиктивный коммит с типом test, добавляющий тесты для этой же функции\n",
    "git commit -m \"test: add comprehensive test suite for generateReport function"
   ]
  }
 ],
 "metadata": {
  "kernelspec": {
   "display_name": "base",
   "language": "python",
   "name": "python3"
  },
  "language_info": {
   "codemirror_mode": {
    "name": "ipython",
    "version": 3
   },
   "file_extension": ".py",
   "mimetype": "text/x-python",
   "name": "python",
   "nbconvert_exporter": "python",
   "pygments_lexer": "ipython3",
   "version": "3.13.5"
  }
 },
 "nbformat": 4,
 "nbformat_minor": 5
}
